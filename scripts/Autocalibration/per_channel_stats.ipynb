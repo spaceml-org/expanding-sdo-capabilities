{
 "cells": [
  {
   "cell_type": "markdown",
   "metadata": {},
   "source": [
    "This notebook script will print out the per channel accuracy of a multi-channel architecture model"
   ]
  },
  {
   "cell_type": "code",
   "execution_count": 30,
   "metadata": {},
   "outputs": [],
   "source": [
    "import numpy as np\n",
    "\n",
    "import pandas as pd"
   ]
  },
  {
   "cell_type": "code",
   "execution_count": 26,
   "metadata": {},
   "outputs": [],
   "source": [
    "path = '/gpfs/gpfs_gl4_16mb/b9p111/fdl_sw/experiments_results/throwaway_40/0050_throwaway_40_test_predictions.npy'\n",
    "\n",
    "results = np.load(path)\n",
    "\n",
    "wavelengths = [\n",
    "  \"0094\",\n",
    "  \"0131\",\n",
    "  \"0171\",\n",
    "  \"0193\",\n",
    "  \"0211\",\n",
    "  \"0304\",\n",
    "  \"0335\"]\n",
    "num_channels = len(wavelengths)\n",
    "tolerance = 0.05"
   ]
  },
  {
   "cell_type": "code",
   "execution_count": 42,
   "metadata": {},
   "outputs": [],
   "source": [
    "primary_metrics = [0] * num_channels\n",
    "for c in range(num_channels):\n",
    "  gt = results[:, c, 0]\n",
    "  pred = results[:, c, 1]\n",
    "  \n",
    "  diff = np.abs(pred - gt)\n",
    "  \n",
    "  batch_size = diff.shape[0]\n",
    "  n_elems = batch_size\n",
    "  \n",
    "  primary_metrics[c] = np.sum(diff < tolerance, dtype=np.float32) / n_elems\n",
    "\n",
    "df = pd.DataFrame(np.array(primary_metrics)[np.newaxis, :], columns=wavelengths)"
   ]
  },
  {
   "cell_type": "code",
   "execution_count": 43,
   "metadata": {},
   "outputs": [
    {
     "data": {
      "text/html": [
       "<div>\n",
       "<style scoped>\n",
       "    .dataframe tbody tr th:only-of-type {\n",
       "        vertical-align: middle;\n",
       "    }\n",
       "\n",
       "    .dataframe tbody tr th {\n",
       "        vertical-align: top;\n",
       "    }\n",
       "\n",
       "    .dataframe thead th {\n",
       "        text-align: right;\n",
       "    }\n",
       "</style>\n",
       "<table border=\"1\" class=\"dataframe\">\n",
       "  <thead>\n",
       "    <tr style=\"text-align: right;\">\n",
       "      <th></th>\n",
       "      <th>0094</th>\n",
       "      <th>0131</th>\n",
       "      <th>0171</th>\n",
       "      <th>0193</th>\n",
       "      <th>0211</th>\n",
       "      <th>0304</th>\n",
       "      <th>0335</th>\n",
       "    </tr>\n",
       "  </thead>\n",
       "  <tbody>\n",
       "    <tr>\n",
       "      <th>0</th>\n",
       "      <td>0.872648</td>\n",
       "      <td>0.914616</td>\n",
       "      <td>0.968162</td>\n",
       "      <td>0.858177</td>\n",
       "      <td>0.767004</td>\n",
       "      <td>0.916064</td>\n",
       "      <td>0.771346</td>\n",
       "    </tr>\n",
       "  </tbody>\n",
       "</table>\n",
       "</div>"
      ],
      "text/plain": [
       "       0094      0131      0171      0193      0211      0304      0335\n",
       "0  0.872648  0.914616  0.968162  0.858177  0.767004  0.916064  0.771346"
      ]
     },
     "execution_count": 43,
     "metadata": {},
     "output_type": "execute_result"
    }
   ],
   "source": [
    "df"
   ]
  },
  {
   "cell_type": "code",
   "execution_count": null,
   "metadata": {},
   "outputs": [],
   "source": []
  }
 ],
 "metadata": {
  "kernelspec": {
   "display_name": "Python 3",
   "language": "python",
   "name": "python3"
  },
  "language_info": {
   "codemirror_mode": {
    "name": "ipython",
    "version": 3
   },
   "file_extension": ".py",
   "mimetype": "text/x-python",
   "name": "python",
   "nbconvert_exporter": "python",
   "pygments_lexer": "ipython3",
   "version": "3.6.8"
  }
 },
 "nbformat": 4,
 "nbformat_minor": 2
}
