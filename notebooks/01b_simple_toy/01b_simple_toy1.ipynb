{
 "cells": [
  {
   "cell_type": "code",
   "execution_count": 72,
   "metadata": {},
   "outputs": [],
   "source": [
    "import torch\n",
    "import torchvision\n",
    "\n",
    "import torch.nn as nn\n",
    "import torch.nn.functional as F\n",
    "import torch.optim as optim"
   ]
  },
  {
   "cell_type": "code",
   "execution_count": 73,
   "metadata": {},
   "outputs": [],
   "source": [
    "%matplotlib inline\n",
    "import matplotlib.pyplot as plt"
   ]
  },
  {
   "cell_type": "code",
   "execution_count": 74,
   "metadata": {},
   "outputs": [
    {
     "name": "stdout",
     "output_type": "stream",
     "text": [
      "Using device cuda for training\n"
     ]
    }
   ],
   "source": [
    "n_epochs = 3\n",
    "batch_size_train = 64\n",
    "batch_size_test = 1000\n",
    "# TODO: Change to second order optimizer.\n",
    "learning_rate = 0.01\n",
    "momentum = 0.5\n",
    "log_interval = 10\n",
    "\n",
    "mnist_global_mean = 0.1307\n",
    "mnist_std = 0.3081\n",
    "\n",
    "random_seed = 1\n",
    "torch.manual_seed(random_seed)\n",
    "\n",
    "torch.backends.cudnn.enabled = True\n",
    "device = torch.device(\"cuda\" if torch.cuda.is_available() else \"cpu\")\n",
    "print(\"Using device {} for training\".format(device))"
   ]
  },
  {
   "cell_type": "code",
   "execution_count": 75,
   "metadata": {},
   "outputs": [],
   "source": [
    "train_loader = torch.utils.data.DataLoader(\n",
    "  torchvision.datasets.MNIST('../data/', train=True, download=True,\n",
    "                             transform=torchvision.transforms.Compose([\n",
    "                               torchvision.transforms.ToTensor(),\n",
    "                               torchvision.transforms.Normalize(\n",
    "                                 (mnist_global_mean,), (mnist_std,))\n",
    "                             ])),\n",
    "  batch_size=batch_size_train, shuffle=True)"
   ]
  },
  {
   "cell_type": "code",
   "execution_count": 76,
   "metadata": {},
   "outputs": [],
   "source": [
    "# TODO: See if setting num_workers > 1 or using pin_memory can help with CPU/GPU transfers.\n",
    "test_loader = torch.utils.data.DataLoader(\n",
    "  torchvision.datasets.MNIST('../data/', train=False, download=True,\n",
    "                             transform=torchvision.transforms.Compose([\n",
    "                               torchvision.transforms.ToTensor(),\n",
    "                               torchvision.transforms.Normalize(\n",
    "                                 (mnist_global_mean,), (mnist_std,))\n",
    "                             ])),\n",
    "  batch_size=batch_size_test, shuffle=True)"
   ]
  },
  {
   "cell_type": "code",
   "execution_count": 77,
   "metadata": {},
   "outputs": [],
   "source": [
    "examples = enumerate(test_loader)\n",
    "batch_idx, (example_data, example_targets) = next(examples)\n",
    "\n",
    "# TODO: By default the backgrounds are black and the text is white; invert this."
   ]
  },
  {
   "cell_type": "code",
   "execution_count": 78,
   "metadata": {},
   "outputs": [
    {
     "data": {
      "image/png": "[encoded data removed]",
      "text/plain": [
       "<Figure size 432x288 with 6 Axes>"
      ]
     },
     "execution_count": 78,
     "metadata": {},
     "output_type": "execute_result"
    },
    {
     "data": {
      "image/png": "[encoded data removed]",
      "text/plain": [
       "<Figure size 432x288 with 6 Axes>"
      ]
     },
     "metadata": {},
     "output_type": "display_data"
    }
   ],
   "source": [
    "fig = plt.figure()\n",
    "for i in range(6):\n",
    "  plt.subplot(2, 3, i+1)\n",
    "  plt.tight_layout()\n",
    "  plt.imshow(example_data[i][0], cmap='gray', interpolation='none')\n",
    "  plt.title(\"Ground Truth: {}\".format(example_targets[i]))\n",
    "  plt.xticks([])\n",
    "  plt.yticks([])\n",
    "fig"
   ]
  },
  {
   "cell_type": "code",
   "execution_count": 79,
   "metadata": {},
   "outputs": [],
   "source": [
    "class Net(nn.Module):\n",
    "  def __init__(self):\n",
    "    super(Net, self).__init__()\n",
    "    self.conv1 = nn.Conv2d(1, 10, kernel_size=5)\n",
    "    self.conv2 = nn.Conv2d(10, 20, kernel_size=5)\n",
    "    self.conv2_drop = nn.Dropout2d()\n",
    "    self.fc1 = nn.Linear(320, 50)\n",
    "    self.fc2 = nn.Linear(50, 10)\n",
    "\n",
    "  def forward(self, x):\n",
    "    x = F.relu(F.max_pool2d(self.conv1(x), 2))\n",
    "    x = F.relu(F.max_pool2d(self.conv2_drop(self.conv2(x)), 2))\n",
    "    x = x.view(-1, 320)\n",
    "    x = F.relu(self.fc1(x))\n",
    "    x = F.dropout(x, training=self.training)\n",
    "    x = self.fc2(x)\n",
    "    return F.log_softmax(x)"
   ]
  },
  {
   "cell_type": "code",
   "execution_count": 80,
   "metadata": {},
   "outputs": [],
   "source": [
    "network = Net()\n",
    "network.cuda()\n",
    "optimizer = optim.SGD(network.parameters(), lr=learning_rate,\n",
    "                      momentum=momentum)"
   ]
  },
  {
   "cell_type": "code",
   "execution_count": 81,
   "metadata": {},
   "outputs": [],
   "source": [
    "train_losses, train_counter, test_losses = [], [], []\n",
    "test_counter = [i * len(train_loader.dataset) for i in range(n_epochs + 1)]"
   ]
  },
  {
   "cell_type": "code",
   "execution_count": 82,
   "metadata": {},
   "outputs": [],
   "source": [
    "def train(epoch):\n",
    "  network.train()\n",
    "  for batch_idx, (data, target) in enumerate(train_loader):\n",
    "    data = data.to(device)\n",
    "    target = target.to(device)\n",
    "    optimizer.zero_grad()\n",
    "    output = network(data)\n",
    "    output = output.to(device)\n",
    "    loss = F.nll_loss(output, target)\n",
    "    loss.backward()\n",
    "    optimizer.step()\n",
    "    if batch_idx % log_interval == 0:\n",
    "      print('Train Epoch: {} [{}/{} ({:.0f}%)]\\tLoss: {:.6f}'.format(\n",
    "        epoch, batch_idx * len(data), len(train_loader.dataset),\n",
    "        100.0 * batch_idx / len(train_loader), loss.item()))\n",
    "      train_losses.append(loss.item())\n",
    "      train_counter.append(\n",
    "        (batch_idx * 64) + ((epoch - 1) * len(train_loader.dataset)))\n",
    "      results_path = '../training_results/01b_simple_toy1/'\n",
    "      torch.save(network.state_dict(), results_path + 'model.pth')\n",
    "      torch.save(optimizer.state_dict(), results_path + 'optimizer.pth')"
   ]
  },
  {
   "cell_type": "code",
   "execution_count": 83,
   "metadata": {},
   "outputs": [],
   "source": [
    "def test():\n",
    "  network.eval()\n",
    "  test_loss = 0\n",
    "  correct = 0\n",
    "  with torch.no_grad():\n",
    "    for data, target in test_loader:\n",
    "      data = data.to(device)\n",
    "      target = target.to(device)\n",
    "      output = network(data)\n",
    "      output = output.to(device)\n",
    "      # TODO: Handle the deprecation warning for log_softmax needing an explicit 'dim' argument\n",
    "      test_loss += F.nll_loss(output, target, size_average=False).item()\n",
    "      pred = output.data.max(1, keepdim=True)[1]\n",
    "      correct += pred.eq(target.data.view_as(pred)).sum()\n",
    "  test_loss /= len(test_loader.dataset)\n",
    "  test_losses.append(test_loss)\n",
    "  print('\\nTest set: Avg. loss: {:.4f}, Accuracy: {}/{} ({:.0f}%)\\n'.format(\n",
    "        test_loss, correct, len(test_loader.dataset),\n",
    "        100.0 * correct / len(test_loader.dataset)))"
   ]
  },
  {
   "cell_type": "code",
   "execution_count": 84,
   "metadata": {},
   "outputs": [
    {
     "name": "stderr",
     "output_type": "stream",
     "text": [
      "/gpfs/gpfs_gl4_16mb/b9p111/fdl_sw/conda/envs/wmlce_py3_sdo/lib/python3.6/site-packages/ipykernel_launcher.py:17: UserWarning: Implicit dimension choice for log_softmax has been deprecated. Change the call to include dim=X as an argument.\n"
     ]
    },
    {
     "name": "stdout",
     "output_type": "stream",
     "text": [
      "\n",
      "Test set: Avg. loss: 2.3004, Accuracy: 751/10000 (7%)\n",
      "\n",
      "Train Epoch: 1 [0/60000 (0%)]\tLoss: 2.278280\n",
      "Train Epoch: 1 [640/60000 (1%)]\tLoss: 2.279819\n",
      "Train Epoch: 1 [1280/60000 (2%)]\tLoss: 2.262904\n",
      "Train Epoch: 1 [1920/60000 (3%)]\tLoss: 2.256571\n",
      "Train Epoch: 1 [2560/60000 (4%)]\tLoss: 2.301888\n",
      "Train Epoch: 1 [3200/60000 (5%)]\tLoss: 2.189036\n",
      "Train Epoch: 1 [3840/60000 (6%)]\tLoss: 2.182645\n",
      "Train Epoch: 1 [4480/60000 (7%)]\tLoss: 2.071776\n",
      "Train Epoch: 1 [5120/60000 (9%)]\tLoss: 2.033747\n",
      "Train Epoch: 1 [5760/60000 (10%)]\tLoss: 2.080227\n",
      "Train Epoch: 1 [6400/60000 (11%)]\tLoss: 1.933419\n",
      "Train Epoch: 1 [7040/60000 (12%)]\tLoss: 1.735479\n",
      "Train Epoch: 1 [7680/60000 (13%)]\tLoss: 1.913359\n",
      "Train Epoch: 1 [8320/60000 (14%)]\tLoss: 1.753751\n",
      "Train Epoch: 1 [8960/60000 (15%)]\tLoss: 1.448043\n",
      "Train Epoch: 1 [9600/60000 (16%)]\tLoss: 1.495531\n",
      "Train Epoch: 1 [10240/60000 (17%)]\tLoss: 1.326040\n",
      "Train Epoch: 1 [10880/60000 (18%)]\tLoss: 1.445123\n",
      "Train Epoch: 1 [11520/60000 (19%)]\tLoss: 1.298863\n",
      "Train Epoch: 1 [12160/60000 (20%)]\tLoss: 1.268083\n",
      "Train Epoch: 1 [12800/60000 (21%)]\tLoss: 1.076386\n",
      "Train Epoch: 1 [13440/60000 (22%)]\tLoss: 1.395465\n",
      "Train Epoch: 1 [14080/60000 (23%)]\tLoss: 1.070376\n",
      "Train Epoch: 1 [14720/60000 (25%)]\tLoss: 0.941292\n",
      "Train Epoch: 1 [15360/60000 (26%)]\tLoss: 1.124457\n",
      "Train Epoch: 1 [16000/60000 (27%)]\tLoss: 1.264238\n",
      "Train Epoch: 1 [16640/60000 (28%)]\tLoss: 1.060384\n",
      "Train Epoch: 1 [17280/60000 (29%)]\tLoss: 0.957997\n",
      "Train Epoch: 1 [17920/60000 (30%)]\tLoss: 0.829249\n",
      "Train Epoch: 1 [18560/60000 (31%)]\tLoss: 0.828280\n",
      "Train Epoch: 1 [19200/60000 (32%)]\tLoss: 0.919879\n",
      "Train Epoch: 1 [19840/60000 (33%)]\tLoss: 0.768400\n",
      "Train Epoch: 1 [20480/60000 (34%)]\tLoss: 0.810185\n",
      "Train Epoch: 1 [21120/60000 (35%)]\tLoss: 0.872984\n",
      "Train Epoch: 1 [21760/60000 (36%)]\tLoss: 0.902740\n",
      "Train Epoch: 1 [22400/60000 (37%)]\tLoss: 0.938786\n",
      "Train Epoch: 1 [23040/60000 (38%)]\tLoss: 0.968390\n",
      "Train Epoch: 1 [23680/60000 (39%)]\tLoss: 0.862967\n",
      "Train Epoch: 1 [24320/60000 (41%)]\tLoss: 0.735026\n",
      "Train Epoch: 1 [24960/60000 (42%)]\tLoss: 0.879533\n",
      "Train Epoch: 1 [25600/60000 (43%)]\tLoss: 0.788887\n",
      "Train Epoch: 1 [26240/60000 (44%)]\tLoss: 0.700852\n",
      "Train Epoch: 1 [26880/60000 (45%)]\tLoss: 0.764316\n",
      "Train Epoch: 1 [27520/60000 (46%)]\tLoss: 0.773133\n",
      "Train Epoch: 1 [28160/60000 (47%)]\tLoss: 1.146105\n",
      "Train Epoch: 1 [28800/60000 (48%)]\tLoss: 0.889480\n",
      "Train Epoch: 1 [29440/60000 (49%)]\tLoss: 0.619934\n",
      "Train Epoch: 1 [30080/60000 (50%)]\tLoss: 1.210353\n",
      "Train Epoch: 1 [30720/60000 (51%)]\tLoss: 0.752604\n",
      "Train Epoch: 1 [31360/60000 (52%)]\tLoss: 0.803101\n",
      "Train Epoch: 1 [32000/60000 (53%)]\tLoss: 0.654553\n",
      "Train Epoch: 1 [32640/60000 (54%)]\tLoss: 0.514195\n",
      "Train Epoch: 1 [33280/60000 (55%)]\tLoss: 0.796926\n",
      "Train Epoch: 1 [33920/60000 (57%)]\tLoss: 0.574374\n",
      "Train Epoch: 1 [34560/60000 (58%)]\tLoss: 0.779835\n",
      "Train Epoch: 1 [35200/60000 (59%)]\tLoss: 0.558167\n",
      "Train Epoch: 1 [35840/60000 (60%)]\tLoss: 0.613444\n",
      "Train Epoch: 1 [36480/60000 (61%)]\tLoss: 0.489970\n",
      "Train Epoch: 1 [37120/60000 (62%)]\tLoss: 0.587004\n",
      "Train Epoch: 1 [37760/60000 (63%)]\tLoss: 0.511001\n",
      "Train Epoch: 1 [38400/60000 (64%)]\tLoss: 0.729041\n",
      "Train Epoch: 1 [39040/60000 (65%)]\tLoss: 0.634223\n",
      "Train Epoch: 1 [39680/60000 (66%)]\tLoss: 0.487923\n",
      "Train Epoch: 1 [40320/60000 (67%)]\tLoss: 0.771236\n",
      "Train Epoch: 1 [40960/60000 (68%)]\tLoss: 0.593373\n",
      "Train Epoch: 1 [41600/60000 (69%)]\tLoss: 0.402184\n",
      "Train Epoch: 1 [42240/60000 (70%)]\tLoss: 0.607496\n",
      "Train Epoch: 1 [42880/60000 (71%)]\tLoss: 0.432838\n",
      "Train Epoch: 1 [43520/60000 (72%)]\tLoss: 0.816260\n",
      "Train Epoch: 1 [44160/60000 (74%)]\tLoss: 0.502726\n",
      "Train Epoch: 1 [44800/60000 (75%)]\tLoss: 0.613866\n",
      "Train Epoch: 1 [45440/60000 (76%)]\tLoss: 0.594827\n",
      "Train Epoch: 1 [46080/60000 (77%)]\tLoss: 0.718704\n",
      "Train Epoch: 1 [46720/60000 (78%)]\tLoss: 0.843666\n",
      "Train Epoch: 1 [47360/60000 (79%)]\tLoss: 0.523953\n",
      "Train Epoch: 1 [48000/60000 (80%)]\tLoss: 0.355900\n",
      "Train Epoch: 1 [48640/60000 (81%)]\tLoss: 0.415854\n",
      "Train Epoch: 1 [49280/60000 (82%)]\tLoss: 0.617451\n",
      "Train Epoch: 1 [49920/60000 (83%)]\tLoss: 0.408030\n",
      "Train Epoch: 1 [50560/60000 (84%)]\tLoss: 0.520106\n",
      "Train Epoch: 1 [51200/60000 (85%)]\tLoss: 0.511691\n",
      "Train Epoch: 1 [51840/60000 (86%)]\tLoss: 0.443784\n",
      "Train Epoch: 1 [52480/60000 (87%)]\tLoss: 0.750631\n",
      "Train Epoch: 1 [53120/60000 (88%)]\tLoss: 0.611905\n",
      "Train Epoch: 1 [53760/60000 (90%)]\tLoss: 0.593699\n",
      "Train Epoch: 1 [54400/60000 (91%)]\tLoss: 0.545786\n",
      "Train Epoch: 1 [55040/60000 (92%)]\tLoss: 0.511566\n",
      "Train Epoch: 1 [55680/60000 (93%)]\tLoss: 0.521755\n",
      "Train Epoch: 1 [56320/60000 (94%)]\tLoss: 0.559393\n",
      "Train Epoch: 1 [56960/60000 (95%)]\tLoss: 0.588727\n",
      "Train Epoch: 1 [57600/60000 (96%)]\tLoss: 0.410491\n",
      "Train Epoch: 1 [58240/60000 (97%)]\tLoss: 0.454421\n",
      "Train Epoch: 1 [58880/60000 (98%)]\tLoss: 0.551768\n",
      "Train Epoch: 1 [59520/60000 (99%)]\tLoss: 0.339052\n",
      "\n",
      "Test set: Avg. loss: 0.2059, Accuracy: 9429/10000 (94%)\n",
      "\n",
      "Train Epoch: 2 [0/60000 (0%)]\tLoss: 0.314451\n",
      "Train Epoch: 2 [640/60000 (1%)]\tLoss: 0.456888\n",
      "Train Epoch: 2 [1280/60000 (2%)]\tLoss: 0.529817\n",
      "Train Epoch: 2 [1920/60000 (3%)]\tLoss: 0.469983\n",
      "Train Epoch: 2 [2560/60000 (4%)]\tLoss: 0.629998\n",
      "Train Epoch: 2 [3200/60000 (5%)]\tLoss: 0.427426\n",
      "Train Epoch: 2 [3840/60000 (6%)]\tLoss: 0.585799\n",
      "Train Epoch: 2 [4480/60000 (7%)]\tLoss: 0.439075\n",
      "Train Epoch: 2 [5120/60000 (9%)]\tLoss: 0.367632\n",
      "Train Epoch: 2 [5760/60000 (10%)]\tLoss: 0.468264\n",
      "Train Epoch: 2 [6400/60000 (11%)]\tLoss: 0.582264\n",
      "Train Epoch: 2 [7040/60000 (12%)]\tLoss: 0.426951\n",
      "Train Epoch: 2 [7680/60000 (13%)]\tLoss: 0.407096\n",
      "Train Epoch: 2 [8320/60000 (14%)]\tLoss: 0.404757\n",
      "Train Epoch: 2 [8960/60000 (15%)]\tLoss: 0.527270\n",
      "Train Epoch: 2 [9600/60000 (16%)]\tLoss: 0.395536\n",
      "Train Epoch: 2 [10240/60000 (17%)]\tLoss: 0.437120\n",
      "Train Epoch: 2 [10880/60000 (18%)]\tLoss: 0.547182\n",
      "Train Epoch: 2 [11520/60000 (19%)]\tLoss: 0.463911\n",
      "Train Epoch: 2 [12160/60000 (20%)]\tLoss: 0.556126\n",
      "Train Epoch: 2 [12800/60000 (21%)]\tLoss: 0.418986\n",
      "Train Epoch: 2 [13440/60000 (22%)]\tLoss: 0.337641\n",
      "Train Epoch: 2 [14080/60000 (23%)]\tLoss: 0.338841\n",
      "Train Epoch: 2 [14720/60000 (25%)]\tLoss: 0.507533\n",
      "Train Epoch: 2 [15360/60000 (26%)]\tLoss: 0.332443\n",
      "Train Epoch: 2 [16000/60000 (27%)]\tLoss: 0.388231\n",
      "Train Epoch: 2 [16640/60000 (28%)]\tLoss: 0.257852\n",
      "Train Epoch: 2 [17280/60000 (29%)]\tLoss: 0.270622\n",
      "Train Epoch: 2 [17920/60000 (30%)]\tLoss: 0.372739\n",
      "Train Epoch: 2 [18560/60000 (31%)]\tLoss: 0.379448\n",
      "Train Epoch: 2 [19200/60000 (32%)]\tLoss: 0.441236\n",
      "Train Epoch: 2 [19840/60000 (33%)]\tLoss: 0.438999\n",
      "Train Epoch: 2 [20480/60000 (34%)]\tLoss: 0.509100\n",
      "Train Epoch: 2 [21120/60000 (35%)]\tLoss: 0.486356\n",
      "Train Epoch: 2 [21760/60000 (36%)]\tLoss: 0.283584\n",
      "Train Epoch: 2 [22400/60000 (37%)]\tLoss: 0.426515\n",
      "Train Epoch: 2 [23040/60000 (38%)]\tLoss: 0.469349\n",
      "Train Epoch: 2 [23680/60000 (39%)]\tLoss: 0.634660\n",
      "Train Epoch: 2 [24320/60000 (41%)]\tLoss: 0.283584\n",
      "Train Epoch: 2 [24960/60000 (42%)]\tLoss: 0.210411\n",
      "Train Epoch: 2 [25600/60000 (43%)]\tLoss: 0.409021\n",
      "Train Epoch: 2 [26240/60000 (44%)]\tLoss: 0.492578\n",
      "Train Epoch: 2 [26880/60000 (45%)]\tLoss: 0.324631\n",
      "Train Epoch: 2 [27520/60000 (46%)]\tLoss: 0.287065\n",
      "Train Epoch: 2 [28160/60000 (47%)]\tLoss: 0.610623\n",
      "Train Epoch: 2 [28800/60000 (48%)]\tLoss: 0.489500\n",
      "Train Epoch: 2 [29440/60000 (49%)]\tLoss: 0.461950\n",
      "Train Epoch: 2 [30080/60000 (50%)]\tLoss: 0.239079\n",
      "Train Epoch: 2 [30720/60000 (51%)]\tLoss: 0.559648\n",
      "Train Epoch: 2 [31360/60000 (52%)]\tLoss: 0.468244\n",
      "Train Epoch: 2 [32000/60000 (53%)]\tLoss: 0.382695\n",
      "Train Epoch: 2 [32640/60000 (54%)]\tLoss: 0.391080\n",
      "Train Epoch: 2 [33280/60000 (55%)]\tLoss: 0.292572\n",
      "Train Epoch: 2 [33920/60000 (57%)]\tLoss: 0.323697\n",
      "Train Epoch: 2 [34560/60000 (58%)]\tLoss: 0.437038\n",
      "Train Epoch: 2 [35200/60000 (59%)]\tLoss: 0.337344\n",
      "Train Epoch: 2 [35840/60000 (60%)]\tLoss: 0.358108\n",
      "Train Epoch: 2 [36480/60000 (61%)]\tLoss: 0.396415\n",
      "Train Epoch: 2 [37120/60000 (62%)]\tLoss: 0.302021\n",
      "Train Epoch: 2 [37760/60000 (63%)]\tLoss: 0.355252\n",
      "Train Epoch: 2 [38400/60000 (64%)]\tLoss: 0.361867\n",
      "Train Epoch: 2 [39040/60000 (65%)]\tLoss: 0.229058\n",
      "Train Epoch: 2 [39680/60000 (66%)]\tLoss: 0.326474\n",
      "Train Epoch: 2 [40320/60000 (67%)]\tLoss: 0.491808\n",
      "Train Epoch: 2 [40960/60000 (68%)]\tLoss: 0.714989\n",
      "Train Epoch: 2 [41600/60000 (69%)]\tLoss: 0.476061\n",
      "Train Epoch: 2 [42240/60000 (70%)]\tLoss: 0.317243\n",
      "Train Epoch: 2 [42880/60000 (71%)]\tLoss: 0.208791\n",
      "Train Epoch: 2 [43520/60000 (72%)]\tLoss: 0.310718\n",
      "Train Epoch: 2 [44160/60000 (74%)]\tLoss: 0.352407\n",
      "Train Epoch: 2 [44800/60000 (75%)]\tLoss: 0.184640\n",
      "Train Epoch: 2 [45440/60000 (76%)]\tLoss: 0.388940\n",
      "Train Epoch: 2 [46080/60000 (77%)]\tLoss: 0.565789\n",
      "Train Epoch: 2 [46720/60000 (78%)]\tLoss: 0.684020\n",
      "Train Epoch: 2 [47360/60000 (79%)]\tLoss: 0.413966\n",
      "Train Epoch: 2 [48000/60000 (80%)]\tLoss: 0.419003\n",
      "Train Epoch: 2 [48640/60000 (81%)]\tLoss: 0.335959\n",
      "Train Epoch: 2 [49280/60000 (82%)]\tLoss: 0.177612\n",
      "Train Epoch: 2 [49920/60000 (83%)]\tLoss: 0.248453\n",
      "Train Epoch: 2 [50560/60000 (84%)]\tLoss: 0.234052\n",
      "Train Epoch: 2 [51200/60000 (85%)]\tLoss: 0.404698\n",
      "Train Epoch: 2 [51840/60000 (86%)]\tLoss: 0.303509\n",
      "Train Epoch: 2 [52480/60000 (87%)]\tLoss: 0.345401\n",
      "Train Epoch: 2 [53120/60000 (88%)]\tLoss: 0.268646\n",
      "Train Epoch: 2 [53760/60000 (90%)]\tLoss: 0.358272\n",
      "Train Epoch: 2 [54400/60000 (91%)]\tLoss: 0.490855\n",
      "Train Epoch: 2 [55040/60000 (92%)]\tLoss: 0.393620\n",
      "Train Epoch: 2 [55680/60000 (93%)]\tLoss: 0.581062\n",
      "Train Epoch: 2 [56320/60000 (94%)]\tLoss: 0.586269\n",
      "Train Epoch: 2 [56960/60000 (95%)]\tLoss: 0.403473\n",
      "Train Epoch: 2 [57600/60000 (96%)]\tLoss: 0.208335\n",
      "Train Epoch: 2 [58240/60000 (97%)]\tLoss: 0.260851\n",
      "Train Epoch: 2 [58880/60000 (98%)]\tLoss: 0.535059\n",
      "Train Epoch: 2 [59520/60000 (99%)]\tLoss: 0.614744\n",
      "\n",
      "Test set: Avg. loss: 0.1215, Accuracy: 9638/10000 (96%)\n",
      "\n",
      "Train Epoch: 3 [0/60000 (0%)]\tLoss: 0.380470\n",
      "Train Epoch: 3 [640/60000 (1%)]\tLoss: 0.364792\n",
      "Train Epoch: 3 [1280/60000 (2%)]\tLoss: 0.297640\n",
      "Train Epoch: 3 [1920/60000 (3%)]\tLoss: 0.441353\n",
      "Train Epoch: 3 [2560/60000 (4%)]\tLoss: 0.623490\n",
      "Train Epoch: 3 [3200/60000 (5%)]\tLoss: 0.353260\n",
      "Train Epoch: 3 [3840/60000 (6%)]\tLoss: 0.334162\n",
      "Train Epoch: 3 [4480/60000 (7%)]\tLoss: 0.478223\n",
      "Train Epoch: 3 [5120/60000 (9%)]\tLoss: 0.376326\n",
      "Train Epoch: 3 [5760/60000 (10%)]\tLoss: 0.379408\n",
      "Train Epoch: 3 [6400/60000 (11%)]\tLoss: 0.257009\n",
      "Train Epoch: 3 [7040/60000 (12%)]\tLoss: 0.345438\n",
      "Train Epoch: 3 [7680/60000 (13%)]\tLoss: 0.253750\n",
      "Train Epoch: 3 [8320/60000 (14%)]\tLoss: 0.206676\n",
      "Train Epoch: 3 [8960/60000 (15%)]\tLoss: 0.205296\n",
      "Train Epoch: 3 [9600/60000 (16%)]\tLoss: 0.378633\n",
      "Train Epoch: 3 [10240/60000 (17%)]\tLoss: 0.484094\n",
      "Train Epoch: 3 [10880/60000 (18%)]\tLoss: 0.381536\n",
      "Train Epoch: 3 [11520/60000 (19%)]\tLoss: 0.233729\n",
      "Train Epoch: 3 [12160/60000 (20%)]\tLoss: 0.392467\n",
      "Train Epoch: 3 [12800/60000 (21%)]\tLoss: 0.287068\n",
      "Train Epoch: 3 [13440/60000 (22%)]\tLoss: 0.301571\n",
      "Train Epoch: 3 [14080/60000 (23%)]\tLoss: 0.333087\n",
      "Train Epoch: 3 [14720/60000 (25%)]\tLoss: 0.370565\n",
      "Train Epoch: 3 [15360/60000 (26%)]\tLoss: 0.317570\n",
      "Train Epoch: 3 [16000/60000 (27%)]\tLoss: 0.269743\n",
      "Train Epoch: 3 [16640/60000 (28%)]\tLoss: 0.374692\n",
      "Train Epoch: 3 [17280/60000 (29%)]\tLoss: 0.179397\n",
      "Train Epoch: 3 [17920/60000 (30%)]\tLoss: 0.440871\n",
      "Train Epoch: 3 [18560/60000 (31%)]\tLoss: 0.290021\n",
      "Train Epoch: 3 [19200/60000 (32%)]\tLoss: 0.260789\n",
      "Train Epoch: 3 [19840/60000 (33%)]\tLoss: 0.260894\n",
      "Train Epoch: 3 [20480/60000 (34%)]\tLoss: 0.387343\n",
      "Train Epoch: 3 [21120/60000 (35%)]\tLoss: 0.193519\n",
      "Train Epoch: 3 [21760/60000 (36%)]\tLoss: 0.242317\n",
      "Train Epoch: 3 [22400/60000 (37%)]\tLoss: 0.350653\n",
      "Train Epoch: 3 [23040/60000 (38%)]\tLoss: 0.329921\n",
      "Train Epoch: 3 [23680/60000 (39%)]\tLoss: 0.258639\n",
      "Train Epoch: 3 [24320/60000 (41%)]\tLoss: 0.189316\n",
      "Train Epoch: 3 [24960/60000 (42%)]\tLoss: 0.262685\n",
      "Train Epoch: 3 [25600/60000 (43%)]\tLoss: 0.291130\n",
      "Train Epoch: 3 [26240/60000 (44%)]\tLoss: 0.270858\n",
      "Train Epoch: 3 [26880/60000 (45%)]\tLoss: 0.199409\n",
      "Train Epoch: 3 [27520/60000 (46%)]\tLoss: 0.132288\n",
      "Train Epoch: 3 [28160/60000 (47%)]\tLoss: 0.449868\n",
      "Train Epoch: 3 [28800/60000 (48%)]\tLoss: 0.451343\n",
      "Train Epoch: 3 [29440/60000 (49%)]\tLoss: 0.472769\n",
      "Train Epoch: 3 [30080/60000 (50%)]\tLoss: 0.369768\n",
      "Train Epoch: 3 [30720/60000 (51%)]\tLoss: 0.224250\n",
      "Train Epoch: 3 [31360/60000 (52%)]\tLoss: 0.433100\n",
      "Train Epoch: 3 [32000/60000 (53%)]\tLoss: 0.299135\n",
      "Train Epoch: 3 [32640/60000 (54%)]\tLoss: 0.413304\n",
      "Train Epoch: 3 [33280/60000 (55%)]\tLoss: 0.411575\n",
      "Train Epoch: 3 [33920/60000 (57%)]\tLoss: 0.199197\n",
      "Train Epoch: 3 [34560/60000 (58%)]\tLoss: 0.431043\n",
      "Train Epoch: 3 [35200/60000 (59%)]\tLoss: 0.503675\n",
      "Train Epoch: 3 [35840/60000 (60%)]\tLoss: 0.318205\n",
      "Train Epoch: 3 [36480/60000 (61%)]\tLoss: 0.244423\n",
      "Train Epoch: 3 [37120/60000 (62%)]\tLoss: 0.188207\n",
      "Train Epoch: 3 [37760/60000 (63%)]\tLoss: 0.320828\n",
      "Train Epoch: 3 [38400/60000 (64%)]\tLoss: 0.416366\n",
      "Train Epoch: 3 [39040/60000 (65%)]\tLoss: 0.162821\n",
      "Train Epoch: 3 [39680/60000 (66%)]\tLoss: 0.231554\n",
      "Train Epoch: 3 [40320/60000 (67%)]\tLoss: 0.262635\n",
      "Train Epoch: 3 [40960/60000 (68%)]\tLoss: 0.409449\n",
      "Train Epoch: 3 [41600/60000 (69%)]\tLoss: 0.353052\n",
      "Train Epoch: 3 [42240/60000 (70%)]\tLoss: 0.456738\n",
      "Train Epoch: 3 [42880/60000 (71%)]\tLoss: 0.326671\n",
      "Train Epoch: 3 [43520/60000 (72%)]\tLoss: 0.513428\n",
      "Train Epoch: 3 [44160/60000 (74%)]\tLoss: 0.296890\n",
      "Train Epoch: 3 [44800/60000 (75%)]\tLoss: 0.287770\n",
      "Train Epoch: 3 [45440/60000 (76%)]\tLoss: 0.205236\n",
      "Train Epoch: 3 [46080/60000 (77%)]\tLoss: 0.245361\n",
      "Train Epoch: 3 [46720/60000 (78%)]\tLoss: 0.285393\n",
      "Train Epoch: 3 [47360/60000 (79%)]\tLoss: 0.335780\n",
      "Train Epoch: 3 [48000/60000 (80%)]\tLoss: 0.342033\n",
      "Train Epoch: 3 [48640/60000 (81%)]\tLoss: 0.229975\n",
      "Train Epoch: 3 [49280/60000 (82%)]\tLoss: 0.239526\n",
      "Train Epoch: 3 [49920/60000 (83%)]\tLoss: 0.145175\n",
      "Train Epoch: 3 [50560/60000 (84%)]\tLoss: 0.128668\n",
      "Train Epoch: 3 [51200/60000 (85%)]\tLoss: 0.220646\n",
      "Train Epoch: 3 [51840/60000 (86%)]\tLoss: 0.308564\n",
      "Train Epoch: 3 [52480/60000 (87%)]\tLoss: 0.334768\n",
      "Train Epoch: 3 [53120/60000 (88%)]\tLoss: 0.264674\n",
      "Train Epoch: 3 [53760/60000 (90%)]\tLoss: 0.197400\n",
      "Train Epoch: 3 [54400/60000 (91%)]\tLoss: 0.339223\n",
      "Train Epoch: 3 [55040/60000 (92%)]\tLoss: 0.284053\n",
      "Train Epoch: 3 [55680/60000 (93%)]\tLoss: 0.309809\n",
      "Train Epoch: 3 [56320/60000 (94%)]\tLoss: 0.223751\n",
      "Train Epoch: 3 [56960/60000 (95%)]\tLoss: 0.181855\n",
      "Train Epoch: 3 [57600/60000 (96%)]\tLoss: 0.507829\n",
      "Train Epoch: 3 [58240/60000 (97%)]\tLoss: 0.392450\n",
      "Train Epoch: 3 [58880/60000 (98%)]\tLoss: 0.430570\n",
      "Train Epoch: 3 [59520/60000 (99%)]\tLoss: 0.403534\n",
      "\n",
      "Test set: Avg. loss: 0.0974, Accuracy: 9694/10000 (96%)\n",
      "\n"
     ]
    }
   ],
   "source": [
    "test()\n",
    "for epoch in range(1, n_epochs + 1):\n",
    "  train(epoch)\n",
    "  test()"
   ]
  },
  {
   "cell_type": "code",
   "execution_count": 85,
   "metadata": {},
   "outputs": [
    {
     "data": {
      "text/plain": [
       "(282, 282)"
      ]
     },
     "execution_count": 85,
     "metadata": {},
     "output_type": "execute_result"
    }
   ],
   "source": [
    "len(train_counter), len(train_losses)"
   ]
  },
  {
   "cell_type": "code",
   "execution_count": 86,
   "metadata": {},
   "outputs": [
    {
     "data": {
      "text/plain": [
       "(4, 4)"
      ]
     },
     "execution_count": 86,
     "metadata": {},
     "output_type": "execute_result"
    }
   ],
   "source": [
    "len(test_counter), len(test_losses)"
   ]
  },
  {
   "cell_type": "code",
   "execution_count": 87,
   "metadata": {},
   "outputs": [
    {
     "data": {
      "image/png": "[encoded data removed]",
      "text/plain": [
       "<Figure size 432x288 with 1 Axes>"
      ]
     },
     "execution_count": 87,
     "metadata": {},
     "output_type": "execute_result"
    },
    {
     "data": {
      "image/png": "[encoded data removed]",
      "text/plain": [
       "<Figure size 432x288 with 1 Axes>"
      ]
     },
     "metadata": {
      "needs_background": "light"
     },
     "output_type": "display_data"
    }
   ],
   "source": [
    "fig = plt.figure()\n",
    "plt.plot(train_counter, train_losses, color='blue')\n",
    "plt.scatter(test_counter, test_losses, color='red')\n",
    "plt.legend(['Train Loss', 'Test Loss'], loc='upper right')\n",
    "plt.xlabel('number of training examples seen')\n",
    "plt.ylabel('negative log likelihood loss')\n",
    "fig"
   ]
  },
  {
   "cell_type": "code",
   "execution_count": null,
   "metadata": {},
   "outputs": [],
   "source": []
  },
  {
   "cell_type": "code",
   "execution_count": null,
   "metadata": {},
   "outputs": [],
   "source": []
  }
 ],
 "metadata": {
  "kernelspec": {
   "display_name": "Python 3",
   "language": "python",
   "name": "python3"
  },
  "language_info": {
   "codemirror_mode": {
    "name": "ipython",
    "version": 3
   },
   "file_extension": ".py",
   "mimetype": "text/x-python",
   "name": "python",
   "nbconvert_exporter": "python",
   "pygments_lexer": "ipython3",
   "version": "3.6.8"
  }
 },
 "nbformat": 4,
 "nbformat_minor": 2
}
