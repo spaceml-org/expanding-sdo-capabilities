{
 "cells": [
  {
   "cell_type": "markdown",
   "metadata": {},
   "source": [
    "# \"Standard Candle\" Toy 3: Brightness MNIST\n",
    "\n",
    "Randomly adjust the brightness of each MNIST sample. The output of the network is still just the MNIST number label, not the brightness yet."
   ]
  },
  {
   "cell_type": "markdown",
   "metadata": {},
   "source": [
    "Note that this notebook should be run from the `notebooks/` subdirectory."
   ]
  },
  {
   "cell_type": "markdown",
   "metadata": {},
   "source": [
    "## Setup"
   ]
  },
  {
   "cell_type": "code",
   "execution_count": 14,
   "metadata": {},
   "outputs": [],
   "source": [
    "# NOTE: Change this to what the notebook name is for each experiment to ensure\n",
    "# training results are saved into the right sub-directory.\n",
    "notebook_name = '03b_simple_toy1'\n",
    "\n",
    "import random\n",
    "import os\n",
    "\n",
    "import torch\n",
    "import torchvision\n",
    "import torch.nn as nn\n",
    "import torch.nn.functional as F\n",
    "import torch.optim as optim\n",
    "\n",
    "import numpy as np\n",
    "\n",
    "%matplotlib inline\n",
    "import matplotlib.pyplot as plt\n",
    "\n",
    "from PIL import Image"
   ]
  },
  {
   "cell_type": "code",
   "execution_count": 20,
   "metadata": {},
   "outputs": [],
   "source": [
    "# Protective code to ensure we always reset the random seed when doing training, or else\n",
    "# code won't be reproducible.\n",
    "if 'training_runs_count' not in globals():\n",
    "  training_runs_count = 0\n",
    "if 'seed_reset_count' not in globals():\n",
    "  seed_reset_count = 0\n",
    "\n",
    "root_path = '../..' # Relative to: notebooks/01b_simple_toy\n",
    "training_results_path = os.path.join(root_path, 'training_results')\n",
    "data_path = os.path.join(root_path, 'data')\n",
    "results_path = os.path.join(training_results_path, notebook_name)\n",
    "model_path = os.path.join(results_path, 'model.pth')\n",
    "optimizer_path = os.path.join(results_path, 'optimizer.pth')\n",
    "for path in [training_results_path, data_path, results_path]:\n",
    "  if not os.path.exists(path):\n",
    "    print('{} does not exist; creating directory...'.format(os.path.abspath(path)))\n",
    "    os.mkdir(path)\n",
    "\n",
    "n_epochs = 8\n",
    "batch_size_train = 64\n",
    "batch_size_test = 1000\n",
    "log_interval = 10\n",
    "\n",
    "# TODO: Calculate these dynamically; test on the old MNIST dataset.\n",
    "mnist_global_mean = 0.1307\n",
    "mnist_std = 0.3081"
   ]
  },
  {
   "cell_type": "code",
   "execution_count": 21,
   "metadata": {},
   "outputs": [
    {
     "name": "stdout",
     "output_type": "stream",
     "text": [
      "Using device cuda:0 for training, current device: 0, total devices: 6\n"
     ]
    }
   ],
   "source": [
    "cuda_device = 0\n",
    "torch.backends.cudnn.enabled = True\n",
    "if not torch.cuda.is_available():\n",
    "  raise RuntimeError(\"CUDA not available! Unable to continue\")\n",
    "# Force ourselves to use only one GPU.\n",
    "device = torch.device(\"cuda:{}\".format(cuda_device))\n",
    "print(\"Using device {} for training, current device: {}, total devices: {}\".format(\n",
    "  device, torch.cuda.current_device(), torch.cuda.device_count()))\n",
    "\n",
    "random_seed = 1\n",
    "np.random.seed(random_seed)\n",
    "random.seed(random_seed)\n",
    "torch.manual_seed(random_seed)\n",
    "torch.cuda.manual_seed(random_seed)\n",
    "torch.backends.cudnn.deterministic = True\n",
    "torch.backends.cudnn.benchmark = False\n",
    "os.environ['PYTHONHASHSEED'] = str(random_seed)\n",
    "seed_reset_count += 1\n"
   ]
  },
  {
   "cell_type": "code",
   "execution_count": 22,
   "metadata": {},
   "outputs": [],
   "source": [
    "class BrightnessMNIST(torchvision.datasets.MNIST):\n",
    "  def __getitem__(self, index):\n",
    "    img, target = self.data[index], int(self.targets[index])\n",
    "    \n",
    "    # Randomly change the brightness.\n",
    "    brightness_alpha = np.round((0.10 - 1.0) * np.random.rand() + 1.0, decimals=2)\n",
    "    img = (img.numpy() * brightness_alpha).astype(np.float32)\n",
    "    \n",
    "    #img = img[np.newaxis, ...] # (1, 28, 28)\n",
    "    \n",
    "    if self.transform is not None:\n",
    "        img = self.transform(img)\n",
    "\n",
    "    if self.target_transform is not None:\n",
    "        target = self.target_transform(target)\n",
    "    \n",
    "    # TODO: Return the brightness_alpha along with the target values.\n",
    "    #     return (torch.from_numpy(img),\n",
    "    #             torch.from_numpy(np.array([target, brightness_alpha])))\n",
    "    return img, target"
   ]
  },
  {
   "cell_type": "code",
   "execution_count": 23,
   "metadata": {},
   "outputs": [],
   "source": [
    "# TODO: The original MNIST code had a global mean and std normalization;\n",
    "# ToTensor() does naive per sample mean and normalization. See if going back\n",
    "# to global helps.\n",
    "\n",
    "# TODO: See if setting num_workers > 1 or using pin_memory can help with CPU/GPU transfers.\n",
    "\n",
    "# TODO: Actually calculate a correct mean and std value.\n",
    "transforms = torchvision.transforms.Compose([\n",
    "  torchvision.transforms.ToTensor(),\n",
    "  torchvision.transforms.Normalize((mnist_global_mean,), (mnist_std,))\n",
    "])\n",
    "\n",
    "train_loader = torch.utils.data.DataLoader(\n",
    "  BrightnessMNIST('../../data/', train=True, download=True, transform=transforms),\n",
    "  batch_size=batch_size_train, shuffle=True)\n",
    "\n",
    "test_loader = torch.utils.data.DataLoader(\n",
    "  BrightnessMNIST('../../data/', train=False, download=True, transform=transforms),\n",
    "  batch_size=batch_size_test, shuffle=True)"
   ]
  },
  {
   "cell_type": "code",
   "execution_count": 24,
   "metadata": {},
   "outputs": [
    {
     "data": {
      "image/png": "[encoded data removed]",
      "text/plain": [
       "<PIL.Image.Image image mode=L size=64x64 at 0x200104683D68>"
      ]
     },
     "metadata": {},
     "output_type": "display_data"
    },
    {
     "data": {
      "image/png": "[encoded data removed]",
      "text/plain": [
       "<PIL.Image.Image image mode=L size=64x64 at 0x200104683CF8>"
      ]
     },
     "metadata": {},
     "output_type": "display_data"
    },
    {
     "data": {
      "image/png": "[encoded data removed]",
      "text/plain": [
       "<PIL.Image.Image image mode=L size=64x64 at 0x200104683D68>"
      ]
     },
     "metadata": {},
     "output_type": "display_data"
    },
    {
     "data": {
      "image/png": "[encoded data removed]",
      "text/plain": [
       "<PIL.Image.Image image mode=L size=64x64 at 0x200104683CF8>"
      ]
     },
     "metadata": {},
     "output_type": "display_data"
    },
    {
     "data": {
      "image/png": "[encoded data removed]",
      "text/plain": [
       "<PIL.Image.Image image mode=L size=64x64 at 0x200104683D68>"
      ]
     },
     "metadata": {},
     "output_type": "display_data"
    },
    {
     "data": {
      "image/png": "[encoded data removed]",
      "text/plain": [
       "<PIL.Image.Image image mode=L size=64x64 at 0x200104683CF8>"
      ]
     },
     "metadata": {},
     "output_type": "display_data"
    },
    {
     "data": {
      "image/png": "[encoded data removed]",
      "text/plain": [
       "<PIL.Image.Image image mode=L size=64x64 at 0x200104683D68>"
      ]
     },
     "metadata": {},
     "output_type": "display_data"
    },
    {
     "data": {
      "image/png": "[encoded data removed]",
      "text/plain": [
       "<PIL.Image.Image image mode=L size=64x64 at 0x200104683CF8>"
      ]
     },
     "metadata": {},
     "output_type": "display_data"
    },
    {
     "data": {
      "image/png": "[encoded data removed]",
      "text/plain": [
       "<PIL.Image.Image image mode=L size=64x64 at 0x200104683D68>"
      ]
     },
     "metadata": {},
     "output_type": "display_data"
    },
    {
     "data": {
      "image/png": "[encoded data removed]",
      "text/plain": [
       "<PIL.Image.Image image mode=L size=64x64 at 0x200104683CF8>"
      ]
     },
     "metadata": {},
     "output_type": "display_data"
    },
    {
     "data": {
      "image/png": "[encoded data removed]",
      "text/plain": [
       "<PIL.Image.Image image mode=L size=64x64 at 0x200104683D68>"
      ]
     },
     "metadata": {},
     "output_type": "display_data"
    },
    {
     "data": {
      "image/png": "[encoded data removed]",
      "text/plain": [
       "<PIL.Image.Image image mode=L size=64x64 at 0x200104683CF8>"
      ]
     },
     "metadata": {},
     "output_type": "display_data"
    },
    {
     "data": {
      "image/png": "[encoded data removed]",
      "text/plain": [
       "<PIL.Image.Image image mode=L size=64x64 at 0x200104683D68>"
      ]
     },
     "metadata": {},
     "output_type": "display_data"
    },
    {
     "data": {
      "image/png": "[encoded data removed]",
      "text/plain": [
       "<PIL.Image.Image image mode=L size=64x64 at 0x200104683CF8>"
      ]
     },
     "metadata": {},
     "output_type": "display_data"
    },
    {
     "data": {
      "image/png": "[encoded data removed]",
      "text/plain": [
       "<PIL.Image.Image image mode=L size=64x64 at 0x200104683D68>"
      ]
     },
     "metadata": {},
     "output_type": "display_data"
    },
    {
     "data": {
      "image/png": "[encoded data removed]",
      "text/plain": [
       "<PIL.Image.Image image mode=L size=64x64 at 0x200104683CF8>"
      ]
     },
     "metadata": {},
     "output_type": "display_data"
    },
    {
     "data": {
      "image/png": "[encoded data removed]",
      "text/plain": [
       "<PIL.Image.Image image mode=L size=64x64 at 0x200104683D68>"
      ]
     },
     "metadata": {},
     "output_type": "display_data"
    },
    {
     "data": {
      "image/png": "[encoded data removed]",
      "text/plain": [
       "<PIL.Image.Image image mode=L size=64x64 at 0x200104683CF8>"
      ]
     },
     "metadata": {},
     "output_type": "display_data"
    },
    {
     "data": {
      "image/png": "[encoded data removed]",
      "text/plain": [
       "<PIL.Image.Image image mode=L size=64x64 at 0x200104683D68>"
      ]
     },
     "metadata": {},
     "output_type": "display_data"
    },
    {
     "data": {
      "image/png": "[encoded data removed]",
      "text/plain": [
       "<PIL.Image.Image image mode=L size=64x64 at 0x200104683CF8>"
      ]
     },
     "metadata": {},
     "output_type": "display_data"
    },
    {
     "data": {
      "image/png": "[encoded data removed]",
      "text/plain": [
       "<PIL.Image.Image image mode=L size=64x64 at 0x200104683D68>"
      ]
     },
     "metadata": {},
     "output_type": "display_data"
    },
    {
     "data": {
      "image/png": "[encoded data removed]",
      "text/plain": [
       "<PIL.Image.Image image mode=L size=64x64 at 0x200104683CF8>"
      ]
     },
     "metadata": {},
     "output_type": "display_data"
    },
    {
     "data": {
      "image/png": "[encoded data removed]",
      "text/plain": [
       "<PIL.Image.Image image mode=L size=64x64 at 0x200104683D68>"
      ]
     },
     "metadata": {},
     "output_type": "display_data"
    },
    {
     "data": {
      "image/png": "[encoded data removed]",
      "text/plain": [
       "<PIL.Image.Image image mode=L size=64x64 at 0x200104683CF8>"
      ]
     },
     "metadata": {},
     "output_type": "display_data"
    },
    {
     "data": {
      "image/png": "[encoded data removed]",
      "text/plain": [
       "<PIL.Image.Image image mode=L size=64x64 at 0x200104683D68>"
      ]
     },
     "metadata": {},
     "output_type": "display_data"
    },
    {
     "data": {
      "image/png": "[encoded data removed]",
      "text/plain": [
       "<PIL.Image.Image image mode=L size=64x64 at 0x200104683CF8>"
      ]
     },
     "metadata": {},
     "output_type": "display_data"
    },
    {
     "data": {
      "image/png": "[encoded data removed]",
      "text/plain": [
       "<PIL.Image.Image image mode=L size=64x64 at 0x200104683D68>"
      ]
     },
     "metadata": {},
     "output_type": "display_data"
    },
    {
     "data": {
      "image/png": "[encoded data removed]",
      "text/plain": [
       "<PIL.Image.Image image mode=L size=64x64 at 0x200104683CF8>"
      ]
     },
     "metadata": {},
     "output_type": "display_data"
    },
    {
     "data": {
      "image/png": "[encoded data removed]",
      "text/plain": [
       "<PIL.Image.Image image mode=L size=64x64 at 0x200104683D68>"
      ]
     },
     "metadata": {},
     "output_type": "display_data"
    },
    {
     "data": {
      "image/png": "[encoded data removed]",
      "text/plain": [
       "<PIL.Image.Image image mode=L size=64x64 at 0x200104683CF8>"
      ]
     },
     "metadata": {},
     "output_type": "display_data"
    },
    {
     "data": {
      "image/png": "[encoded data removed]",
      "text/plain": [
       "<PIL.Image.Image image mode=L size=64x64 at 0x200104683D68>"
      ]
     },
     "metadata": {},
     "output_type": "display_data"
    },
    {
     "data": {
      "image/png": "[encoded data removed]",
      "text/plain": [
       "<PIL.Image.Image image mode=L size=64x64 at 0x200104683B38>"
      ]
     },
     "metadata": {},
     "output_type": "display_data"
    },
    {
     "data": {
      "image/png": "[encoded data removed]",
      "text/plain": [
       "<PIL.Image.Image image mode=L size=64x64 at 0x2000FAE547B8>"
      ]
     },
     "metadata": {},
     "output_type": "display_data"
    },
    {
     "data": {
      "image/png": "[encoded data removed]",
      "text/plain": [
       "<PIL.Image.Image image mode=L size=64x64 at 0x200104683B38>"
      ]
     },
     "metadata": {},
     "output_type": "display_data"
    },
    {
     "data": {
      "image/png": "[encoded data removed]",
      "text/plain": [
       "<PIL.Image.Image image mode=L size=64x64 at 0x200104683CF8>"
      ]
     },
     "metadata": {},
     "output_type": "display_data"
    },
    {
     "data": {
      "image/png": "[encoded data removed]",
      "text/plain": [
       "<PIL.Image.Image image mode=L size=64x64 at 0x200104683B38>"
      ]
     },
     "metadata": {},
     "output_type": "display_data"
    },
    {
     "data": {
      "image/png": "[encoded data removed]",
      "text/plain": [
       "<PIL.Image.Image image mode=L size=64x64 at 0x2000FAE547B8>"
      ]
     },
     "metadata": {},
     "output_type": "display_data"
    },
    {
     "data": {
      "image/png": "[encoded data removed]",
      "text/plain": [
       "<PIL.Image.Image image mode=L size=64x64 at 0x200104683B38>"
      ]
     },
     "metadata": {},
     "output_type": "display_data"
    },
    {
     "data": {
      "image/png": "[encoded data removed]",
      "text/plain": [
       "<PIL.Image.Image image mode=L size=64x64 at 0x200104683D68>"
      ]
     },
     "metadata": {},
     "output_type": "display_data"
    },
    {
     "data": {
      "image/png": "[encoded data removed]",
      "text/plain": [
       "<PIL.Image.Image image mode=L size=64x64 at 0x200104683B38>"
      ]
     },
     "metadata": {},
     "output_type": "display_data"
    },
    {
     "data": {
      "image/png": "[encoded data removed]",
      "text/plain": [
       "<PIL.Image.Image image mode=L size=64x64 at 0x200104683D68>"
      ]
     },
     "metadata": {},
     "output_type": "display_data"
    },
    {
     "data": {
      "image/png": "[encoded data removed]",
      "text/plain": [
       "<PIL.Image.Image image mode=L size=64x64 at 0x200104683B38>"
      ]
     },
     "metadata": {},
     "output_type": "display_data"
    },
    {
     "data": {
      "image/png": "[encoded data removed]",
      "text/plain": [
       "<PIL.Image.Image image mode=L size=64x64 at 0x200104683D68>"
      ]
     },
     "metadata": {},
     "output_type": "display_data"
    },
    {
     "data": {
      "image/png": "[encoded data removed]",
      "text/plain": [
       "<PIL.Image.Image image mode=L size=64x64 at 0x200104683B38>"
      ]
     },
     "metadata": {},
     "output_type": "display_data"
    },
    {
     "data": {
      "image/png": "[encoded data removed]",
      "text/plain": [
       "<PIL.Image.Image image mode=L size=64x64 at 0x200104683D68>"
      ]
     },
     "metadata": {},
     "output_type": "display_data"
    },
    {
     "data": {
      "image/png": "[encoded data removed]",
      "text/plain": [
       "<PIL.Image.Image image mode=L size=64x64 at 0x200104683B38>"
      ]
     },
     "metadata": {},
     "output_type": "display_data"
    },
    {
     "data": {
      "image/png": "[encoded data removed]",
      "text/plain": [
       "<PIL.Image.Image image mode=L size=64x64 at 0x200104683D68>"
      ]
     },
     "metadata": {},
     "output_type": "display_data"
    },
    {
     "data": {
      "image/png": "[encoded data removed]",
      "text/plain": [
       "<PIL.Image.Image image mode=L size=64x64 at 0x200104683B38>"
      ]
     },
     "metadata": {},
     "output_type": "display_data"
    },
    {
     "data": {
      "image/png": "[encoded data removed]",
      "text/plain": [
       "<PIL.Image.Image image mode=L size=64x64 at 0x200104683D68>"
      ]
     },
     "metadata": {},
     "output_type": "display_data"
    },
    {
     "data": {
      "image/png": "[encoded data removed]",
      "text/plain": [
       "<PIL.Image.Image image mode=L size=64x64 at 0x200104683B38>"
      ]
     },
     "metadata": {},
     "output_type": "display_data"
    },
    {
     "data": {
      "image/png": "[encoded data removed]",
      "text/plain": [
       "<PIL.Image.Image image mode=L size=64x64 at 0x200104683D68>"
      ]
     },
     "metadata": {},
     "output_type": "display_data"
    },
    {
     "data": {
      "image/png": "[encoded data removed]",
      "text/plain": [
       "<PIL.Image.Image image mode=L size=64x64 at 0x200104683B38>"
      ]
     },
     "metadata": {},
     "output_type": "display_data"
    },
    {
     "data": {
      "image/png": "[encoded data removed]",
      "text/plain": [
       "<PIL.Image.Image image mode=L size=64x64 at 0x200104683D68>"
      ]
     },
     "metadata": {},
     "output_type": "display_data"
    },
    {
     "data": {
      "image/png": "[encoded data removed]",
      "text/plain": [
       "<PIL.Image.Image image mode=L size=64x64 at 0x200104683B38>"
      ]
     },
     "metadata": {},
     "output_type": "display_data"
    },
    {
     "data": {
      "image/png": "[encoded data removed]",
      "text/plain": [
       "<PIL.Image.Image image mode=L size=64x64 at 0x200104683D68>"
      ]
     },
     "metadata": {},
     "output_type": "display_data"
    },
    {
     "data": {
      "image/png": "[encoded data removed]",
      "text/plain": [
       "<PIL.Image.Image image mode=L size=64x64 at 0x200104683B38>"
      ]
     },
     "metadata": {},
     "output_type": "display_data"
    },
    {
     "data": {
      "image/png": "[encoded data removed]",
      "text/plain": [
       "<PIL.Image.Image image mode=L size=64x64 at 0x200104683D68>"
      ]
     },
     "metadata": {},
     "output_type": "display_data"
    },
    {
     "data": {
      "image/png": "[encoded data removed]",
      "text/plain": [
       "<PIL.Image.Image image mode=L size=64x64 at 0x200104683B38>"
      ]
     },
     "metadata": {},
     "output_type": "display_data"
    },
    {
     "data": {
      "image/png": "[encoded data removed]",
      "text/plain": [
       "<PIL.Image.Image image mode=L size=64x64 at 0x200104683D68>"
      ]
     },
     "metadata": {},
     "output_type": "display_data"
    },
    {
     "data": {
      "image/png": "[encoded data removed]",
      "text/plain": [
       "<PIL.Image.Image image mode=L size=64x64 at 0x200104683B38>"
      ]
     },
     "metadata": {},
     "output_type": "display_data"
    },
    {
     "data": {
      "image/png": "[encoded data removed]",
      "text/plain": [
       "<PIL.Image.Image image mode=L size=64x64 at 0x200104683D68>"
      ]
     },
     "metadata": {},
     "output_type": "display_data"
    },
    {
     "data": {
      "image/png": "[encoded data removed]",
      "text/plain": [
       "<PIL.Image.Image image mode=L size=64x64 at 0x200104683B38>"
      ]
     },
     "metadata": {},
     "output_type": "display_data"
    },
    {
     "data": {
      "image/png": "[encoded data removed]",
      "text/plain": [
       "<PIL.Image.Image image mode=L size=64x64 at 0x200104683D68>"
      ]
     },
     "metadata": {},
     "output_type": "display_data"
    },
    {
     "data": {
      "image/png": "[encoded data removed]",
      "text/plain": [
       "<PIL.Image.Image image mode=L size=64x64 at 0x200104683B38>"
      ]
     },
     "metadata": {},
     "output_type": "display_data"
    }
   ],
   "source": [
    "examples = enumerate(train_loader)\n",
    "batch_idx, (example_data, example_targets) = next(examples)\n",
    "\n",
    "for (data, targets) in zip(example_data, example_targets):\n",
    "  im = Image.fromarray(data.numpy()[0].astype(np.uint8)).resize([64, 64])\n",
    "  display(im)"
   ]
  },
  {
   "cell_type": "code",
   "execution_count": 25,
   "metadata": {},
   "outputs": [],
   "source": [
    "class Net(nn.Module):\n",
    "  def __init__(self):\n",
    "    super(Net, self).__init__()\n",
    "    self.conv1 = nn.Conv2d(in_channels=1, out_channels=10, kernel_size=5)\n",
    "    self.conv2 = nn.Conv2d(in_channels=10, out_channels=20, kernel_size=5)\n",
    "    self.conv2_drop = nn.Dropout2d()\n",
    "    self.fc1 = nn.Linear(in_features=320, out_features=50)\n",
    "    self.fc2 = nn.Linear(in_features=50, out_features=10)\n",
    "    \n",
    "  def forward(self, x):\n",
    "    x = F.relu(F.max_pool2d(self.conv1(x), kernel_size=2))\n",
    "    x = F.relu(F.max_pool2d(self.conv2_drop(self.conv2(x)), kernel_size=2))\n",
    "    x = x.view(-1, 320)\n",
    "    x = F.relu(self.fc1(x))\n",
    "    x = F.dropout(x, training=self.training)\n",
    "    x = self.fc2(x)\n",
    "    return F.log_softmax(x)\n",
    "\n",
    "model = Net()\n",
    "model.cuda()\n",
    "\n",
    "# Use a second-order optimizer like Adam so that we don't need to deal with things\n",
    "# like learning rates and momentum.\n",
    "optimizer = torch.optim.Adam(model.parameters())\n",
    "\n",
    "train_losses, train_counter, test_losses = [], [], []\n",
    "test_counter = [i * len(train_loader.dataset) for i in range(n_epochs + 1)]\n",
    "\n",
    "def train(epoch):\n",
    "  model.train()\n",
    "  for batch_idx, (data, target) in enumerate(train_loader):\n",
    "    data = data.to(device)\n",
    "    target = target.to(device)\n",
    "    optimizer.zero_grad()\n",
    "    output = model(data)\n",
    "    output = output.to(device)\n",
    "    loss = F.nll_loss(output, target)\n",
    "    loss.backward()\n",
    "    optimizer.step()\n",
    "    if batch_idx % log_interval == 0:\n",
    "      print('Train Epoch: {} [{}/{} ({:.0f}%)]\\tLoss: {:.6f}'.format(\n",
    "        epoch, batch_idx * len(data), len(train_loader.dataset),\n",
    "        100.0 * batch_idx / len(train_loader), loss.item()))\n",
    "      train_losses.append(loss.item())\n",
    "      train_counter.append(\n",
    "        (batch_idx * 64) + ((epoch - 1) * len(train_loader.dataset)))\n",
    "      torch.save(model.state_dict(), model_path)\n",
    "      torch.save(optimizer.state_dict(), optimizer_path)\n",
    "\n",
    "def test():\n",
    "  model.eval()\n",
    "  test_loss = 0\n",
    "  correct = 0\n",
    "  with torch.no_grad():\n",
    "    for data, target in test_loader:\n",
    "      data = data.to(device)\n",
    "      target = target.to(device)\n",
    "      output = model(data)\n",
    "      output = output.to(device)\n",
    "      # TODO: Handle the deprecation warning for log_softmax needing an explicit 'dim' argument\n",
    "      test_loss += F.nll_loss(output, target, size_average=False).item()\n",
    "      pred = output.data.max(1, keepdim=True)[1]\n",
    "      correct += pred.eq(target.data.view_as(pred)).sum()\n",
    "  test_loss /= len(test_loader.dataset)\n",
    "  test_losses.append(test_loss)\n",
    "  print('\\nTest set: Avg. loss: {:.4f}, Accuracy: {}/{} ({:.0f}%)\\n'.format(\n",
    "        test_loss, correct, len(test_loader.dataset),\n",
    "        100.0 * correct / len(test_loader.dataset)))"
   ]
  },
  {
   "cell_type": "markdown",
   "metadata": {},
   "source": [
    "## Do the actual training"
   ]
  },
  {
   "cell_type": "code",
   "execution_count": 26,
   "metadata": {},
   "outputs": [
    {
     "name": "stderr",
     "output_type": "stream",
     "text": [
      "/gpfs/gpfs_gl4_16mb/b9p111/fdl_sw/conda/envs/wmlce_py3_sdo/lib/python3.6/site-packages/ipykernel_launcher.py:17: UserWarning: Implicit dimension choice for log_softmax has been deprecated. Change the call to include dim=X as an argument.\n"
     ]
    },
    {
     "name": "stdout",
     "output_type": "stream",
     "text": [
      "\n",
      "Test set: Avg. loss: 20.5575, Accuracy: 1502/10000 (15%)\n",
      "\n",
      "Train Epoch: 1 [0/60000 (0%)]\tLoss: 37.102276\n",
      "Train Epoch: 1 [640/60000 (1%)]\tLoss: 5.627738\n",
      "Train Epoch: 1 [1280/60000 (2%)]\tLoss: 2.276163\n",
      "Train Epoch: 1 [1920/60000 (3%)]\tLoss: 2.317887\n",
      "Train Epoch: 1 [2560/60000 (4%)]\tLoss: 2.246660\n",
      "Train Epoch: 1 [3200/60000 (5%)]\tLoss: 2.098895\n",
      "Train Epoch: 1 [3840/60000 (6%)]\tLoss: 2.323000\n",
      "Train Epoch: 1 [4480/60000 (7%)]\tLoss: 1.971526\n",
      "Train Epoch: 1 [5120/60000 (9%)]\tLoss: 2.151073\n",
      "Train Epoch: 1 [5760/60000 (10%)]\tLoss: 2.098164\n",
      "Train Epoch: 1 [6400/60000 (11%)]\tLoss: 1.769990\n",
      "Train Epoch: 1 [7040/60000 (12%)]\tLoss: 1.863379\n",
      "Train Epoch: 1 [7680/60000 (13%)]\tLoss: 1.856814\n",
      "Train Epoch: 1 [8320/60000 (14%)]\tLoss: 1.608933\n",
      "Train Epoch: 1 [8960/60000 (15%)]\tLoss: 1.640006\n",
      "Train Epoch: 1 [9600/60000 (16%)]\tLoss: 1.670169\n",
      "Train Epoch: 1 [10240/60000 (17%)]\tLoss: 1.866793\n",
      "Train Epoch: 1 [10880/60000 (18%)]\tLoss: 1.589026\n",
      "Train Epoch: 1 [11520/60000 (19%)]\tLoss: 1.353224\n",
      "Train Epoch: 1 [12160/60000 (20%)]\tLoss: 1.383462\n",
      "Train Epoch: 1 [12800/60000 (21%)]\tLoss: 1.960871\n",
      "Train Epoch: 1 [13440/60000 (22%)]\tLoss: 1.434144\n",
      "Train Epoch: 1 [14080/60000 (23%)]\tLoss: 1.306481\n",
      "Train Epoch: 1 [14720/60000 (25%)]\tLoss: 1.616055\n",
      "Train Epoch: 1 [15360/60000 (26%)]\tLoss: 1.314624\n",
      "Train Epoch: 1 [16000/60000 (27%)]\tLoss: 1.309400\n",
      "Train Epoch: 1 [16640/60000 (28%)]\tLoss: 1.588055\n",
      "Train Epoch: 1 [17280/60000 (29%)]\tLoss: 1.533325\n",
      "Train Epoch: 1 [17920/60000 (30%)]\tLoss: 1.215172\n",
      "Train Epoch: 1 [18560/60000 (31%)]\tLoss: 1.561867\n",
      "Train Epoch: 1 [19200/60000 (32%)]\tLoss: 1.096130\n",
      "Train Epoch: 1 [19840/60000 (33%)]\tLoss: 0.969698\n",
      "Train Epoch: 1 [20480/60000 (34%)]\tLoss: 1.404309\n",
      "Train Epoch: 1 [21120/60000 (35%)]\tLoss: 1.176999\n",
      "Train Epoch: 1 [21760/60000 (36%)]\tLoss: 1.037822\n",
      "Train Epoch: 1 [22400/60000 (37%)]\tLoss: 1.054360\n",
      "Train Epoch: 1 [23040/60000 (38%)]\tLoss: 0.919974\n",
      "Train Epoch: 1 [23680/60000 (39%)]\tLoss: 1.267877\n",
      "Train Epoch: 1 [24320/60000 (41%)]\tLoss: 1.104188\n",
      "Train Epoch: 1 [24960/60000 (42%)]\tLoss: 0.861466\n",
      "Train Epoch: 1 [25600/60000 (43%)]\tLoss: 0.943871\n",
      "Train Epoch: 1 [26240/60000 (44%)]\tLoss: 0.819077\n",
      "Train Epoch: 1 [26880/60000 (45%)]\tLoss: 1.092311\n",
      "Train Epoch: 1 [27520/60000 (46%)]\tLoss: 1.145326\n",
      "Train Epoch: 1 [28160/60000 (47%)]\tLoss: 0.763527\n",
      "Train Epoch: 1 [28800/60000 (48%)]\tLoss: 1.427352\n",
      "Train Epoch: 1 [29440/60000 (49%)]\tLoss: 0.939818\n",
      "Train Epoch: 1 [30080/60000 (50%)]\tLoss: 0.810544\n",
      "Train Epoch: 1 [30720/60000 (51%)]\tLoss: 0.484748\n",
      "Train Epoch: 1 [31360/60000 (52%)]\tLoss: 0.825727\n",
      "Train Epoch: 1 [32000/60000 (53%)]\tLoss: 0.968217\n",
      "Train Epoch: 1 [32640/60000 (54%)]\tLoss: 1.349340\n",
      "Train Epoch: 1 [33280/60000 (55%)]\tLoss: 0.920446\n",
      "Train Epoch: 1 [33920/60000 (57%)]\tLoss: 0.810674\n",
      "Train Epoch: 1 [34560/60000 (58%)]\tLoss: 0.718295\n",
      "Train Epoch: 1 [35200/60000 (59%)]\tLoss: 1.393862\n",
      "Train Epoch: 1 [35840/60000 (60%)]\tLoss: 0.691601\n",
      "Train Epoch: 1 [36480/60000 (61%)]\tLoss: 0.812341\n",
      "Train Epoch: 1 [37120/60000 (62%)]\tLoss: 0.624724\n",
      "Train Epoch: 1 [37760/60000 (63%)]\tLoss: 0.825840\n",
      "Train Epoch: 1 [38400/60000 (64%)]\tLoss: 0.596264\n",
      "Train Epoch: 1 [39040/60000 (65%)]\tLoss: 0.852019\n",
      "Train Epoch: 1 [39680/60000 (66%)]\tLoss: 0.721439\n",
      "Train Epoch: 1 [40320/60000 (67%)]\tLoss: 0.893595\n",
      "Train Epoch: 1 [40960/60000 (68%)]\tLoss: 0.724518\n",
      "Train Epoch: 1 [41600/60000 (69%)]\tLoss: 1.308988\n",
      "Train Epoch: 1 [42240/60000 (70%)]\tLoss: 1.180851\n",
      "Train Epoch: 1 [42880/60000 (71%)]\tLoss: 0.478910\n",
      "Train Epoch: 1 [43520/60000 (72%)]\tLoss: 0.441002\n",
      "Train Epoch: 1 [44160/60000 (74%)]\tLoss: 0.463860\n",
      "Train Epoch: 1 [44800/60000 (75%)]\tLoss: 0.552551\n",
      "Train Epoch: 1 [45440/60000 (76%)]\tLoss: 0.660244\n",
      "Train Epoch: 1 [46080/60000 (77%)]\tLoss: 0.657964\n",
      "Train Epoch: 1 [46720/60000 (78%)]\tLoss: 0.799449\n",
      "Train Epoch: 1 [47360/60000 (79%)]\tLoss: 0.716444\n",
      "Train Epoch: 1 [48000/60000 (80%)]\tLoss: 0.577263\n",
      "Train Epoch: 1 [48640/60000 (81%)]\tLoss: 0.701571\n",
      "Train Epoch: 1 [49280/60000 (82%)]\tLoss: 0.573158\n",
      "Train Epoch: 1 [49920/60000 (83%)]\tLoss: 0.757184\n",
      "Train Epoch: 1 [50560/60000 (84%)]\tLoss: 0.749071\n",
      "Train Epoch: 1 [51200/60000 (85%)]\tLoss: 0.732174\n",
      "Train Epoch: 1 [51840/60000 (86%)]\tLoss: 0.681413\n",
      "Train Epoch: 1 [52480/60000 (87%)]\tLoss: 0.653172\n",
      "Train Epoch: 1 [53120/60000 (88%)]\tLoss: 0.612365\n",
      "Train Epoch: 1 [53760/60000 (90%)]\tLoss: 0.512903\n",
      "Train Epoch: 1 [54400/60000 (91%)]\tLoss: 0.560543\n",
      "Train Epoch: 1 [55040/60000 (92%)]\tLoss: 0.358375\n",
      "Train Epoch: 1 [55680/60000 (93%)]\tLoss: 0.616943\n",
      "Train Epoch: 1 [56320/60000 (94%)]\tLoss: 0.623341\n",
      "Train Epoch: 1 [56960/60000 (95%)]\tLoss: 0.787100\n",
      "Train Epoch: 1 [57600/60000 (96%)]\tLoss: 1.024315\n",
      "Train Epoch: 1 [58240/60000 (97%)]\tLoss: 0.672053\n",
      "Train Epoch: 1 [58880/60000 (98%)]\tLoss: 0.657471\n",
      "Train Epoch: 1 [59520/60000 (99%)]\tLoss: 0.657667\n",
      "\n",
      "Test set: Avg. loss: 0.2547, Accuracy: 9433/10000 (94%)\n",
      "\n",
      "Train Epoch: 2 [0/60000 (0%)]\tLoss: 0.568772\n",
      "Train Epoch: 2 [640/60000 (1%)]\tLoss: 0.713424\n",
      "Train Epoch: 2 [1280/60000 (2%)]\tLoss: 0.624354\n",
      "Train Epoch: 2 [1920/60000 (3%)]\tLoss: 0.675839\n",
      "Train Epoch: 2 [2560/60000 (4%)]\tLoss: 0.593549\n",
      "Train Epoch: 2 [3200/60000 (5%)]\tLoss: 0.480957\n",
      "Train Epoch: 2 [3840/60000 (6%)]\tLoss: 0.363299\n",
      "Train Epoch: 2 [4480/60000 (7%)]\tLoss: 0.493408\n",
      "Train Epoch: 2 [5120/60000 (9%)]\tLoss: 0.534094\n",
      "Train Epoch: 2 [5760/60000 (10%)]\tLoss: 0.376628\n",
      "Train Epoch: 2 [6400/60000 (11%)]\tLoss: 0.592380\n",
      "Train Epoch: 2 [7040/60000 (12%)]\tLoss: 0.623825\n",
      "Train Epoch: 2 [7680/60000 (13%)]\tLoss: 0.543189\n",
      "Train Epoch: 2 [8320/60000 (14%)]\tLoss: 0.516086\n",
      "Train Epoch: 2 [8960/60000 (15%)]\tLoss: 0.880775\n",
      "Train Epoch: 2 [9600/60000 (16%)]\tLoss: 1.137396\n",
      "Train Epoch: 2 [10240/60000 (17%)]\tLoss: 0.893100\n",
      "Train Epoch: 2 [10880/60000 (18%)]\tLoss: 0.779236\n",
      "Train Epoch: 2 [11520/60000 (19%)]\tLoss: 0.505994\n",
      "Train Epoch: 2 [12160/60000 (20%)]\tLoss: 0.425959\n",
      "Train Epoch: 2 [12800/60000 (21%)]\tLoss: 0.605698\n",
      "Train Epoch: 2 [13440/60000 (22%)]\tLoss: 0.515674\n",
      "Train Epoch: 2 [14080/60000 (23%)]\tLoss: 0.458080\n",
      "Train Epoch: 2 [14720/60000 (25%)]\tLoss: 0.538057\n",
      "Train Epoch: 2 [15360/60000 (26%)]\tLoss: 0.356224\n",
      "Train Epoch: 2 [16000/60000 (27%)]\tLoss: 0.567223\n",
      "Train Epoch: 2 [16640/60000 (28%)]\tLoss: 0.451795\n",
      "Train Epoch: 2 [17280/60000 (29%)]\tLoss: 0.394862\n",
      "Train Epoch: 2 [17920/60000 (30%)]\tLoss: 0.789348\n",
      "Train Epoch: 2 [18560/60000 (31%)]\tLoss: 0.841359\n",
      "Train Epoch: 2 [19200/60000 (32%)]\tLoss: 0.526362\n",
      "Train Epoch: 2 [19840/60000 (33%)]\tLoss: 0.523172\n",
      "Train Epoch: 2 [20480/60000 (34%)]\tLoss: 0.864714\n",
      "Train Epoch: 2 [21120/60000 (35%)]\tLoss: 0.446486\n",
      "Train Epoch: 2 [21760/60000 (36%)]\tLoss: 0.302952\n",
      "Train Epoch: 2 [22400/60000 (37%)]\tLoss: 0.748477\n",
      "Train Epoch: 2 [23040/60000 (38%)]\tLoss: 0.529383\n",
      "Train Epoch: 2 [23680/60000 (39%)]\tLoss: 0.539510\n",
      "Train Epoch: 2 [24320/60000 (41%)]\tLoss: 0.519939\n",
      "Train Epoch: 2 [24960/60000 (42%)]\tLoss: 0.274945\n",
      "Train Epoch: 2 [25600/60000 (43%)]\tLoss: 0.729979\n",
      "Train Epoch: 2 [26240/60000 (44%)]\tLoss: 0.499973\n",
      "Train Epoch: 2 [26880/60000 (45%)]\tLoss: 0.335620\n",
      "Train Epoch: 2 [27520/60000 (46%)]\tLoss: 0.313470\n",
      "Train Epoch: 2 [28160/60000 (47%)]\tLoss: 0.737957\n",
      "Train Epoch: 2 [28800/60000 (48%)]\tLoss: 0.703264\n",
      "Train Epoch: 2 [29440/60000 (49%)]\tLoss: 0.473719\n",
      "Train Epoch: 2 [30080/60000 (50%)]\tLoss: 0.557968\n",
      "Train Epoch: 2 [30720/60000 (51%)]\tLoss: 0.473471\n",
      "Train Epoch: 2 [31360/60000 (52%)]\tLoss: 0.622038\n",
      "Train Epoch: 2 [32000/60000 (53%)]\tLoss: 0.575007\n",
      "Train Epoch: 2 [32640/60000 (54%)]\tLoss: 0.281731\n",
      "Train Epoch: 2 [33280/60000 (55%)]\tLoss: 0.625269\n",
      "Train Epoch: 2 [33920/60000 (57%)]\tLoss: 0.613629\n",
      "Train Epoch: 2 [34560/60000 (58%)]\tLoss: 0.437866\n",
      "Train Epoch: 2 [35200/60000 (59%)]\tLoss: 0.388237\n",
      "Train Epoch: 2 [35840/60000 (60%)]\tLoss: 0.428736\n",
      "Train Epoch: 2 [36480/60000 (61%)]\tLoss: 0.362522\n",
      "Train Epoch: 2 [37120/60000 (62%)]\tLoss: 0.519714\n",
      "Train Epoch: 2 [37760/60000 (63%)]\tLoss: 0.377044\n",
      "Train Epoch: 2 [38400/60000 (64%)]\tLoss: 0.440914\n",
      "Train Epoch: 2 [39040/60000 (65%)]\tLoss: 0.654082\n",
      "Train Epoch: 2 [39680/60000 (66%)]\tLoss: 0.367267\n",
      "Train Epoch: 2 [40320/60000 (67%)]\tLoss: 0.761151\n",
      "Train Epoch: 2 [40960/60000 (68%)]\tLoss: 0.692784\n",
      "Train Epoch: 2 [41600/60000 (69%)]\tLoss: 0.380179\n",
      "Train Epoch: 2 [42240/60000 (70%)]\tLoss: 0.637708\n",
      "Train Epoch: 2 [42880/60000 (71%)]\tLoss: 0.234126\n",
      "Train Epoch: 2 [43520/60000 (72%)]\tLoss: 0.341814\n",
      "Train Epoch: 2 [44160/60000 (74%)]\tLoss: 0.469767\n",
      "Train Epoch: 2 [44800/60000 (75%)]\tLoss: 0.365703\n",
      "Train Epoch: 2 [45440/60000 (76%)]\tLoss: 0.165334\n",
      "Train Epoch: 2 [46080/60000 (77%)]\tLoss: 0.300956\n",
      "Train Epoch: 2 [46720/60000 (78%)]\tLoss: 0.442092\n",
      "Train Epoch: 2 [47360/60000 (79%)]\tLoss: 0.708493\n",
      "Train Epoch: 2 [48000/60000 (80%)]\tLoss: 0.525633\n",
      "Train Epoch: 2 [48640/60000 (81%)]\tLoss: 0.383570\n",
      "Train Epoch: 2 [49280/60000 (82%)]\tLoss: 0.435057\n",
      "Train Epoch: 2 [49920/60000 (83%)]\tLoss: 0.374863\n",
      "Train Epoch: 2 [50560/60000 (84%)]\tLoss: 0.475698\n",
      "Train Epoch: 2 [51200/60000 (85%)]\tLoss: 0.493646\n",
      "Train Epoch: 2 [51840/60000 (86%)]\tLoss: 0.436717\n",
      "Train Epoch: 2 [52480/60000 (87%)]\tLoss: 0.339153\n",
      "Train Epoch: 2 [53120/60000 (88%)]\tLoss: 0.546143\n",
      "Train Epoch: 2 [53760/60000 (90%)]\tLoss: 0.325461\n",
      "Train Epoch: 2 [54400/60000 (91%)]\tLoss: 0.434644\n",
      "Train Epoch: 2 [55040/60000 (92%)]\tLoss: 0.347826\n",
      "Train Epoch: 2 [55680/60000 (93%)]\tLoss: 0.454894\n",
      "Train Epoch: 2 [56320/60000 (94%)]\tLoss: 0.417700\n",
      "Train Epoch: 2 [56960/60000 (95%)]\tLoss: 0.899465\n",
      "Train Epoch: 2 [57600/60000 (96%)]\tLoss: 0.506565\n",
      "Train Epoch: 2 [58240/60000 (97%)]\tLoss: 0.525268\n",
      "Train Epoch: 2 [58880/60000 (98%)]\tLoss: 0.352397\n",
      "Train Epoch: 2 [59520/60000 (99%)]\tLoss: 0.389423\n",
      "\n",
      "Test set: Avg. loss: 0.1438, Accuracy: 9681/10000 (96%)\n",
      "\n",
      "Train Epoch: 3 [0/60000 (0%)]\tLoss: 1.153424\n",
      "Train Epoch: 3 [640/60000 (1%)]\tLoss: 0.548928\n",
      "Train Epoch: 3 [1280/60000 (2%)]\tLoss: 0.324315\n",
      "Train Epoch: 3 [1920/60000 (3%)]\tLoss: 0.619219\n",
      "Train Epoch: 3 [2560/60000 (4%)]\tLoss: 0.330599\n",
      "Train Epoch: 3 [3200/60000 (5%)]\tLoss: 0.355411\n",
      "Train Epoch: 3 [3840/60000 (6%)]\tLoss: 0.816055\n",
      "Train Epoch: 3 [4480/60000 (7%)]\tLoss: 0.338837\n",
      "Train Epoch: 3 [5120/60000 (9%)]\tLoss: 0.690371\n",
      "Train Epoch: 3 [5760/60000 (10%)]\tLoss: 0.454955\n",
      "Train Epoch: 3 [6400/60000 (11%)]\tLoss: 0.667184\n",
      "Train Epoch: 3 [7040/60000 (12%)]\tLoss: 0.460200\n",
      "Train Epoch: 3 [7680/60000 (13%)]\tLoss: 0.892026\n",
      "Train Epoch: 3 [8320/60000 (14%)]\tLoss: 0.737689\n",
      "Train Epoch: 3 [8960/60000 (15%)]\tLoss: 0.453366\n",
      "Train Epoch: 3 [9600/60000 (16%)]\tLoss: 0.294008\n",
      "Train Epoch: 3 [10240/60000 (17%)]\tLoss: 0.398852\n",
      "Train Epoch: 3 [10880/60000 (18%)]\tLoss: 0.336755\n",
      "Train Epoch: 3 [11520/60000 (19%)]\tLoss: 0.355758\n",
      "Train Epoch: 3 [12160/60000 (20%)]\tLoss: 0.227288\n",
      "Train Epoch: 3 [12800/60000 (21%)]\tLoss: 0.275465\n",
      "Train Epoch: 3 [13440/60000 (22%)]\tLoss: 0.236233\n",
      "Train Epoch: 3 [14080/60000 (23%)]\tLoss: 0.480530\n",
      "Train Epoch: 3 [14720/60000 (25%)]\tLoss: 0.436800\n",
      "Train Epoch: 3 [15360/60000 (26%)]\tLoss: 0.139582\n",
      "Train Epoch: 3 [16000/60000 (27%)]\tLoss: 0.195168\n",
      "Train Epoch: 3 [16640/60000 (28%)]\tLoss: 0.250489\n",
      "Train Epoch: 3 [17280/60000 (29%)]\tLoss: 0.372202\n",
      "Train Epoch: 3 [17920/60000 (30%)]\tLoss: 0.260504\n",
      "Train Epoch: 3 [18560/60000 (31%)]\tLoss: 0.797446\n",
      "Train Epoch: 3 [19200/60000 (32%)]\tLoss: 0.329962\n",
      "Train Epoch: 3 [19840/60000 (33%)]\tLoss: 0.473768\n",
      "Train Epoch: 3 [20480/60000 (34%)]\tLoss: 0.600632\n",
      "Train Epoch: 3 [21120/60000 (35%)]\tLoss: 0.388941\n",
      "Train Epoch: 3 [21760/60000 (36%)]\tLoss: 0.320793\n",
      "Train Epoch: 3 [22400/60000 (37%)]\tLoss: 0.307206\n",
      "Train Epoch: 3 [23040/60000 (38%)]\tLoss: 0.129541\n",
      "Train Epoch: 3 [23680/60000 (39%)]\tLoss: 0.148450\n",
      "Train Epoch: 3 [24320/60000 (41%)]\tLoss: 0.440586\n",
      "Train Epoch: 3 [24960/60000 (42%)]\tLoss: 0.324964\n",
      "Train Epoch: 3 [25600/60000 (43%)]\tLoss: 0.499055\n",
      "Train Epoch: 3 [26240/60000 (44%)]\tLoss: 0.927321\n",
      "Train Epoch: 3 [26880/60000 (45%)]\tLoss: 0.375453\n",
      "Train Epoch: 3 [27520/60000 (46%)]\tLoss: 0.472548\n",
      "Train Epoch: 3 [28160/60000 (47%)]\tLoss: 0.558641\n",
      "Train Epoch: 3 [28800/60000 (48%)]\tLoss: 0.449595\n",
      "Train Epoch: 3 [29440/60000 (49%)]\tLoss: 0.443628\n",
      "Train Epoch: 3 [30080/60000 (50%)]\tLoss: 0.357878\n",
      "Train Epoch: 3 [30720/60000 (51%)]\tLoss: 0.284601\n",
      "Train Epoch: 3 [31360/60000 (52%)]\tLoss: 0.530884\n",
      "Train Epoch: 3 [32000/60000 (53%)]\tLoss: 0.444684\n",
      "Train Epoch: 3 [32640/60000 (54%)]\tLoss: 0.325522\n",
      "Train Epoch: 3 [33280/60000 (55%)]\tLoss: 0.482249\n",
      "Train Epoch: 3 [33920/60000 (57%)]\tLoss: 0.434238\n",
      "Train Epoch: 3 [34560/60000 (58%)]\tLoss: 0.650098\n",
      "Train Epoch: 3 [35200/60000 (59%)]\tLoss: 0.300684\n",
      "Train Epoch: 3 [35840/60000 (60%)]\tLoss: 0.189001\n",
      "Train Epoch: 3 [36480/60000 (61%)]\tLoss: 0.574517\n",
      "Train Epoch: 3 [37120/60000 (62%)]\tLoss: 0.353656\n",
      "Train Epoch: 3 [37760/60000 (63%)]\tLoss: 0.253131\n",
      "Train Epoch: 3 [38400/60000 (64%)]\tLoss: 0.155991\n",
      "Train Epoch: 3 [39040/60000 (65%)]\tLoss: 0.401713\n",
      "Train Epoch: 3 [39680/60000 (66%)]\tLoss: 0.421490\n",
      "Train Epoch: 3 [40320/60000 (67%)]\tLoss: 0.427821\n",
      "Train Epoch: 3 [40960/60000 (68%)]\tLoss: 0.473002\n",
      "Train Epoch: 3 [41600/60000 (69%)]\tLoss: 0.334818\n",
      "Train Epoch: 3 [42240/60000 (70%)]\tLoss: 0.369171\n",
      "Train Epoch: 3 [42880/60000 (71%)]\tLoss: 0.374119\n",
      "Train Epoch: 3 [43520/60000 (72%)]\tLoss: 0.200132\n",
      "Train Epoch: 3 [44160/60000 (74%)]\tLoss: 0.370197\n",
      "Train Epoch: 3 [44800/60000 (75%)]\tLoss: 0.199175\n",
      "Train Epoch: 3 [45440/60000 (76%)]\tLoss: 0.323405\n",
      "Train Epoch: 3 [46080/60000 (77%)]\tLoss: 0.454789\n",
      "Train Epoch: 3 [46720/60000 (78%)]\tLoss: 0.319441\n",
      "Train Epoch: 3 [47360/60000 (79%)]\tLoss: 0.350651\n",
      "Train Epoch: 3 [48000/60000 (80%)]\tLoss: 0.170815\n",
      "Train Epoch: 3 [48640/60000 (81%)]\tLoss: 0.224688\n",
      "Train Epoch: 3 [49280/60000 (82%)]\tLoss: 0.365223\n",
      "Train Epoch: 3 [49920/60000 (83%)]\tLoss: 0.369462\n",
      "Train Epoch: 3 [50560/60000 (84%)]\tLoss: 0.221563\n",
      "Train Epoch: 3 [51200/60000 (85%)]\tLoss: 0.610702\n",
      "Train Epoch: 3 [51840/60000 (86%)]\tLoss: 0.381417\n",
      "Train Epoch: 3 [52480/60000 (87%)]\tLoss: 0.430677\n",
      "Train Epoch: 3 [53120/60000 (88%)]\tLoss: 0.469249\n",
      "Train Epoch: 3 [53760/60000 (90%)]\tLoss: 0.484021\n",
      "Train Epoch: 3 [54400/60000 (91%)]\tLoss: 0.303282\n",
      "Train Epoch: 3 [55040/60000 (92%)]\tLoss: 0.286472\n",
      "Train Epoch: 3 [55680/60000 (93%)]\tLoss: 0.561725\n",
      "Train Epoch: 3 [56320/60000 (94%)]\tLoss: 0.376118\n",
      "Train Epoch: 3 [56960/60000 (95%)]\tLoss: 0.136324\n",
      "Train Epoch: 3 [57600/60000 (96%)]\tLoss: 0.377459\n",
      "Train Epoch: 3 [58240/60000 (97%)]\tLoss: 0.788250\n",
      "Train Epoch: 3 [58880/60000 (98%)]\tLoss: 0.297315\n",
      "Train Epoch: 3 [59520/60000 (99%)]\tLoss: 0.433193\n",
      "\n",
      "Test set: Avg. loss: 0.1157, Accuracy: 9751/10000 (97%)\n",
      "\n",
      "Train Epoch: 4 [0/60000 (0%)]\tLoss: 0.551941\n",
      "Train Epoch: 4 [640/60000 (1%)]\tLoss: 0.235249\n",
      "Train Epoch: 4 [1280/60000 (2%)]\tLoss: 0.250883\n",
      "Train Epoch: 4 [1920/60000 (3%)]\tLoss: 0.327834\n",
      "Train Epoch: 4 [2560/60000 (4%)]\tLoss: 0.238960\n",
      "Train Epoch: 4 [3200/60000 (5%)]\tLoss: 0.283450\n",
      "Train Epoch: 4 [3840/60000 (6%)]\tLoss: 0.734715\n",
      "Train Epoch: 4 [4480/60000 (7%)]\tLoss: 0.244079\n",
      "Train Epoch: 4 [5120/60000 (9%)]\tLoss: 0.530105\n",
      "Train Epoch: 4 [5760/60000 (10%)]\tLoss: 0.317408\n",
      "Train Epoch: 4 [6400/60000 (11%)]\tLoss: 0.098966\n",
      "Train Epoch: 4 [7040/60000 (12%)]\tLoss: 0.339307\n",
      "Train Epoch: 4 [7680/60000 (13%)]\tLoss: 0.484061\n",
      "Train Epoch: 4 [8320/60000 (14%)]\tLoss: 0.258055\n",
      "Train Epoch: 4 [8960/60000 (15%)]\tLoss: 0.278949\n",
      "Train Epoch: 4 [9600/60000 (16%)]\tLoss: 0.262961\n",
      "Train Epoch: 4 [10240/60000 (17%)]\tLoss: 0.613028\n",
      "Train Epoch: 4 [10880/60000 (18%)]\tLoss: 0.181652\n",
      "Train Epoch: 4 [11520/60000 (19%)]\tLoss: 0.355713\n",
      "Train Epoch: 4 [12160/60000 (20%)]\tLoss: 0.404213\n",
      "Train Epoch: 4 [12800/60000 (21%)]\tLoss: 0.322330\n",
      "Train Epoch: 4 [13440/60000 (22%)]\tLoss: 0.389076\n",
      "Train Epoch: 4 [14080/60000 (23%)]\tLoss: 0.322295\n",
      "Train Epoch: 4 [14720/60000 (25%)]\tLoss: 0.238044\n",
      "Train Epoch: 4 [15360/60000 (26%)]\tLoss: 0.244603\n",
      "Train Epoch: 4 [16000/60000 (27%)]\tLoss: 0.291384\n",
      "Train Epoch: 4 [16640/60000 (28%)]\tLoss: 0.264926\n",
      "Train Epoch: 4 [17280/60000 (29%)]\tLoss: 0.205943\n",
      "Train Epoch: 4 [17920/60000 (30%)]\tLoss: 0.152567\n",
      "Train Epoch: 4 [18560/60000 (31%)]\tLoss: 0.228322\n",
      "Train Epoch: 4 [19200/60000 (32%)]\tLoss: 0.680294\n",
      "Train Epoch: 4 [19840/60000 (33%)]\tLoss: 0.145256\n",
      "Train Epoch: 4 [20480/60000 (34%)]\tLoss: 0.245999\n",
      "Train Epoch: 4 [21120/60000 (35%)]\tLoss: 0.347777\n",
      "Train Epoch: 4 [21760/60000 (36%)]\tLoss: 0.389208\n",
      "Train Epoch: 4 [22400/60000 (37%)]\tLoss: 0.473993\n",
      "Train Epoch: 4 [23040/60000 (38%)]\tLoss: 0.502249\n",
      "Train Epoch: 4 [23680/60000 (39%)]\tLoss: 0.440444\n",
      "Train Epoch: 4 [24320/60000 (41%)]\tLoss: 0.370655\n",
      "Train Epoch: 4 [24960/60000 (42%)]\tLoss: 0.605730\n",
      "Train Epoch: 4 [25600/60000 (43%)]\tLoss: 0.422236\n",
      "Train Epoch: 4 [26240/60000 (44%)]\tLoss: 0.239246\n",
      "Train Epoch: 4 [26880/60000 (45%)]\tLoss: 0.406482\n",
      "Train Epoch: 4 [27520/60000 (46%)]\tLoss: 0.434250\n",
      "Train Epoch: 4 [28160/60000 (47%)]\tLoss: 0.779702\n",
      "Train Epoch: 4 [28800/60000 (48%)]\tLoss: 0.208232\n",
      "Train Epoch: 4 [29440/60000 (49%)]\tLoss: 0.586976\n",
      "Train Epoch: 4 [30080/60000 (50%)]\tLoss: 0.156135\n",
      "Train Epoch: 4 [30720/60000 (51%)]\tLoss: 0.296026\n",
      "Train Epoch: 4 [31360/60000 (52%)]\tLoss: 0.256688\n",
      "Train Epoch: 4 [32000/60000 (53%)]\tLoss: 0.375022\n",
      "Train Epoch: 4 [32640/60000 (54%)]\tLoss: 0.245584\n",
      "Train Epoch: 4 [33280/60000 (55%)]\tLoss: 0.612802\n",
      "Train Epoch: 4 [33920/60000 (57%)]\tLoss: 0.512734\n",
      "Train Epoch: 4 [34560/60000 (58%)]\tLoss: 0.354489\n",
      "Train Epoch: 4 [35200/60000 (59%)]\tLoss: 0.278686\n",
      "Train Epoch: 4 [35840/60000 (60%)]\tLoss: 0.272409\n",
      "Train Epoch: 4 [36480/60000 (61%)]\tLoss: 0.677577\n",
      "Train Epoch: 4 [37120/60000 (62%)]\tLoss: 0.277403\n",
      "Train Epoch: 4 [37760/60000 (63%)]\tLoss: 0.540417\n",
      "Train Epoch: 4 [38400/60000 (64%)]\tLoss: 0.239015\n",
      "Train Epoch: 4 [39040/60000 (65%)]\tLoss: 0.688425\n",
      "Train Epoch: 4 [39680/60000 (66%)]\tLoss: 0.225852\n",
      "Train Epoch: 4 [40320/60000 (67%)]\tLoss: 0.309236\n",
      "Train Epoch: 4 [40960/60000 (68%)]\tLoss: 0.476978\n",
      "Train Epoch: 4 [41600/60000 (69%)]\tLoss: 0.194228\n",
      "Train Epoch: 4 [42240/60000 (70%)]\tLoss: 0.229722\n",
      "Train Epoch: 4 [42880/60000 (71%)]\tLoss: 0.388069\n",
      "Train Epoch: 4 [43520/60000 (72%)]\tLoss: 0.142600\n",
      "Train Epoch: 4 [44160/60000 (74%)]\tLoss: 0.623866\n",
      "Train Epoch: 4 [44800/60000 (75%)]\tLoss: 0.195579\n",
      "Train Epoch: 4 [45440/60000 (76%)]\tLoss: 0.656054\n",
      "Train Epoch: 4 [46080/60000 (77%)]\tLoss: 0.499661\n",
      "Train Epoch: 4 [46720/60000 (78%)]\tLoss: 0.404339\n",
      "Train Epoch: 4 [47360/60000 (79%)]\tLoss: 0.202569\n",
      "Train Epoch: 4 [48000/60000 (80%)]\tLoss: 0.300978\n",
      "Train Epoch: 4 [48640/60000 (81%)]\tLoss: 0.382973\n",
      "Train Epoch: 4 [49280/60000 (82%)]\tLoss: 0.176461\n",
      "Train Epoch: 4 [49920/60000 (83%)]\tLoss: 0.386787\n",
      "Train Epoch: 4 [50560/60000 (84%)]\tLoss: 0.562034\n",
      "Train Epoch: 4 [51200/60000 (85%)]\tLoss: 0.378663\n",
      "Train Epoch: 4 [51840/60000 (86%)]\tLoss: 0.486118\n",
      "Train Epoch: 4 [52480/60000 (87%)]\tLoss: 0.422075\n",
      "Train Epoch: 4 [53120/60000 (88%)]\tLoss: 0.463790\n",
      "Train Epoch: 4 [53760/60000 (90%)]\tLoss: 0.273089\n",
      "Train Epoch: 4 [54400/60000 (91%)]\tLoss: 0.450670\n",
      "Train Epoch: 4 [55040/60000 (92%)]\tLoss: 0.262800\n",
      "Train Epoch: 4 [55680/60000 (93%)]\tLoss: 0.284247\n",
      "Train Epoch: 4 [56320/60000 (94%)]\tLoss: 0.627161\n",
      "Train Epoch: 4 [56960/60000 (95%)]\tLoss: 0.301557\n",
      "Train Epoch: 4 [57600/60000 (96%)]\tLoss: 0.303138\n",
      "Train Epoch: 4 [58240/60000 (97%)]\tLoss: 0.452940\n",
      "Train Epoch: 4 [58880/60000 (98%)]\tLoss: 0.693821\n",
      "Train Epoch: 4 [59520/60000 (99%)]\tLoss: 0.504181\n",
      "\n",
      "Test set: Avg. loss: 0.0998, Accuracy: 9784/10000 (97%)\n",
      "\n",
      "Train Epoch: 5 [0/60000 (0%)]\tLoss: 0.516919\n",
      "Train Epoch: 5 [640/60000 (1%)]\tLoss: 0.116187\n",
      "Train Epoch: 5 [1280/60000 (2%)]\tLoss: 0.408997\n",
      "Train Epoch: 5 [1920/60000 (3%)]\tLoss: 0.262393\n",
      "Train Epoch: 5 [2560/60000 (4%)]\tLoss: 0.186463\n",
      "Train Epoch: 5 [3200/60000 (5%)]\tLoss: 0.181467\n",
      "Train Epoch: 5 [3840/60000 (6%)]\tLoss: 0.214268\n",
      "Train Epoch: 5 [4480/60000 (7%)]\tLoss: 0.336664\n",
      "Train Epoch: 5 [5120/60000 (9%)]\tLoss: 0.230647\n",
      "Train Epoch: 5 [5760/60000 (10%)]\tLoss: 0.208011\n",
      "Train Epoch: 5 [6400/60000 (11%)]\tLoss: 0.144421\n",
      "Train Epoch: 5 [7040/60000 (12%)]\tLoss: 0.345293\n",
      "Train Epoch: 5 [7680/60000 (13%)]\tLoss: 0.528339\n",
      "Train Epoch: 5 [8320/60000 (14%)]\tLoss: 0.310395\n",
      "Train Epoch: 5 [8960/60000 (15%)]\tLoss: 0.240164\n",
      "Train Epoch: 5 [9600/60000 (16%)]\tLoss: 0.381380\n",
      "Train Epoch: 5 [10240/60000 (17%)]\tLoss: 0.395608\n",
      "Train Epoch: 5 [10880/60000 (18%)]\tLoss: 0.131100\n",
      "Train Epoch: 5 [11520/60000 (19%)]\tLoss: 0.588725\n",
      "Train Epoch: 5 [12160/60000 (20%)]\tLoss: 0.312052\n",
      "Train Epoch: 5 [12800/60000 (21%)]\tLoss: 0.471549\n",
      "Train Epoch: 5 [13440/60000 (22%)]\tLoss: 0.106644\n",
      "Train Epoch: 5 [14080/60000 (23%)]\tLoss: 0.302661\n",
      "Train Epoch: 5 [14720/60000 (25%)]\tLoss: 0.510012\n",
      "Train Epoch: 5 [15360/60000 (26%)]\tLoss: 0.282438\n",
      "Train Epoch: 5 [16000/60000 (27%)]\tLoss: 0.314767\n",
      "Train Epoch: 5 [16640/60000 (28%)]\tLoss: 0.354056\n",
      "Train Epoch: 5 [17280/60000 (29%)]\tLoss: 0.235378\n",
      "Train Epoch: 5 [17920/60000 (30%)]\tLoss: 0.376981\n",
      "Train Epoch: 5 [18560/60000 (31%)]\tLoss: 0.691709\n",
      "Train Epoch: 5 [19200/60000 (32%)]\tLoss: 0.256926\n",
      "Train Epoch: 5 [19840/60000 (33%)]\tLoss: 0.314866\n",
      "Train Epoch: 5 [20480/60000 (34%)]\tLoss: 0.383007\n",
      "Train Epoch: 5 [21120/60000 (35%)]\tLoss: 0.544406\n",
      "Train Epoch: 5 [21760/60000 (36%)]\tLoss: 0.280970\n",
      "Train Epoch: 5 [22400/60000 (37%)]\tLoss: 0.301234\n",
      "Train Epoch: 5 [23040/60000 (38%)]\tLoss: 0.318495\n",
      "Train Epoch: 5 [23680/60000 (39%)]\tLoss: 0.259257\n",
      "Train Epoch: 5 [24320/60000 (41%)]\tLoss: 0.155741\n",
      "Train Epoch: 5 [24960/60000 (42%)]\tLoss: 0.216902\n",
      "Train Epoch: 5 [25600/60000 (43%)]\tLoss: 0.439053\n",
      "Train Epoch: 5 [26240/60000 (44%)]\tLoss: 0.214147\n",
      "Train Epoch: 5 [26880/60000 (45%)]\tLoss: 0.501729\n",
      "Train Epoch: 5 [27520/60000 (46%)]\tLoss: 0.169663\n",
      "Train Epoch: 5 [28160/60000 (47%)]\tLoss: 0.242278\n",
      "Train Epoch: 5 [28800/60000 (48%)]\tLoss: 0.121898\n",
      "Train Epoch: 5 [29440/60000 (49%)]\tLoss: 0.200720\n",
      "Train Epoch: 5 [30080/60000 (50%)]\tLoss: 0.212974\n",
      "Train Epoch: 5 [30720/60000 (51%)]\tLoss: 0.167590\n",
      "Train Epoch: 5 [31360/60000 (52%)]\tLoss: 0.124816\n",
      "Train Epoch: 5 [32000/60000 (53%)]\tLoss: 0.084688\n",
      "Train Epoch: 5 [32640/60000 (54%)]\tLoss: 0.286162\n",
      "Train Epoch: 5 [33280/60000 (55%)]\tLoss: 0.106271\n",
      "Train Epoch: 5 [33920/60000 (57%)]\tLoss: 0.161958\n",
      "Train Epoch: 5 [34560/60000 (58%)]\tLoss: 0.118052\n",
      "Train Epoch: 5 [35200/60000 (59%)]\tLoss: 0.261189\n",
      "Train Epoch: 5 [35840/60000 (60%)]\tLoss: 0.223402\n",
      "Train Epoch: 5 [36480/60000 (61%)]\tLoss: 0.546312\n",
      "Train Epoch: 5 [37120/60000 (62%)]\tLoss: 0.606634\n",
      "Train Epoch: 5 [37760/60000 (63%)]\tLoss: 0.452811\n",
      "Train Epoch: 5 [38400/60000 (64%)]\tLoss: 0.589294\n",
      "Train Epoch: 5 [39040/60000 (65%)]\tLoss: 0.640586\n",
      "Train Epoch: 5 [39680/60000 (66%)]\tLoss: 0.319806\n",
      "Train Epoch: 5 [40320/60000 (67%)]\tLoss: 0.097227\n",
      "Train Epoch: 5 [40960/60000 (68%)]\tLoss: 0.162541\n",
      "Train Epoch: 5 [41600/60000 (69%)]\tLoss: 0.099962\n",
      "Train Epoch: 5 [42240/60000 (70%)]\tLoss: 0.230259\n",
      "Train Epoch: 5 [42880/60000 (71%)]\tLoss: 0.090458\n",
      "Train Epoch: 5 [43520/60000 (72%)]\tLoss: 0.283291\n",
      "Train Epoch: 5 [44160/60000 (74%)]\tLoss: 0.337968\n",
      "Train Epoch: 5 [44800/60000 (75%)]\tLoss: 0.279368\n",
      "Train Epoch: 5 [45440/60000 (76%)]\tLoss: 0.289487\n",
      "Train Epoch: 5 [46080/60000 (77%)]\tLoss: 0.421762\n",
      "Train Epoch: 5 [46720/60000 (78%)]\tLoss: 0.161085\n",
      "Train Epoch: 5 [47360/60000 (79%)]\tLoss: 0.417421\n",
      "Train Epoch: 5 [48000/60000 (80%)]\tLoss: 0.134632\n",
      "Train Epoch: 5 [48640/60000 (81%)]\tLoss: 0.109099\n",
      "Train Epoch: 5 [49280/60000 (82%)]\tLoss: 0.355862\n",
      "Train Epoch: 5 [49920/60000 (83%)]\tLoss: 0.231180\n",
      "Train Epoch: 5 [50560/60000 (84%)]\tLoss: 0.582104\n",
      "Train Epoch: 5 [51200/60000 (85%)]\tLoss: 0.404523\n",
      "Train Epoch: 5 [51840/60000 (86%)]\tLoss: 0.105928\n",
      "Train Epoch: 5 [52480/60000 (87%)]\tLoss: 0.186354\n",
      "Train Epoch: 5 [53120/60000 (88%)]\tLoss: 0.330394\n",
      "Train Epoch: 5 [53760/60000 (90%)]\tLoss: 0.278775\n",
      "Train Epoch: 5 [54400/60000 (91%)]\tLoss: 0.226716\n",
      "Train Epoch: 5 [55040/60000 (92%)]\tLoss: 0.311349\n",
      "Train Epoch: 5 [55680/60000 (93%)]\tLoss: 0.305325\n",
      "Train Epoch: 5 [56320/60000 (94%)]\tLoss: 0.338144\n",
      "Train Epoch: 5 [56960/60000 (95%)]\tLoss: 0.220709\n",
      "Train Epoch: 5 [57600/60000 (96%)]\tLoss: 0.111985\n",
      "Train Epoch: 5 [58240/60000 (97%)]\tLoss: 0.198827\n",
      "Train Epoch: 5 [58880/60000 (98%)]\tLoss: 0.551983\n",
      "Train Epoch: 5 [59520/60000 (99%)]\tLoss: 0.487096\n",
      "\n",
      "Test set: Avg. loss: 0.0983, Accuracy: 9771/10000 (97%)\n",
      "\n",
      "Train Epoch: 6 [0/60000 (0%)]\tLoss: 0.130002\n",
      "Train Epoch: 6 [640/60000 (1%)]\tLoss: 0.270150\n",
      "Train Epoch: 6 [1280/60000 (2%)]\tLoss: 0.143013\n",
      "Train Epoch: 6 [1920/60000 (3%)]\tLoss: 0.101656\n",
      "Train Epoch: 6 [2560/60000 (4%)]\tLoss: 0.338521\n",
      "Train Epoch: 6 [3200/60000 (5%)]\tLoss: 0.222920\n",
      "Train Epoch: 6 [3840/60000 (6%)]\tLoss: 0.203422\n",
      "Train Epoch: 6 [4480/60000 (7%)]\tLoss: 0.259502\n",
      "Train Epoch: 6 [5120/60000 (9%)]\tLoss: 0.252775\n",
      "Train Epoch: 6 [5760/60000 (10%)]\tLoss: 0.157165\n",
      "Train Epoch: 6 [6400/60000 (11%)]\tLoss: 0.336544\n",
      "Train Epoch: 6 [7040/60000 (12%)]\tLoss: 0.160283\n",
      "Train Epoch: 6 [7680/60000 (13%)]\tLoss: 0.290919\n",
      "Train Epoch: 6 [8320/60000 (14%)]\tLoss: 0.752580\n",
      "Train Epoch: 6 [8960/60000 (15%)]\tLoss: 0.152285\n",
      "Train Epoch: 6 [9600/60000 (16%)]\tLoss: 0.321363\n",
      "Train Epoch: 6 [10240/60000 (17%)]\tLoss: 0.097940\n",
      "Train Epoch: 6 [10880/60000 (18%)]\tLoss: 0.368931\n",
      "Train Epoch: 6 [11520/60000 (19%)]\tLoss: 0.324190\n",
      "Train Epoch: 6 [12160/60000 (20%)]\tLoss: 0.305966\n",
      "Train Epoch: 6 [12800/60000 (21%)]\tLoss: 0.685079\n",
      "Train Epoch: 6 [13440/60000 (22%)]\tLoss: 0.068905\n",
      "Train Epoch: 6 [14080/60000 (23%)]\tLoss: 0.778551\n",
      "Train Epoch: 6 [14720/60000 (25%)]\tLoss: 0.440019\n",
      "Train Epoch: 6 [15360/60000 (26%)]\tLoss: 0.478001\n",
      "Train Epoch: 6 [16000/60000 (27%)]\tLoss: 0.286193\n",
      "Train Epoch: 6 [16640/60000 (28%)]\tLoss: 0.124589\n",
      "Train Epoch: 6 [17280/60000 (29%)]\tLoss: 0.130768\n",
      "Train Epoch: 6 [17920/60000 (30%)]\tLoss: 0.095893\n",
      "Train Epoch: 6 [18560/60000 (31%)]\tLoss: 0.325854\n",
      "Train Epoch: 6 [19200/60000 (32%)]\tLoss: 0.262756\n",
      "Train Epoch: 6 [19840/60000 (33%)]\tLoss: 0.214874\n",
      "Train Epoch: 6 [20480/60000 (34%)]\tLoss: 0.302127\n",
      "Train Epoch: 6 [21120/60000 (35%)]\tLoss: 0.176059\n",
      "Train Epoch: 6 [21760/60000 (36%)]\tLoss: 0.242323\n",
      "Train Epoch: 6 [22400/60000 (37%)]\tLoss: 0.154351\n",
      "Train Epoch: 6 [23040/60000 (38%)]\tLoss: 0.525182\n",
      "Train Epoch: 6 [23680/60000 (39%)]\tLoss: 0.174508\n",
      "Train Epoch: 6 [24320/60000 (41%)]\tLoss: 0.301795\n",
      "Train Epoch: 6 [24960/60000 (42%)]\tLoss: 0.333014\n",
      "Train Epoch: 6 [25600/60000 (43%)]\tLoss: 0.302155\n",
      "Train Epoch: 6 [26240/60000 (44%)]\tLoss: 0.246174\n",
      "Train Epoch: 6 [26880/60000 (45%)]\tLoss: 0.226101\n",
      "Train Epoch: 6 [27520/60000 (46%)]\tLoss: 0.276901\n",
      "Train Epoch: 6 [28160/60000 (47%)]\tLoss: 0.395138\n",
      "Train Epoch: 6 [28800/60000 (48%)]\tLoss: 0.186187\n",
      "Train Epoch: 6 [29440/60000 (49%)]\tLoss: 0.261771\n",
      "Train Epoch: 6 [30080/60000 (50%)]\tLoss: 0.209998\n",
      "Train Epoch: 6 [30720/60000 (51%)]\tLoss: 0.084596\n",
      "Train Epoch: 6 [31360/60000 (52%)]\tLoss: 0.107642\n",
      "Train Epoch: 6 [32000/60000 (53%)]\tLoss: 0.145587\n",
      "Train Epoch: 6 [32640/60000 (54%)]\tLoss: 0.173262\n",
      "Train Epoch: 6 [33280/60000 (55%)]\tLoss: 0.280103\n",
      "Train Epoch: 6 [33920/60000 (57%)]\tLoss: 0.112749\n",
      "Train Epoch: 6 [34560/60000 (58%)]\tLoss: 0.080308\n",
      "Train Epoch: 6 [35200/60000 (59%)]\tLoss: 0.222094\n",
      "Train Epoch: 6 [35840/60000 (60%)]\tLoss: 0.135213\n",
      "Train Epoch: 6 [36480/60000 (61%)]\tLoss: 0.218109\n",
      "Train Epoch: 6 [37120/60000 (62%)]\tLoss: 0.599866\n",
      "Train Epoch: 6 [37760/60000 (63%)]\tLoss: 0.242846\n",
      "Train Epoch: 6 [38400/60000 (64%)]\tLoss: 0.128132\n",
      "Train Epoch: 6 [39040/60000 (65%)]\tLoss: 0.265826\n",
      "Train Epoch: 6 [39680/60000 (66%)]\tLoss: 0.714175\n",
      "Train Epoch: 6 [40320/60000 (67%)]\tLoss: 0.215230\n",
      "Train Epoch: 6 [40960/60000 (68%)]\tLoss: 0.110075\n",
      "Train Epoch: 6 [41600/60000 (69%)]\tLoss: 0.463150\n",
      "Train Epoch: 6 [42240/60000 (70%)]\tLoss: 0.169893\n",
      "Train Epoch: 6 [42880/60000 (71%)]\tLoss: 0.253587\n",
      "Train Epoch: 6 [43520/60000 (72%)]\tLoss: 0.191748\n",
      "Train Epoch: 6 [44160/60000 (74%)]\tLoss: 0.275363\n",
      "Train Epoch: 6 [44800/60000 (75%)]\tLoss: 0.570002\n",
      "Train Epoch: 6 [45440/60000 (76%)]\tLoss: 0.208053\n",
      "Train Epoch: 6 [46080/60000 (77%)]\tLoss: 0.235877\n",
      "Train Epoch: 6 [46720/60000 (78%)]\tLoss: 0.210161\n",
      "Train Epoch: 6 [47360/60000 (79%)]\tLoss: 0.428642\n",
      "Train Epoch: 6 [48000/60000 (80%)]\tLoss: 0.282269\n",
      "Train Epoch: 6 [48640/60000 (81%)]\tLoss: 0.253222\n",
      "Train Epoch: 6 [49280/60000 (82%)]\tLoss: 0.125859\n",
      "Train Epoch: 6 [49920/60000 (83%)]\tLoss: 0.302725\n",
      "Train Epoch: 6 [50560/60000 (84%)]\tLoss: 0.239087\n",
      "Train Epoch: 6 [51200/60000 (85%)]\tLoss: 0.278244\n",
      "Train Epoch: 6 [51840/60000 (86%)]\tLoss: 0.598163\n",
      "Train Epoch: 6 [52480/60000 (87%)]\tLoss: 0.127759\n",
      "Train Epoch: 6 [53120/60000 (88%)]\tLoss: 0.516823\n",
      "Train Epoch: 6 [53760/60000 (90%)]\tLoss: 0.213354\n",
      "Train Epoch: 6 [54400/60000 (91%)]\tLoss: 0.265041\n",
      "Train Epoch: 6 [55040/60000 (92%)]\tLoss: 0.474572\n",
      "Train Epoch: 6 [55680/60000 (93%)]\tLoss: 0.285973\n",
      "Train Epoch: 6 [56320/60000 (94%)]\tLoss: 0.073857\n",
      "Train Epoch: 6 [56960/60000 (95%)]\tLoss: 0.355616\n",
      "Train Epoch: 6 [57600/60000 (96%)]\tLoss: 0.251956\n",
      "Train Epoch: 6 [58240/60000 (97%)]\tLoss: 0.188765\n",
      "Train Epoch: 6 [58880/60000 (98%)]\tLoss: 0.414699\n",
      "Train Epoch: 6 [59520/60000 (99%)]\tLoss: 0.269743\n",
      "\n",
      "Test set: Avg. loss: 0.0867, Accuracy: 9785/10000 (97%)\n",
      "\n",
      "Train Epoch: 7 [0/60000 (0%)]\tLoss: 0.095595\n",
      "Train Epoch: 7 [640/60000 (1%)]\tLoss: 0.131671\n",
      "Train Epoch: 7 [1280/60000 (2%)]\tLoss: 0.167048\n",
      "Train Epoch: 7 [1920/60000 (3%)]\tLoss: 0.276213\n",
      "Train Epoch: 7 [2560/60000 (4%)]\tLoss: 0.184802\n",
      "Train Epoch: 7 [3200/60000 (5%)]\tLoss: 0.165028\n",
      "Train Epoch: 7 [3840/60000 (6%)]\tLoss: 0.119748\n",
      "Train Epoch: 7 [4480/60000 (7%)]\tLoss: 0.494288\n",
      "Train Epoch: 7 [5120/60000 (9%)]\tLoss: 0.089917\n",
      "Train Epoch: 7 [5760/60000 (10%)]\tLoss: 0.202036\n",
      "Train Epoch: 7 [6400/60000 (11%)]\tLoss: 0.148557\n",
      "Train Epoch: 7 [7040/60000 (12%)]\tLoss: 0.107048\n",
      "Train Epoch: 7 [7680/60000 (13%)]\tLoss: 0.161275\n",
      "Train Epoch: 7 [8320/60000 (14%)]\tLoss: 0.117705\n",
      "Train Epoch: 7 [8960/60000 (15%)]\tLoss: 0.283756\n",
      "Train Epoch: 7 [9600/60000 (16%)]\tLoss: 0.369207\n",
      "Train Epoch: 7 [10240/60000 (17%)]\tLoss: 0.123695\n",
      "Train Epoch: 7 [10880/60000 (18%)]\tLoss: 0.121423\n",
      "Train Epoch: 7 [11520/60000 (19%)]\tLoss: 0.143312\n",
      "Train Epoch: 7 [12160/60000 (20%)]\tLoss: 0.209553\n",
      "Train Epoch: 7 [12800/60000 (21%)]\tLoss: 0.248765\n",
      "Train Epoch: 7 [13440/60000 (22%)]\tLoss: 0.307455\n",
      "Train Epoch: 7 [14080/60000 (23%)]\tLoss: 0.106499\n",
      "Train Epoch: 7 [14720/60000 (25%)]\tLoss: 0.185032\n",
      "Train Epoch: 7 [15360/60000 (26%)]\tLoss: 0.432982\n",
      "Train Epoch: 7 [16000/60000 (27%)]\tLoss: 0.183713\n",
      "Train Epoch: 7 [16640/60000 (28%)]\tLoss: 0.313117\n",
      "Train Epoch: 7 [17280/60000 (29%)]\tLoss: 0.354992\n",
      "Train Epoch: 7 [17920/60000 (30%)]\tLoss: 0.639328\n",
      "Train Epoch: 7 [18560/60000 (31%)]\tLoss: 0.139113\n",
      "Train Epoch: 7 [19200/60000 (32%)]\tLoss: 0.130527\n",
      "Train Epoch: 7 [19840/60000 (33%)]\tLoss: 0.163096\n",
      "Train Epoch: 7 [20480/60000 (34%)]\tLoss: 0.153793\n",
      "Train Epoch: 7 [21120/60000 (35%)]\tLoss: 0.206557\n",
      "Train Epoch: 7 [21760/60000 (36%)]\tLoss: 0.127773\n",
      "Train Epoch: 7 [22400/60000 (37%)]\tLoss: 0.235806\n",
      "Train Epoch: 7 [23040/60000 (38%)]\tLoss: 0.420954\n",
      "Train Epoch: 7 [23680/60000 (39%)]\tLoss: 0.117016\n",
      "Train Epoch: 7 [24320/60000 (41%)]\tLoss: 0.071247\n",
      "Train Epoch: 7 [24960/60000 (42%)]\tLoss: 0.199621\n",
      "Train Epoch: 7 [25600/60000 (43%)]\tLoss: 0.538688\n",
      "Train Epoch: 7 [26240/60000 (44%)]\tLoss: 0.473975\n",
      "Train Epoch: 7 [26880/60000 (45%)]\tLoss: 0.186087\n",
      "Train Epoch: 7 [27520/60000 (46%)]\tLoss: 0.190581\n",
      "Train Epoch: 7 [28160/60000 (47%)]\tLoss: 0.243291\n",
      "Train Epoch: 7 [28800/60000 (48%)]\tLoss: 0.161765\n",
      "Train Epoch: 7 [29440/60000 (49%)]\tLoss: 0.228091\n",
      "Train Epoch: 7 [30080/60000 (50%)]\tLoss: 0.135765\n",
      "Train Epoch: 7 [30720/60000 (51%)]\tLoss: 0.265166\n",
      "Train Epoch: 7 [31360/60000 (52%)]\tLoss: 0.116263\n",
      "Train Epoch: 7 [32000/60000 (53%)]\tLoss: 0.266943\n",
      "Train Epoch: 7 [32640/60000 (54%)]\tLoss: 0.168137\n",
      "Train Epoch: 7 [33280/60000 (55%)]\tLoss: 0.120502\n",
      "Train Epoch: 7 [33920/60000 (57%)]\tLoss: 0.136583\n",
      "Train Epoch: 7 [34560/60000 (58%)]\tLoss: 0.192384\n",
      "Train Epoch: 7 [35200/60000 (59%)]\tLoss: 0.372223\n",
      "Train Epoch: 7 [35840/60000 (60%)]\tLoss: 0.220041\n",
      "Train Epoch: 7 [36480/60000 (61%)]\tLoss: 0.304549\n",
      "Train Epoch: 7 [37120/60000 (62%)]\tLoss: 0.339888\n",
      "Train Epoch: 7 [37760/60000 (63%)]\tLoss: 0.169735\n",
      "Train Epoch: 7 [38400/60000 (64%)]\tLoss: 0.470386\n",
      "Train Epoch: 7 [39040/60000 (65%)]\tLoss: 0.230720\n",
      "Train Epoch: 7 [39680/60000 (66%)]\tLoss: 0.223417\n",
      "Train Epoch: 7 [40320/60000 (67%)]\tLoss: 0.378582\n",
      "Train Epoch: 7 [40960/60000 (68%)]\tLoss: 0.370047\n",
      "Train Epoch: 7 [41600/60000 (69%)]\tLoss: 0.246050\n",
      "Train Epoch: 7 [42240/60000 (70%)]\tLoss: 0.051068\n",
      "Train Epoch: 7 [42880/60000 (71%)]\tLoss: 0.805185\n",
      "Train Epoch: 7 [43520/60000 (72%)]\tLoss: 0.195543\n",
      "Train Epoch: 7 [44160/60000 (74%)]\tLoss: 0.340051\n",
      "Train Epoch: 7 [44800/60000 (75%)]\tLoss: 0.213429\n",
      "Train Epoch: 7 [45440/60000 (76%)]\tLoss: 0.174739\n",
      "Train Epoch: 7 [46080/60000 (77%)]\tLoss: 0.185277\n",
      "Train Epoch: 7 [46720/60000 (78%)]\tLoss: 0.247490\n",
      "Train Epoch: 7 [47360/60000 (79%)]\tLoss: 0.286565\n",
      "Train Epoch: 7 [48000/60000 (80%)]\tLoss: 0.236834\n",
      "Train Epoch: 7 [48640/60000 (81%)]\tLoss: 0.377298\n",
      "Train Epoch: 7 [49280/60000 (82%)]\tLoss: 0.421128\n",
      "Train Epoch: 7 [49920/60000 (83%)]\tLoss: 0.393382\n",
      "Train Epoch: 7 [50560/60000 (84%)]\tLoss: 0.294981\n",
      "Train Epoch: 7 [51200/60000 (85%)]\tLoss: 0.380452\n",
      "Train Epoch: 7 [51840/60000 (86%)]\tLoss: 0.103757\n",
      "Train Epoch: 7 [52480/60000 (87%)]\tLoss: 0.273863\n",
      "Train Epoch: 7 [53120/60000 (88%)]\tLoss: 0.173106\n",
      "Train Epoch: 7 [53760/60000 (90%)]\tLoss: 0.199053\n",
      "Train Epoch: 7 [54400/60000 (91%)]\tLoss: 0.757209\n",
      "Train Epoch: 7 [55040/60000 (92%)]\tLoss: 0.302662\n",
      "Train Epoch: 7 [55680/60000 (93%)]\tLoss: 0.177056\n",
      "Train Epoch: 7 [56320/60000 (94%)]\tLoss: 0.195695\n",
      "Train Epoch: 7 [56960/60000 (95%)]\tLoss: 0.237367\n",
      "Train Epoch: 7 [57600/60000 (96%)]\tLoss: 0.261790\n",
      "Train Epoch: 7 [58240/60000 (97%)]\tLoss: 0.321682\n",
      "Train Epoch: 7 [58880/60000 (98%)]\tLoss: 0.122313\n",
      "Train Epoch: 7 [59520/60000 (99%)]\tLoss: 0.243841\n",
      "\n",
      "Test set: Avg. loss: 0.0826, Accuracy: 9801/10000 (98%)\n",
      "\n",
      "Train Epoch: 8 [0/60000 (0%)]\tLoss: 0.150911\n",
      "Train Epoch: 8 [640/60000 (1%)]\tLoss: 0.695131\n",
      "Train Epoch: 8 [1280/60000 (2%)]\tLoss: 0.144093\n",
      "Train Epoch: 8 [1920/60000 (3%)]\tLoss: 0.206792\n",
      "Train Epoch: 8 [2560/60000 (4%)]\tLoss: 0.071378\n",
      "Train Epoch: 8 [3200/60000 (5%)]\tLoss: 0.356831\n",
      "Train Epoch: 8 [3840/60000 (6%)]\tLoss: 0.165020\n",
      "Train Epoch: 8 [4480/60000 (7%)]\tLoss: 0.131573\n",
      "Train Epoch: 8 [5120/60000 (9%)]\tLoss: 0.246700\n",
      "Train Epoch: 8 [5760/60000 (10%)]\tLoss: 0.398066\n",
      "Train Epoch: 8 [6400/60000 (11%)]\tLoss: 0.233211\n",
      "Train Epoch: 8 [7040/60000 (12%)]\tLoss: 0.213892\n",
      "Train Epoch: 8 [7680/60000 (13%)]\tLoss: 0.138779\n",
      "Train Epoch: 8 [8320/60000 (14%)]\tLoss: 0.462546\n",
      "Train Epoch: 8 [8960/60000 (15%)]\tLoss: 0.130594\n",
      "Train Epoch: 8 [9600/60000 (16%)]\tLoss: 0.133311\n",
      "Train Epoch: 8 [10240/60000 (17%)]\tLoss: 0.227516\n",
      "Train Epoch: 8 [10880/60000 (18%)]\tLoss: 0.217480\n",
      "Train Epoch: 8 [11520/60000 (19%)]\tLoss: 0.283519\n",
      "Train Epoch: 8 [12160/60000 (20%)]\tLoss: 0.431819\n",
      "Train Epoch: 8 [12800/60000 (21%)]\tLoss: 0.113303\n",
      "Train Epoch: 8 [13440/60000 (22%)]\tLoss: 0.347215\n",
      "Train Epoch: 8 [14080/60000 (23%)]\tLoss: 0.255392\n",
      "Train Epoch: 8 [14720/60000 (25%)]\tLoss: 0.297159\n",
      "Train Epoch: 8 [15360/60000 (26%)]\tLoss: 0.452928\n",
      "Train Epoch: 8 [16000/60000 (27%)]\tLoss: 0.266634\n",
      "Train Epoch: 8 [16640/60000 (28%)]\tLoss: 0.224856\n",
      "Train Epoch: 8 [17280/60000 (29%)]\tLoss: 0.369162\n",
      "Train Epoch: 8 [17920/60000 (30%)]\tLoss: 0.339185\n",
      "Train Epoch: 8 [18560/60000 (31%)]\tLoss: 0.112169\n",
      "Train Epoch: 8 [19200/60000 (32%)]\tLoss: 0.316781\n",
      "Train Epoch: 8 [19840/60000 (33%)]\tLoss: 0.173151\n",
      "Train Epoch: 8 [20480/60000 (34%)]\tLoss: 0.372427\n",
      "Train Epoch: 8 [21120/60000 (35%)]\tLoss: 0.427288\n",
      "Train Epoch: 8 [21760/60000 (36%)]\tLoss: 0.463299\n",
      "Train Epoch: 8 [22400/60000 (37%)]\tLoss: 0.262475\n",
      "Train Epoch: 8 [23040/60000 (38%)]\tLoss: 0.219657\n",
      "Train Epoch: 8 [23680/60000 (39%)]\tLoss: 0.302984\n",
      "Train Epoch: 8 [24320/60000 (41%)]\tLoss: 0.103399\n",
      "Train Epoch: 8 [24960/60000 (42%)]\tLoss: 0.123204\n",
      "Train Epoch: 8 [25600/60000 (43%)]\tLoss: 0.138693\n",
      "Train Epoch: 8 [26240/60000 (44%)]\tLoss: 0.491739\n",
      "Train Epoch: 8 [26880/60000 (45%)]\tLoss: 0.104519\n",
      "Train Epoch: 8 [27520/60000 (46%)]\tLoss: 0.200593\n",
      "Train Epoch: 8 [28160/60000 (47%)]\tLoss: 0.267135\n",
      "Train Epoch: 8 [28800/60000 (48%)]\tLoss: 0.517471\n",
      "Train Epoch: 8 [29440/60000 (49%)]\tLoss: 0.102938\n",
      "Train Epoch: 8 [30080/60000 (50%)]\tLoss: 0.242284\n",
      "Train Epoch: 8 [30720/60000 (51%)]\tLoss: 0.420758\n",
      "Train Epoch: 8 [31360/60000 (52%)]\tLoss: 0.218093\n",
      "Train Epoch: 8 [32000/60000 (53%)]\tLoss: 0.351236\n",
      "Train Epoch: 8 [32640/60000 (54%)]\tLoss: 0.256061\n",
      "Train Epoch: 8 [33280/60000 (55%)]\tLoss: 0.316658\n",
      "Train Epoch: 8 [33920/60000 (57%)]\tLoss: 0.424592\n",
      "Train Epoch: 8 [34560/60000 (58%)]\tLoss: 0.212092\n",
      "Train Epoch: 8 [35200/60000 (59%)]\tLoss: 0.224980\n",
      "Train Epoch: 8 [35840/60000 (60%)]\tLoss: 0.127237\n",
      "Train Epoch: 8 [36480/60000 (61%)]\tLoss: 0.301402\n",
      "Train Epoch: 8 [37120/60000 (62%)]\tLoss: 0.101878\n",
      "Train Epoch: 8 [37760/60000 (63%)]\tLoss: 0.158164\n",
      "Train Epoch: 8 [38400/60000 (64%)]\tLoss: 0.348694\n",
      "Train Epoch: 8 [39040/60000 (65%)]\tLoss: 0.295473\n",
      "Train Epoch: 8 [39680/60000 (66%)]\tLoss: 0.122417\n",
      "Train Epoch: 8 [40320/60000 (67%)]\tLoss: 0.172464\n",
      "Train Epoch: 8 [40960/60000 (68%)]\tLoss: 0.326881\n",
      "Train Epoch: 8 [41600/60000 (69%)]\tLoss: 0.272150\n",
      "Train Epoch: 8 [42240/60000 (70%)]\tLoss: 0.101050\n",
      "Train Epoch: 8 [42880/60000 (71%)]\tLoss: 0.222612\n",
      "Train Epoch: 8 [43520/60000 (72%)]\tLoss: 0.239145\n",
      "Train Epoch: 8 [44160/60000 (74%)]\tLoss: 0.276991\n",
      "Train Epoch: 8 [44800/60000 (75%)]\tLoss: 0.222709\n",
      "Train Epoch: 8 [45440/60000 (76%)]\tLoss: 0.821550\n",
      "Train Epoch: 8 [46080/60000 (77%)]\tLoss: 0.669286\n",
      "Train Epoch: 8 [46720/60000 (78%)]\tLoss: 0.241659\n",
      "Train Epoch: 8 [47360/60000 (79%)]\tLoss: 0.448992\n",
      "Train Epoch: 8 [48000/60000 (80%)]\tLoss: 0.229928\n",
      "Train Epoch: 8 [48640/60000 (81%)]\tLoss: 0.112875\n",
      "Train Epoch: 8 [49280/60000 (82%)]\tLoss: 0.155159\n",
      "Train Epoch: 8 [49920/60000 (83%)]\tLoss: 0.398233\n",
      "Train Epoch: 8 [50560/60000 (84%)]\tLoss: 0.160499\n",
      "Train Epoch: 8 [51200/60000 (85%)]\tLoss: 0.152929\n",
      "Train Epoch: 8 [51840/60000 (86%)]\tLoss: 0.087209\n",
      "Train Epoch: 8 [52480/60000 (87%)]\tLoss: 0.279169\n",
      "Train Epoch: 8 [53120/60000 (88%)]\tLoss: 0.280736\n",
      "Train Epoch: 8 [53760/60000 (90%)]\tLoss: 0.247209\n",
      "Train Epoch: 8 [54400/60000 (91%)]\tLoss: 0.169016\n",
      "Train Epoch: 8 [55040/60000 (92%)]\tLoss: 0.364862\n",
      "Train Epoch: 8 [55680/60000 (93%)]\tLoss: 0.335748\n",
      "Train Epoch: 8 [56320/60000 (94%)]\tLoss: 0.218713\n",
      "Train Epoch: 8 [56960/60000 (95%)]\tLoss: 0.229638\n",
      "Train Epoch: 8 [57600/60000 (96%)]\tLoss: 0.280433\n",
      "Train Epoch: 8 [58240/60000 (97%)]\tLoss: 0.332155\n",
      "Train Epoch: 8 [58880/60000 (98%)]\tLoss: 0.104329\n",
      "Train Epoch: 8 [59520/60000 (99%)]\tLoss: 0.196028\n",
      "\n",
      "Test set: Avg. loss: 0.0703, Accuracy: 9813/10000 (98%)\n",
      "\n",
      "CPU times: user 1min 51s, sys: 805 ms, total: 1min 52s\n",
      "Wall time: 1min 58s\n"
     ]
    }
   ],
   "source": [
    "# To ensure reproducibility, ensure we never attempt to train without also reseting the random seed every time.\n",
    "if training_runs_count >= seed_reset_count:\n",
    "  msg = \"You didn't reset the random seed! Runs won't be reproducible. Re-run reseting random seed.\"\n",
    "  raise Exception(msg)\n",
    "\n",
    "training_runs_count += 1\n",
    "\n",
    "def time_wrapper():\n",
    "  test()\n",
    "  for epoch in range(1, n_epochs + 1):\n",
    "    train(epoch)\n",
    "    test()\n",
    "\n",
    "%time time_wrapper()"
   ]
  },
  {
   "cell_type": "code",
   "execution_count": 46,
   "metadata": {},
   "outputs": [
    {
     "data": {
      "text/plain": [
       "Text(0, 0.5, 'negative log likelihood loss')"
      ]
     },
     "execution_count": 46,
     "metadata": {},
     "output_type": "execute_result"
    },
    {
     "data": {
      "image/png": "[encoded data removed]",
      "text/plain": [
       "<Figure size 432x288 with 1 Axes>"
      ]
     },
     "metadata": {
      "needs_background": "light"
     },
     "output_type": "display_data"
    }
   ],
   "source": [
    "fig = plt.figure()\n",
    "plt.plot(train_counter, train_losses, color='blue')\n",
    "plt.scatter(test_counter, test_losses, color='red')\n",
    "plt.legend(['Train Loss', 'Test Loss'], loc='upper right')\n",
    "plt.xlabel('number of training examples seen')\n",
    "plt.ylabel('negative log likelihood loss')"
   ]
  },
  {
   "cell_type": "markdown",
   "metadata": {},
   "source": [
    "## Inference Example With Trained Network"
   ]
  },
  {
   "cell_type": "code",
   "execution_count": 47,
   "metadata": {},
   "outputs": [
    {
     "name": "stderr",
     "output_type": "stream",
     "text": [
      "/gpfs/gpfs_gl4_16mb/b9p111/fdl_sw/conda/envs/wmlce_py3_sdo/lib/python3.6/site-packages/ipykernel_launcher.py:17: UserWarning: Implicit dimension choice for log_softmax has been deprecated. Change the call to include dim=X as an argument.\n"
     ]
    }
   ],
   "source": [
    "# Note: this inference example is coming from the training dataset, not the testing dataset.\n",
    "with torch.no_grad():\n",
    "  output = model(example_data.to(device))\n",
    "  output = output.cpu()"
   ]
  },
  {
   "cell_type": "code",
   "execution_count": 48,
   "metadata": {},
   "outputs": [
    {
     "data": {
      "image/png": "[encoded data removed]",
      "text/plain": [
       "<Figure size 432x288 with 6 Axes>"
      ]
     },
     "execution_count": 48,
     "metadata": {},
     "output_type": "execute_result"
    },
    {
     "data": {
      "image/png": "[encoded data removed]",
      "text/plain": [
       "<Figure size 432x288 with 6 Axes>"
      ]
     },
     "metadata": {},
     "output_type": "display_data"
    }
   ],
   "source": [
    "fig = plt.figure()\n",
    "for i in range(6):\n",
    "  plt.subplot(2,3,i+1)\n",
    "  plt.tight_layout()\n",
    "  plt.imshow(example_data[i][0], cmap='gray', interpolation='none')\n",
    "  plt.title(\"Prediction: {}\".format(\n",
    "    output.data.max(1, keepdim=True)[1][i].item()))\n",
    "  plt.xticks([])\n",
    "  plt.yticks([])\n",
    "fig"
   ]
  },
  {
   "cell_type": "markdown",
   "metadata": {},
   "source": [
    "## Continue Training From Saved Checkpoint &amp; Final Training Results"
   ]
  },
  {
   "cell_type": "code",
   "execution_count": 28,
   "metadata": {},
   "outputs": [],
   "source": [
    "# continued_network = Net()\n",
    "# continued_optimizer = optim.SGD(network.parameters(), lr=learning_rate,\n",
    "#                                 momentum=momentum)\n",
    "\n",
    "# network_state_dict = torch.load(model_path)\n",
    "# continued_network.load_state_dict(network_state_dict)\n",
    "\n",
    "# optimizer_state_dict = torch.load(optimizer_path)\n",
    "# continued_optimizer.load_state_dict(optimizer_state_dict)"
   ]
  },
  {
   "cell_type": "code",
   "execution_count": 29,
   "metadata": {},
   "outputs": [],
   "source": [
    "# def continue_training():\n",
    "#   for i in range(4, 9):\n",
    "#     test_counter.append(i*len(train_loader.dataset))\n",
    "#     train(i)\n",
    "#     test()\n",
    "\n",
    "# %time continue_training()"
   ]
  },
  {
   "cell_type": "code",
   "execution_count": 30,
   "metadata": {},
   "outputs": [],
   "source": [
    "# fig = plt.figure()\n",
    "# plt.plot(train_counter, train_losses, color='blue')\n",
    "# plt.scatter(test_counter, test_losses, color='red')\n",
    "# plt.legend(['Train Loss', 'Test Loss'], loc='upper right')\n",
    "# plt.xlabel('number of training examples seen')\n",
    "# plt.ylabel('negative log likelihood loss')"
   ]
  },
  {
   "cell_type": "markdown",
   "metadata": {},
   "source": [
    "## Final Best Results\n",
    "\n",
    "<b>02b_simple_toy1: Test set: Avg. loss: 0.0393, Accuracy: 9870/10000 (98%)</b><br/>\n",
    "<b>01b_simple_toy1: Test set: Avg. loss: 0.0569, Accuracy: 9818/10000 (98%)</b>"
   ]
  },
  {
   "cell_type": "markdown",
   "metadata": {},
   "source": [
    "## Cleanup"
   ]
  },
  {
   "cell_type": "code",
   "execution_count": 31,
   "metadata": {},
   "outputs": [],
   "source": [
    "# Force the GPU connection to close so that Jupyter sessions don't collide with each other.\n",
    "device = torch.device(\"cpu\")"
   ]
  }
 ],
 "metadata": {
  "kernelspec": {
   "display_name": "Python 3",
   "language": "python",
   "name": "python3"
  },
  "language_info": {
   "codemirror_mode": {
    "name": "ipython",
    "version": 3
   },
   "file_extension": ".py",
   "mimetype": "text/x-python",
   "name": "python",
   "nbconvert_exporter": "python",
   "pygments_lexer": "ipython3",
   "version": "3.6.8"
  }
 },
 "nbformat": 4,
 "nbformat_minor": 2
}
