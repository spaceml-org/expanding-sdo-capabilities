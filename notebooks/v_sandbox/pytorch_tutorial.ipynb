{
 "cells": [
  {
   "cell_type": "code",
   "execution_count": 1,
   "metadata": {},
   "outputs": [],
   "source": [
    "import torch\n",
    "import numpy as np"
   ]
  },
  {
   "cell_type": "code",
   "execution_count": 4,
   "metadata": {},
   "outputs": [
    {
     "name": "stdout",
     "output_type": "stream",
     "text": [
      "1.1.0\n"
     ]
    }
   ],
   "source": [
    "print(torch.__version__)"
   ]
  },
  {
   "cell_type": "code",
   "execution_count": 5,
   "metadata": {},
   "outputs": [
    {
     "data": {
      "text/plain": [
       "array([1, 2, 3])"
      ]
     },
     "execution_count": 5,
     "metadata": {},
     "output_type": "execute_result"
    }
   ],
   "source": [
    "np.array([1,2,3])"
   ]
  },
  {
   "cell_type": "code",
   "execution_count": 6,
   "metadata": {},
   "outputs": [
    {
     "data": {
      "text/plain": [
       "tensor([[1, 2, 3],\n",
       "        [4, 5, 6]])"
      ]
     },
     "execution_count": 6,
     "metadata": {},
     "output_type": "execute_result"
    }
   ],
   "source": [
    "torch.tensor([[1,2,3], [4,5,6]])"
   ]
  },
  {
   "cell_type": "code",
   "execution_count": 8,
   "metadata": {},
   "outputs": [
    {
     "data": {
      "text/plain": [
       "tensor([[0.5876, 0.7076, 0.8164,  ..., 0.3499, 0.9700, 0.7362],\n",
       "        [0.2708, 0.9975, 0.6224,  ..., 0.5791, 0.5116, 0.2897],\n",
       "        [0.6252, 0.3112, 0.5520,  ..., 0.6774, 0.5797, 0.2899],\n",
       "        ...,\n",
       "        [0.4128, 0.7013, 0.5523,  ..., 0.3763, 0.8040, 0.5043],\n",
       "        [0.9746, 0.8645, 0.3814,  ..., 0.1396, 0.8352, 0.2831],\n",
       "        [0.1766, 0.0450, 0.6158,  ..., 0.1844, 0.2779, 0.4601]])"
      ]
     },
     "execution_count": 8,
     "metadata": {},
     "output_type": "execute_result"
    }
   ],
   "source": [
    "torch.rand(200,200)"
   ]
  },
  {
   "cell_type": "code",
   "execution_count": 9,
   "metadata": {},
   "outputs": [
    {
     "data": {
      "text/plain": [
       "tensor([[[4.7221e-01, 6.0276e-01, 8.2397e-01,  ..., 5.4681e-04,\n",
       "          9.3292e-02, 9.2094e-01],\n",
       "         [9.4484e-01, 4.7779e-01, 2.3122e-01,  ..., 5.7893e-01,\n",
       "          4.2175e-01, 4.3583e-01],\n",
       "         [3.2968e-01, 6.3147e-01, 3.4616e-01,  ..., 5.9249e-01,\n",
       "          8.8917e-01, 5.5168e-01],\n",
       "         ...,\n",
       "         [4.8964e-01, 9.0460e-01, 4.3910e-01,  ..., 8.0428e-01,\n",
       "          5.8596e-01, 2.2763e-01],\n",
       "         [7.6287e-01, 2.9821e-02, 3.9592e-01,  ..., 9.7596e-01,\n",
       "          4.0014e-01, 7.7283e-01],\n",
       "         [6.3397e-01, 8.3694e-01, 3.7866e-01,  ..., 1.8230e-01,\n",
       "          1.6446e-01, 5.2888e-01]],\n",
       "\n",
       "        [[1.9865e-02, 7.8617e-01, 8.7021e-01,  ..., 8.4477e-01,\n",
       "          2.7231e-01, 1.3252e-01],\n",
       "         [8.2943e-01, 3.8967e-01, 7.7170e-01,  ..., 1.1205e-01,\n",
       "          6.2277e-01, 9.2684e-02],\n",
       "         [5.7125e-01, 3.2246e-01, 6.3755e-01,  ..., 3.7293e-02,\n",
       "          7.1368e-01, 2.8944e-01],\n",
       "         ...,\n",
       "         [8.1897e-01, 6.9362e-01, 9.9920e-01,  ..., 6.9764e-01,\n",
       "          8.2119e-01, 7.0105e-01],\n",
       "         [9.7960e-01, 2.8939e-01, 1.2761e-02,  ..., 2.6938e-01,\n",
       "          9.9063e-01, 2.8478e-01],\n",
       "         [2.0468e-01, 4.3680e-01, 8.9808e-01,  ..., 6.6967e-01,\n",
       "          7.7048e-02, 2.8896e-01]],\n",
       "\n",
       "        [[6.7756e-01, 6.1474e-01, 6.7402e-02,  ..., 3.3581e-01,\n",
       "          1.9362e-01, 7.0424e-03],\n",
       "         [5.0128e-01, 1.4870e-01, 6.9648e-01,  ..., 8.3969e-01,\n",
       "          2.4849e-01, 1.0740e-01],\n",
       "         [5.1233e-01, 4.9282e-01, 8.4740e-02,  ..., 6.7100e-01,\n",
       "          8.8636e-01, 6.5336e-02],\n",
       "         ...,\n",
       "         [6.2222e-01, 4.2216e-01, 2.7544e-02,  ..., 4.0602e-01,\n",
       "          1.7797e-01, 1.1163e-02],\n",
       "         [5.4093e-01, 4.8616e-01, 9.4178e-01,  ..., 5.8580e-01,\n",
       "          5.9356e-01, 8.4938e-01],\n",
       "         [1.9557e-01, 5.2998e-01, 1.3920e-02,  ..., 7.0503e-01,\n",
       "          4.9354e-01, 4.3398e-01]]])"
      ]
     },
     "execution_count": 9,
     "metadata": {},
     "output_type": "execute_result"
    }
   ],
   "source": [
    "torch.rand(3, 200,200)"
   ]
  },
  {
   "cell_type": "code",
   "execution_count": 12,
   "metadata": {},
   "outputs": [],
   "source": [
    "import autograd.numpy as np\n",
    "# autograd allow automatic differentation on numpy arrays"
   ]
  },
  {
   "cell_type": "code",
   "execution_count": 2,
   "metadata": {},
   "outputs": [],
   "source": [
    "# i.e. video data batch_sze, timestemps, channel, image size, image size\n",
    "x = torch.rand(100, 100, 3, 200,200)"
   ]
  },
  {
   "cell_type": "code",
   "execution_count": 3,
   "metadata": {},
   "outputs": [
    {
     "data": {
      "text/plain": [
       "tensor([1, 2, 3, 4])"
      ]
     },
     "execution_count": 3,
     "metadata": {},
     "output_type": "execute_result"
    }
   ],
   "source": [
    "x_numpy = np.array([1,2,3,4])\n",
    "torch.from_numpy(x_numpy)"
   ]
  },
  {
   "cell_type": "code",
   "execution_count": 6,
   "metadata": {},
   "outputs": [],
   "source": [
    "x_cuda = x.cuda()"
   ]
  },
  {
   "cell_type": "code",
   "execution_count": 7,
   "metadata": {},
   "outputs": [
    {
     "data": {
      "text/plain": [
       "device(type='cpu')"
      ]
     },
     "execution_count": 7,
     "metadata": {},
     "output_type": "execute_result"
    }
   ],
   "source": [
    "x.device"
   ]
  },
  {
   "cell_type": "code",
   "execution_count": 8,
   "metadata": {},
   "outputs": [
    {
     "data": {
      "text/plain": [
       "device(type='cuda', index=0)"
      ]
     },
     "execution_count": 8,
     "metadata": {},
     "output_type": "execute_result"
    }
   ],
   "source": [
    "x_cuda.device"
   ]
  },
  {
   "cell_type": "markdown",
   "metadata": {},
   "source": [
    "from torch.autograd import Variable is not longer needed"
   ]
  },
  {
   "cell_type": "code",
   "execution_count": 24,
   "metadata": {},
   "outputs": [],
   "source": [
    "def f(a, b):\n",
    "    c = a * b\n",
    "    d= torch.log(c)\n",
    "    return d"
   ]
  },
  {
   "cell_type": "code",
   "execution_count": 25,
   "metadata": {},
   "outputs": [],
   "source": [
    "a = torch.tensor(2., requires_grad=True)\n",
    "b = torch.tensor(3., requires_grad=True)"
   ]
  },
  {
   "cell_type": "code",
   "execution_count": 20,
   "metadata": {},
   "outputs": [
    {
     "data": {
      "text/plain": [
       "torch.Size([])"
      ]
     },
     "execution_count": 20,
     "metadata": {},
     "output_type": "execute_result"
    }
   ],
   "source": [
    "x.shape"
   ]
  },
  {
   "cell_type": "code",
   "execution_count": 26,
   "metadata": {},
   "outputs": [
    {
     "name": "stdout",
     "output_type": "stream",
     "text": [
      "tensor(1.7918, grad_fn=<LogBackward>)\n"
     ]
    }
   ],
   "source": [
    "y = f(a,b)\n",
    "print(y)"
   ]
  },
  {
   "cell_type": "code",
   "execution_count": 27,
   "metadata": {},
   "outputs": [
    {
     "name": "stdout",
     "output_type": "stream",
     "text": [
      "tensor(0.5000) tensor(0.3333)\n"
     ]
    }
   ],
   "source": [
    "y.backward()\n",
    "print(a.grad, b.grad)"
   ]
  },
  {
   "cell_type": "code",
   "execution_count": null,
   "metadata": {},
   "outputs": [],
   "source": []
  }
 ],
 "metadata": {
  "kernelspec": {
   "display_name": "Python 3",
   "language": "python",
   "name": "python3"
  },
  "language_info": {
   "codemirror_mode": {
    "name": "ipython",
    "version": 3
   },
   "file_extension": ".py",
   "mimetype": "text/x-python",
   "name": "python",
   "nbconvert_exporter": "python",
   "pygments_lexer": "ipython3",
   "version": "3.6.8"
  }
 },
 "nbformat": 4,
 "nbformat_minor": 2
}
