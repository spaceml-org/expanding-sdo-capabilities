{
 "cells": [
  {
   "cell_type": "code",
   "execution_count": 1,
   "metadata": {},
   "outputs": [],
   "source": [
    "import torch\n",
    "\n",
    "from sdo.pytorch_utilities import create_dataloader\n",
    "from sdo.models.vt_models.vt_unet_attention import UNet_Attention\n",
    "from sdo.datasets.virtual_telescope_sdo_dataset import VirtualTelescopeSDO_Dataset"
   ]
  },
  {
   "cell_type": "code",
   "execution_count": 2,
   "metadata": {},
   "outputs": [],
   "source": [
    "data_basedir = '/fdl_sdo_data/bucket/EXPERIMENT_RESULTS/VIRTUAL_TELESCOPE/'\n",
    "exp_dir = data_basedir + '/vale_test/'\n",
    "model_name= '0005_vale_test_model.pth'\n",
    "data_inventory = '/fdl_sdo_data/bucket/inventory.pkl'\n",
    "channels = ['0094', '0193', '0171', '0211']"
   ]
  },
  {
   "cell_type": "code",
   "execution_count": 3,
   "metadata": {},
   "outputs": [],
   "source": [
    "model = UNet_Attention(input_shape=(3, 128, 128), num_filter=64, LR_neg_slope=0.2, depth=4)\n",
    "model.load_state_dict(torch.load(exp_dir+model_name,map_location=torch.device('cpu')))\n",
    "model.eval();"
   ]
  },
  {
   "cell_type": "code",
   "execution_count": 4,
   "metadata": {},
   "outputs": [],
   "source": [
    "test_dataset = VirtualTelescopeSDO_Dataset(data_basedir = data_basedir,\n",
    "                           data_inventory = data_inventory,\n",
    "                           channels = channels,\n",
    "                           num_channels = len(channels),\n",
    "                           yr_range = [2013,2013],\n",
    "                           mnt_step = 1,\n",
    "                           day_step = 7,\n",
    "                           h_step = 1,\n",
    "                           min_step = 1,\n",
    "                           resolution = 512,\n",
    "                           subsample = 4,\n",
    "                           test_ratio= 1,\n",
    "                           test = True)\n",
    "test_loader = create_dataloader(test_dataset, batch_size=128, num_dataloader_workers=8, shuffle=False, train=True)"
   ]
  },
  {
   "cell_type": "code",
   "execution_count": null,
   "metadata": {},
   "outputs": [
    {
     "name": "stdout",
     "output_type": "stream",
     "text": [
      "> <ipython-input-5-a9f89a054a57>(4)<module>()\n",
      "-> output = model(input_data[0])\n"
     ]
    },
    {
     "name": "stdin",
     "output_type": "stream",
     "text": [
      "(Pdb)  output = model(input_data[0])\n"
     ]
    },
    {
     "name": "stdout",
     "output_type": "stream",
     "text": [
      "--KeyboardInterrupt--\n"
     ]
    }
   ],
   "source": [
    "with torch.no_grad():\n",
    "    for batch_idx, input_data in enumerate(test_loader):\n",
    "        import pdb; pdb.set_trace()\n",
    "        output = model(input_data[0])"
   ]
  },
  {
   "cell_type": "code",
   "execution_count": null,
   "metadata": {},
   "outputs": [],
   "source": []
  }
 ],
 "metadata": {
  "kernelspec": {
   "display_name": "Python 3",
   "language": "python",
   "name": "python3"
  },
  "language_info": {
   "codemirror_mode": {
    "name": "ipython",
    "version": 3
   },
   "file_extension": ".py",
   "mimetype": "text/x-python",
   "name": "python",
   "nbconvert_exporter": "python",
   "pygments_lexer": "ipython3",
   "version": "3.7.4"
  }
 },
 "nbformat": 4,
 "nbformat_minor": 4
}
