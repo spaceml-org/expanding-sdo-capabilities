{
 "cells": [
  {
   "cell_type": "markdown",
   "metadata": {},
   "source": [
    "The aim of this notebook is twofold:\n",
    "* being an example of how to load a file from a bucket and how to write something out on google cloud\n",
    "* reproduce some baseline plots needed for the NeurIPS final abstract"
   ]
  },
  {
   "cell_type": "markdown",
   "metadata": {},
   "source": [
    "# Loading a model object "
   ]
  },
  {
   "cell_type": "code",
   "execution_count": 9,
   "metadata": {},
   "outputs": [],
   "source": [
    "! export BUCKET_NAME='fdl-sdo-data'\n",
    "! export PATH_DATA='/home/jupyter/data/'\n",
    "! export RESULTS='EXPERIMENT_RESULTS/VIRTUAL_TELESCOPE/v_experiment_12.tar'"
   ]
  },
  {
   "cell_type": "markdown",
   "metadata": {},
   "source": [
    "The follwing does not work, I don't know why. The same expression without using env variables works"
   ]
  },
  {
   "cell_type": "code",
   "execution_count": 12,
   "metadata": {},
   "outputs": [
    {
     "name": "stdout",
     "output_type": "stream",
     "text": [
      "CommandException: \"cp\" command does not support provider-only URLs.\n"
     ]
    }
   ],
   "source": [
    "! gsutil cp gs://${BUCKET_NAME}/${RESULTS} ${PATH_DATA}"
   ]
  },
  {
   "cell_type": "markdown",
   "metadata": {},
   "source": [
    "The command below works but it is painfully slow. Saving all together in massive tar folder was not a great idea ..."
   ]
  },
  {
   "cell_type": "code",
   "execution_count": 15,
   "metadata": {},
   "outputs": [
    {
     "name": "stdout",
     "output_type": "stream",
     "text": [
      "Copying gs://fdl-sdo-data/EXPERIMENT_RESULTS/VIRTUAL_TELESCOPE/mark_linear_l1loss.tar...\n",
      "^C[0 files][ 10.0 GiB/228.3 GiB]   44.4 MiB/s                                   \n"
     ]
    }
   ],
   "source": [
    "! gsutil cp gs://fdl-sdo-data/EXPERIMENT_RESULTS/VIRTUAL_TELESCOPE/mark_linear_l1loss.tar /home/jupyter/data/"
   ]
  },
  {
   "cell_type": "markdown",
   "metadata": {},
   "source": [
    "I ended up mounting the fdl-sdo-data in a local folder and from there I extracted locally only the model file I needed\n",
    "\n",
    "! tar -xf exp_results/EXPERIMENT_RESULTS/VIRTUAL_TELESCOPE/v_experiment_12.tar v_experiment_12/0300_v_experiment_12_model.pth"
   ]
  },
  {
   "cell_type": "code",
   "execution_count": 16,
   "metadata": {},
   "outputs": [],
   "source": [
    "model_path = '/home/jupyter/tmp/v_experiment_12/0300_v_experiment_12_model.pth'"
   ]
  },
  {
   "cell_type": "markdown",
   "metadata": {},
   "source": [
    "# Loading the data"
   ]
  },
  {
   "cell_type": "code",
   "execution_count": 17,
   "metadata": {},
   "outputs": [
    {
     "name": "stdout",
     "output_type": "stream",
     "text": [
      "Copying gs://fdl-sdo-data/2017/AIA_0094_201701.tar...\n",
      "/ [1 files][  6.2 GiB/  6.2 GiB]   89.2 MiB/s                                   \n",
      "Operation completed over 1 objects/6.2 GiB.                                      \n"
     ]
    }
   ],
   "source": [
    "!gsutil cp gs://fdl-sdo-data/2017/AIA_0094_201701.tar /home/jupyter/tmp/"
   ]
  },
  {
   "cell_type": "code",
   "execution_count": null,
   "metadata": {},
   "outputs": [],
   "source": []
  }
 ],
 "metadata": {
  "kernelspec": {
   "display_name": "Python 3",
   "language": "python",
   "name": "python3"
  },
  "language_info": {
   "codemirror_mode": {
    "name": "ipython",
    "version": 3
   },
   "file_extension": ".py",
   "mimetype": "text/x-python",
   "name": "python",
   "nbconvert_exporter": "python",
   "pygments_lexer": "ipython3",
   "version": "3.7.4"
  }
 },
 "nbformat": 4,
 "nbformat_minor": 4
}
