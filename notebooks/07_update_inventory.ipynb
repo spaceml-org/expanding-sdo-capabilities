{
 "cells": [
  {
   "cell_type": "markdown",
   "metadata": {},
   "source": [
    "# Change path in inventory file"
   ]
  },
  {
   "cell_type": "code",
   "execution_count": 1,
   "metadata": {},
   "outputs": [],
   "source": [
    "import pandas as pd"
   ]
  },
  {
   "cell_type": "code",
   "execution_count": 2,
   "metadata": {},
   "outputs": [],
   "source": [
    "path_inventory = '/fdl_sdo_data/SDOMLmm/fdl_sw/SDOMLmm/inventory.pkl'\n",
    "path_updated_inventory = '/home/Valentina/inventory_1904.pkl'"
   ]
  },
  {
   "cell_type": "code",
   "execution_count": 3,
   "metadata": {},
   "outputs": [],
   "source": [
    "data = pd.read_pickle(path_inventory)\n",
    "data['file'] = data['file'].str.replace(\n",
    "    '/gpfs/gpfs_gl4_16mb/b9p111/fdl_sw/SDOMLmm/','/fdl_sdo_data/SDOMLmm/fdl_sw/SDOMLmm/')\n",
    "pd.to_pickle(data, path_updated_inventory)"
   ]
  },
  {
   "cell_type": "code",
   "execution_count": 4,
   "metadata": {},
   "outputs": [],
   "source": [
    "new_data = pd.read_pickle(path_updated_inventory)"
   ]
  },
  {
   "cell_type": "code",
   "execution_count": 5,
   "metadata": {},
   "outputs": [
    {
     "data": {
      "text/html": [
       "<div>\n",
       "<style scoped>\n",
       "    .dataframe tbody tr th:only-of-type {\n",
       "        vertical-align: middle;\n",
       "    }\n",
       "\n",
       "    .dataframe tbody tr th {\n",
       "        vertical-align: top;\n",
       "    }\n",
       "\n",
       "    .dataframe thead th {\n",
       "        text-align: right;\n",
       "    }\n",
       "</style>\n",
       "<table border=\"1\" class=\"dataframe\">\n",
       "  <thead>\n",
       "    <tr style=\"text-align: right;\">\n",
       "      <th></th>\n",
       "      <th>year</th>\n",
       "      <th>month</th>\n",
       "      <th>day</th>\n",
       "      <th>hour</th>\n",
       "      <th>min</th>\n",
       "      <th>channel</th>\n",
       "      <th>file</th>\n",
       "    </tr>\n",
       "    <tr>\n",
       "      <th>index</th>\n",
       "      <th></th>\n",
       "      <th></th>\n",
       "      <th></th>\n",
       "      <th></th>\n",
       "      <th></th>\n",
       "      <th></th>\n",
       "      <th></th>\n",
       "    </tr>\n",
       "  </thead>\n",
       "  <tbody>\n",
       "    <tr>\n",
       "      <td>1076941452</td>\n",
       "      <td>2010</td>\n",
       "      <td>5</td>\n",
       "      <td>1</td>\n",
       "      <td>0</td>\n",
       "      <td>12</td>\n",
       "      <td>by</td>\n",
       "      <td>/fdl_sdo_data/SDOMLmm/fdl_sw/SDOMLmm/2010/05/0...</td>\n",
       "    </tr>\n",
       "    <tr>\n",
       "      <td>1076941452</td>\n",
       "      <td>2010</td>\n",
       "      <td>5</td>\n",
       "      <td>1</td>\n",
       "      <td>0</td>\n",
       "      <td>12</td>\n",
       "      <td>bx</td>\n",
       "      <td>/fdl_sdo_data/SDOMLmm/fdl_sw/SDOMLmm/2010/05/0...</td>\n",
       "    </tr>\n",
       "    <tr>\n",
       "      <td>1076941452</td>\n",
       "      <td>2010</td>\n",
       "      <td>5</td>\n",
       "      <td>1</td>\n",
       "      <td>0</td>\n",
       "      <td>12</td>\n",
       "      <td>bz</td>\n",
       "      <td>/fdl_sdo_data/SDOMLmm/fdl_sw/SDOMLmm/2010/05/0...</td>\n",
       "    </tr>\n",
       "    <tr>\n",
       "      <td>1076941464</td>\n",
       "      <td>2010</td>\n",
       "      <td>5</td>\n",
       "      <td>1</td>\n",
       "      <td>0</td>\n",
       "      <td>24</td>\n",
       "      <td>by</td>\n",
       "      <td>/fdl_sdo_data/SDOMLmm/fdl_sw/SDOMLmm/2010/05/0...</td>\n",
       "    </tr>\n",
       "    <tr>\n",
       "      <td>1076941464</td>\n",
       "      <td>2010</td>\n",
       "      <td>5</td>\n",
       "      <td>1</td>\n",
       "      <td>0</td>\n",
       "      <td>24</td>\n",
       "      <td>bx</td>\n",
       "      <td>/fdl_sdo_data/SDOMLmm/fdl_sw/SDOMLmm/2010/05/0...</td>\n",
       "    </tr>\n",
       "  </tbody>\n",
       "</table>\n",
       "</div>"
      ],
      "text/plain": [
       "            year  month  day  hour  min channel  \\\n",
       "index                                             \n",
       "1076941452  2010      5    1     0   12      by   \n",
       "1076941452  2010      5    1     0   12      bx   \n",
       "1076941452  2010      5    1     0   12      bz   \n",
       "1076941464  2010      5    1     0   24      by   \n",
       "1076941464  2010      5    1     0   24      bx   \n",
       "\n",
       "                                                         file  \n",
       "index                                                          \n",
       "1076941452  /fdl_sdo_data/SDOMLmm/fdl_sw/SDOMLmm/2010/05/0...  \n",
       "1076941452  /fdl_sdo_data/SDOMLmm/fdl_sw/SDOMLmm/2010/05/0...  \n",
       "1076941452  /fdl_sdo_data/SDOMLmm/fdl_sw/SDOMLmm/2010/05/0...  \n",
       "1076941464  /fdl_sdo_data/SDOMLmm/fdl_sw/SDOMLmm/2010/05/0...  \n",
       "1076941464  /fdl_sdo_data/SDOMLmm/fdl_sw/SDOMLmm/2010/05/0...  "
      ]
     },
     "execution_count": 5,
     "metadata": {},
     "output_type": "execute_result"
    }
   ],
   "source": [
    "new_data.head()"
   ]
  },
  {
   "cell_type": "code",
   "execution_count": null,
   "metadata": {},
   "outputs": [],
   "source": []
  }
 ],
 "metadata": {
  "kernelspec": {
   "display_name": "Python 3",
   "language": "python",
   "name": "python3"
  },
  "language_info": {
   "codemirror_mode": {
    "name": "ipython",
    "version": 3
   },
   "file_extension": ".py",
   "mimetype": "text/x-python",
   "name": "python",
   "nbconvert_exporter": "python",
   "pygments_lexer": "ipython3",
   "version": "3.7.4"
  }
 },
 "nbformat": 4,
 "nbformat_minor": 4
}
