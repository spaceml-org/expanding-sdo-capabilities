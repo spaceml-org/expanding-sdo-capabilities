{
 "cells": [
  {
   "cell_type": "markdown",
   "metadata": {},
   "source": [
    "In this notebook we compute a series of metrics from the scaling and root scaling models"
   ]
  },
  {
   "cell_type": "code",
   "execution_count": 1,
   "metadata": {},
   "outputs": [],
   "source": [
    "import logging\n",
    "\n",
    "import pandas as pd\n",
    "import numpy as np\n",
    "import math\n",
    "from typing import Optional, List, Tuple\n",
    "import torch\n",
    "\n",
    "from sdo.viz.compare_models import load_pred_and_gt\n",
    "from sdo.metrics.ssim_metric import ssim"
   ]
  },
  {
   "cell_type": "code",
   "execution_count": 2,
   "metadata": {},
   "outputs": [],
   "source": [
    "def load_pred_and_gt_no_mask(results_path: str, revert_root: bool = False, \n",
    "                     frac: Optional[float]=1.0) -> Tuple[np.array, np.array]:\n",
    "    \"\"\"\n",
    "    Load predictions and ground truths from file, optionally remove\n",
    "    root scaling,\n",
    "    Args:\n",
    "        results_path: path to file containing gt and predictions in npz format\n",
    "        revert_root: if True both predictions and ground truth are **2\n",
    "        frac: percentage of samples to be loaded, selected sequentially\n",
    "\n",
    "    Returns:\n",
    "        Y_test, Y_pred\n",
    "    \"\"\"\n",
    "    Y = np.load(results_path)\n",
    "    shape = Y.shape\n",
    "    Y_test = Y[:, :, 0:int(shape[2] / 2), :]\n",
    "    Y_pred = Y[:, :, int(shape[2] / 2):, :]\n",
    "    #print(f\"Shape Y {shape}\")\n",
    "\n",
    "    if revert_root:\n",
    "        logging.info('Reverting root scaling')\n",
    "        Y_test = np.power(Y_test, 2)\n",
    "        Y_pred = np.power(Y_pred, 2)\n",
    "\n",
    "    if frac< 1.0:\n",
    "        Y_size = shape[0]\n",
    "        sample_size = int(Y_size * frac)\n",
    "        Y_test = Y_test[0:sample_size, :, :, :]\n",
    "        Y_pred = Y_pred[0:sample_size, :, :, :]\n",
    "        \n",
    "    nsamples = Y_test.shape[0]\n",
    "    \n",
    "    Y_test = Y_test.reshape(nsamples, 1, 512, 512)\n",
    "    Y_pred = Y_pred.reshape(nsamples, 1, 512, 512)\n",
    "    return Y_test, Y_pred"
   ]
  },
  {
   "cell_type": "code",
   "execution_count": 3,
   "metadata": {},
   "outputs": [],
   "source": [
    "results_path = '/fdl_sdo_data/bucket2/EXPERIMENT_RESULTS/VIRTUAL_TELESCOPE'\n",
    "dict_exp = {\n",
    "    '211': [\n",
    "    [ '/vale_exp_23/0600_vale_exp_23_test_predictions.npy', True, '211_root'],\n",
    "    ['/vale_exp_20/0600_vale_exp_20_test_predictions.npy', False, '211'],\n",
    "    ],\n",
    "    '193': [\n",
    "    ['/vale_exp_25/0600_vale_exp_25_test_predictions.npy', True, '193_root'],\n",
    "    ['/vale_exp_13bis/0600_vale_exp_13bis_test_predictions.npy', False, '193'],\n",
    "    ],\n",
    "    '171': [\n",
    "    [ '/vale_exp_26/0600_vale_exp_26_test_predictions.npy', True, '171_root'],\n",
    "    ['/vale_exp_14bis/0600_vale_exp_14bis_test_predictions.npy', False, '171']\n",
    "    ],\n",
    "    '094': [\n",
    "        [ '/vale_exp_27/0400_vale_exp_27_test_predictions.npy', True, '094_root'],\n",
    "        ['/vale_exp_18/0600_vale_exp_18_test_predictions.npy', False, '094'],\n",
    "    ]\n",
    "}\n",
    "#use 1.0 for final results, smaller value for testing\n",
    "frac = 1.0"
   ]
  },
  {
   "cell_type": "code",
   "execution_count": 4,
   "metadata": {},
   "outputs": [
    {
     "name": "stdout",
     "output_type": "stream",
     "text": [
      "Channel 211\n",
      "Experiment /vale_exp_23/0600_vale_exp_23_test_predictions.npy\n",
      "Experiment /vale_exp_20/0600_vale_exp_20_test_predictions.npy\n"
     ]
    }
   ],
   "source": [
    "df_results = pd.DataFrame()\n",
    "for key in {'211'}:\n",
    "    print(f'Channel {key}')\n",
    "    for exp in dict_exp[key]:\n",
    "        print(f'Experiment {exp[0]}')\n",
    "        Y_test, Y_pred = load_pred_and_gt_no_mask(results_path + exp[0], revert_root=exp[1], frac=frac)\n",
    "        mse = np.square(np.subtract(Y_test, Y_pred)).mean() "
   ]
  },
  {
   "cell_type": "code",
   "execution_count": 8,
   "metadata": {},
   "outputs": [
    {
     "data": {
      "text/plain": [
       "0.0023111086"
      ]
     },
     "execution_count": 8,
     "metadata": {},
     "output_type": "execute_result"
    }
   ],
   "source": [
    "np.square(np.subtract(Y_test, Y_pred)).mean()"
   ]
  },
  {
   "cell_type": "code",
   "execution_count": 9,
   "metadata": {},
   "outputs": [
    {
     "data": {
      "text/plain": [
       "0.048073991241375486"
      ]
     },
     "execution_count": 9,
     "metadata": {},
     "output_type": "execute_result"
    }
   ],
   "source": [
    "math.sqrt(np.square(np.subtract(Y_test, Y_pred)).mean())"
   ]
  },
  {
   "cell_type": "code",
   "execution_count": 10,
   "metadata": {},
   "outputs": [
    {
     "data": {
      "text/plain": [
       "0.18228568998252279"
      ]
     },
     "execution_count": 10,
     "metadata": {},
     "output_type": "execute_result"
    }
   ],
   "source": [
    "math.sqrt(np.square(np.subtract(Y_test, Y_pred)).mean())/Y_test.mean()"
   ]
  },
  {
   "cell_type": "code",
   "execution_count": 12,
   "metadata": {},
   "outputs": [
    {
     "data": {
      "text/plain": [
       "(0.0023111086, 0.008748424, 0.008748424)"
      ]
     },
     "execution_count": 12,
     "metadata": {},
     "output_type": "execute_result"
    }
   ],
   "source": [
    "mse = np.square(np.subtract(Y_test, Y_pred)).mean()\n",
    "nmse = mse / np.square(Y_test).mean()\n",
    "nmse2 = np.square(np.subtract(Y_test, Y_pred)).sum()/np.square(Y_test).sum()\n",
    "mse, nmse, nmse2"
   ]
  },
  {
   "cell_type": "code",
   "execution_count": 16,
   "metadata": {},
   "outputs": [
    {
     "name": "stdout",
     "output_type": "stream",
     "text": [
      "Channel 211\n",
      "Experiment /vale_exp_23/0600_vale_exp_23_test_predictions.npy\n",
      "Experiment /vale_exp_20/0600_vale_exp_20_test_predictions.npy\n",
      "Channel 193\n",
      "Experiment /vale_exp_25/0600_vale_exp_25_test_predictions.npy\n",
      "Experiment /vale_exp_13bis/0600_vale_exp_13bis_test_predictions.npy\n",
      "Channel 171\n",
      "Experiment /vale_exp_26/0600_vale_exp_26_test_predictions.npy\n",
      "Experiment /vale_exp_14bis/0600_vale_exp_14bis_test_predictions.npy\n",
      "Channel 094\n",
      "Experiment /vale_exp_27/0400_vale_exp_27_test_predictions.npy\n",
      "Experiment /vale_exp_18/0600_vale_exp_18_test_predictions.npy\n"
     ]
    }
   ],
   "source": [
    "df_results = pd.DataFrame()\n",
    "for key in dict_exp:\n",
    "    print(f'Channel {key}')\n",
    "    for exp in dict_exp[key]:\n",
    "        print(f'Experiment {exp[0]}')\n",
    "        Y_test, Y_pred = load_pred_and_gt_no_mask(results_path + exp[0], revert_root=exp[1], frac=frac)\n",
    "        mse = np.square(np.subtract(Y_test, Y_pred)).mean()\n",
    "        rmse = math.sqrt(mse)\n",
    "        nmse = mse / np.square(Y_test).mean()\n",
    "        nrmse = rmse / Y_test.mean()\n",
    "        # ssim is expecting images not arrays\n",
    "        # array of size 1748467 -> the function load_pred_and_gt apply mask on the array, \n",
    "        # we need instead to reshape first and, if we want, appy the mask before the computation\n",
    "        # modify the function. Better to compute metrics with and without mask\n",
    "        #ssim = np.abs(1-ssim(Y_pred.reshape((667, 512, 512)), Y_test.reshape((16, 512, 512))))\n",
    "        t_Y_pred = torch.from_numpy(Y_pred)\n",
    "        t_Y_test = torch.from_numpy(Y_test)\n",
    "        val_ssim = torch.abs(1-ssim(t_Y_pred, t_Y_test))\n",
    "        pm = (nrmse + val_ssim.item())/2\n",
    "        mean_test = Y_test.mean()\n",
    "        df_results[exp[2]] = [nmse, nrmse, val_ssim.item(), pm, mean_test]"
   ]
  },
  {
   "cell_type": "code",
   "execution_count": 17,
   "metadata": {},
   "outputs": [
    {
     "data": {
      "text/html": [
       "<div>\n",
       "<style scoped>\n",
       "    .dataframe tbody tr th:only-of-type {\n",
       "        vertical-align: middle;\n",
       "    }\n",
       "\n",
       "    .dataframe tbody tr th {\n",
       "        vertical-align: top;\n",
       "    }\n",
       "\n",
       "    .dataframe thead th {\n",
       "        text-align: right;\n",
       "    }\n",
       "</style>\n",
       "<table border=\"1\" class=\"dataframe\">\n",
       "  <thead>\n",
       "    <tr style=\"text-align: right;\">\n",
       "      <th></th>\n",
       "      <th>211_root</th>\n",
       "      <th>211</th>\n",
       "      <th>193_root</th>\n",
       "      <th>193</th>\n",
       "      <th>171_root</th>\n",
       "      <th>171</th>\n",
       "      <th>094_root</th>\n",
       "      <th>094</th>\n",
       "    </tr>\n",
       "  </thead>\n",
       "  <tbody>\n",
       "    <tr>\n",
       "      <th>NMSE</th>\n",
       "      <td>0.010024</td>\n",
       "      <td>0.008748</td>\n",
       "      <td>0.013414</td>\n",
       "      <td>0.013015</td>\n",
       "      <td>0.015270</td>\n",
       "      <td>0.010151</td>\n",
       "      <td>0.009482</td>\n",
       "      <td>0.013643</td>\n",
       "    </tr>\n",
       "    <tr>\n",
       "      <th>NRMSE</th>\n",
       "      <td>0.195127</td>\n",
       "      <td>0.182286</td>\n",
       "      <td>0.225717</td>\n",
       "      <td>0.222332</td>\n",
       "      <td>0.240829</td>\n",
       "      <td>0.196360</td>\n",
       "      <td>0.189773</td>\n",
       "      <td>0.227641</td>\n",
       "    </tr>\n",
       "    <tr>\n",
       "      <th>SSIM</th>\n",
       "      <td>0.040844</td>\n",
       "      <td>0.046189</td>\n",
       "      <td>0.022866</td>\n",
       "      <td>0.024522</td>\n",
       "      <td>0.030636</td>\n",
       "      <td>0.034892</td>\n",
       "      <td>0.114447</td>\n",
       "      <td>0.138455</td>\n",
       "    </tr>\n",
       "    <tr>\n",
       "      <th>(NRMSE + SSIM)/2</th>\n",
       "      <td>0.117985</td>\n",
       "      <td>0.114237</td>\n",
       "      <td>0.124292</td>\n",
       "      <td>0.123427</td>\n",
       "      <td>0.135732</td>\n",
       "      <td>0.115626</td>\n",
       "      <td>0.152110</td>\n",
       "      <td>0.183048</td>\n",
       "    </tr>\n",
       "    <tr>\n",
       "      <th>Mean</th>\n",
       "      <td>0.263729</td>\n",
       "      <td>0.263729</td>\n",
       "      <td>0.087910</td>\n",
       "      <td>0.087910</td>\n",
       "      <td>0.131864</td>\n",
       "      <td>0.131864</td>\n",
       "      <td>26.372948</td>\n",
       "      <td>26.372839</td>\n",
       "    </tr>\n",
       "  </tbody>\n",
       "</table>\n",
       "</div>"
      ],
      "text/plain": [
       "                  211_root       211  193_root       193  171_root       171  \\\n",
       "NMSE              0.010024  0.008748  0.013414  0.013015  0.015270  0.010151   \n",
       "NRMSE             0.195127  0.182286  0.225717  0.222332  0.240829  0.196360   \n",
       "SSIM              0.040844  0.046189  0.022866  0.024522  0.030636  0.034892   \n",
       "(NRMSE + SSIM)/2  0.117985  0.114237  0.124292  0.123427  0.135732  0.115626   \n",
       "Mean              0.263729  0.263729  0.087910  0.087910  0.131864  0.131864   \n",
       "\n",
       "                   094_root        094  \n",
       "NMSE               0.009482   0.013643  \n",
       "NRMSE              0.189773   0.227641  \n",
       "SSIM               0.114447   0.138455  \n",
       "(NRMSE + SSIM)/2   0.152110   0.183048  \n",
       "Mean              26.372948  26.372839  "
      ]
     },
     "execution_count": 17,
     "metadata": {},
     "output_type": "execute_result"
    }
   ],
   "source": [
    "df_results.index = ['NMSE', 'NRMSE', 'SSIM', '(NRMSE + SSIM)/2', 'Mean']\n",
    "df_results"
   ]
  },
  {
   "cell_type": "code",
   "execution_count": 15,
   "metadata": {},
   "outputs": [
    {
     "name": "stdout",
     "output_type": "stream",
     "text": [
      "\\begin{tabular}{lrrrrrrrr}\n",
      "\\toprule\n",
      "{} &  211\\_root &       211 &  193\\_root &       193 &  171\\_root &       171 &  094\\_root &       094 \\\\\n",
      "\\midrule\n",
      "NMSE             &  0.010024 &  0.008748 &  0.013414 &  0.013015 &  0.015270 &  0.010151 &  0.009482 &  0.013643 \\\\\n",
      "NRMSE            &  0.195127 &  0.182286 &  0.225717 &  0.222332 &  0.240829 &  0.196360 &  0.189773 &  0.227641 \\\\\n",
      "SSIM             &  0.040844 &  0.046189 &  0.022866 &  0.024522 &  0.030636 &  0.034892 &  0.114447 &  0.138455 \\\\\n",
      "(NRMSE + SSIM)/2 &  0.117985 &  0.114237 &  0.124292 &  0.123427 &  0.135732 &  0.115626 &  0.152110 &  0.183048 \\\\\n",
      "\\bottomrule\n",
      "\\end{tabular}\n",
      "\n"
     ]
    }
   ],
   "source": [
    "print(df_results.to_latex(index=True)) "
   ]
  },
  {
   "cell_type": "code",
   "execution_count": null,
   "metadata": {},
   "outputs": [],
   "source": [
    "df_results = pd.DataFrame()\n",
    "for key in dict_exp:\n",
    "    print(f'Channel {key}')\n",
    "    for exp in dict_exp[key]:\n",
    "        print(f'Experiment {exp[0]}')\n",
    "        Y_test, Y_pred = load_pred_and_gt_no_mask(results_path + exp[0], revert_root=exp[1], frac=frac)\n",
    "        mse = np.square(np.subtract(Y_test, Y_pred)).mean() \n",
    "        rmse = math.sqrt(mse)\n",
    "        # ssim is expecting images not arrays\n",
    "        # array of size 1748467 -> the function load_pred_and_gt apply mask on the array, \n",
    "        # we need instead to reshape first and, if we want, appy the mask before the computation\n",
    "        # modify the function. Better to compute metrics with and without mask\n",
    "        #ssim = np.abs(1-ssim(Y_pred.reshape((667, 512, 512)), Y_test.reshape((16, 512, 512))))\n",
    "        t_Y_pred = torch.from_numpy(Y_pred)\n",
    "        t_Y_test = torch.from_numpy(Y_test)\n",
    "        val_ssim = torch.abs(1-ssim(t_Y_pred, t_Y_test))\n",
    "        pm = (rmse + val_ssim.item())/2\n",
    "        df_results[exp[2]] = [mse, rmse, val_ssim.item(), pm]"
   ]
  },
  {
   "cell_type": "code",
   "execution_count": 7,
   "metadata": {},
   "outputs": [
    {
     "data": {
      "text/html": [
       "<div>\n",
       "<style scoped>\n",
       "    .dataframe tbody tr th:only-of-type {\n",
       "        vertical-align: middle;\n",
       "    }\n",
       "\n",
       "    .dataframe tbody tr th {\n",
       "        vertical-align: top;\n",
       "    }\n",
       "\n",
       "    .dataframe thead th {\n",
       "        text-align: right;\n",
       "    }\n",
       "</style>\n",
       "<table border=\"1\" class=\"dataframe\">\n",
       "  <thead>\n",
       "    <tr style=\"text-align: right;\">\n",
       "      <th></th>\n",
       "      <th>211_root</th>\n",
       "      <th>211</th>\n",
       "      <th>193_root</th>\n",
       "      <th>193</th>\n",
       "      <th>171_root</th>\n",
       "      <th>171</th>\n",
       "      <th>094_root</th>\n",
       "      <th>094</th>\n",
       "    </tr>\n",
       "  </thead>\n",
       "  <tbody>\n",
       "    <tr>\n",
       "      <th>MSE</th>\n",
       "      <td>0.002648</td>\n",
       "      <td>0.002311</td>\n",
       "      <td>0.000394</td>\n",
       "      <td>0.000382</td>\n",
       "      <td>0.001008</td>\n",
       "      <td>0.000670</td>\n",
       "      <td>25.048731</td>\n",
       "      <td>36.042522</td>\n",
       "    </tr>\n",
       "    <tr>\n",
       "      <th>RMSE</th>\n",
       "      <td>0.051461</td>\n",
       "      <td>0.048074</td>\n",
       "      <td>0.019843</td>\n",
       "      <td>0.019545</td>\n",
       "      <td>0.031757</td>\n",
       "      <td>0.025893</td>\n",
       "      <td>5.004871</td>\n",
       "      <td>6.003542</td>\n",
       "    </tr>\n",
       "    <tr>\n",
       "      <th>SSIM</th>\n",
       "      <td>0.040844</td>\n",
       "      <td>0.046189</td>\n",
       "      <td>0.022866</td>\n",
       "      <td>0.024522</td>\n",
       "      <td>0.030636</td>\n",
       "      <td>0.034892</td>\n",
       "      <td>0.114447</td>\n",
       "      <td>0.138455</td>\n",
       "    </tr>\n",
       "    <tr>\n",
       "      <th>(RMSE + SSIM)/2</th>\n",
       "      <td>0.046152</td>\n",
       "      <td>0.047131</td>\n",
       "      <td>0.021355</td>\n",
       "      <td>0.022033</td>\n",
       "      <td>0.031196</td>\n",
       "      <td>0.030392</td>\n",
       "      <td>2.559659</td>\n",
       "      <td>3.070999</td>\n",
       "    </tr>\n",
       "  </tbody>\n",
       "</table>\n",
       "</div>"
      ],
      "text/plain": [
       "                 211_root       211  193_root       193  171_root       171  \\\n",
       "MSE              0.002648  0.002311  0.000394  0.000382  0.001008  0.000670   \n",
       "RMSE             0.051461  0.048074  0.019843  0.019545  0.031757  0.025893   \n",
       "SSIM             0.040844  0.046189  0.022866  0.024522  0.030636  0.034892   \n",
       "(RMSE + SSIM)/2  0.046152  0.047131  0.021355  0.022033  0.031196  0.030392   \n",
       "\n",
       "                  094_root        094  \n",
       "MSE              25.048731  36.042522  \n",
       "RMSE              5.004871   6.003542  \n",
       "SSIM              0.114447   0.138455  \n",
       "(RMSE + SSIM)/2   2.559659   3.070999  "
      ]
     },
     "execution_count": 7,
     "metadata": {},
     "output_type": "execute_result"
    }
   ],
   "source": [
    "df_results.index = ['MSE', 'RMSE', 'SSIM', '(RMSE + SSIM)/2']\n",
    "df_results"
   ]
  },
  {
   "cell_type": "code",
   "execution_count": 9,
   "metadata": {},
   "outputs": [
    {
     "name": "stdout",
     "output_type": "stream",
     "text": [
      "\\begin{tabular}{lrrrrrrrr}\n",
      "\\toprule\n",
      "{} &  211\\_root &       211 &  193\\_root &       193 &  171\\_root &       171 &   094\\_root &        094 \\\\\n",
      "\\midrule\n",
      "MSE             &  0.002648 &  0.002311 &  0.000394 &  0.000382 &  0.001008 &  0.000670 &  25.048731 &  36.042522 \\\\\n",
      "RMSE            &  0.051461 &  0.048074 &  0.019843 &  0.019545 &  0.031757 &  0.025893 &   5.004871 &   6.003542 \\\\\n",
      "SSIM            &  0.040844 &  0.046189 &  0.022866 &  0.024522 &  0.030636 &  0.034892 &   0.114447 &   0.138455 \\\\\n",
      "(RMSE + SSIM)/2 &  0.046152 &  0.047131 &  0.021355 &  0.022033 &  0.031196 &  0.030392 &   2.559659 &   3.070999 \\\\\n",
      "\\bottomrule\n",
      "\\end{tabular}\n",
      "\n"
     ]
    }
   ],
   "source": [
    "print(df_results.to_latex(index=True)) "
   ]
  },
  {
   "cell_type": "markdown",
   "metadata": {},
   "source": [
    "# Same as above but for linear model"
   ]
  },
  {
   "cell_type": "code",
   "execution_count": 3,
   "metadata": {},
   "outputs": [],
   "source": [
    "results_path = '/fdl_sdo_data/bucket/EXPERIMENT_RESULTS/VIRTUAL_TELESCOPE'\n",
    "dict_exp = {\n",
    "    '211': [\n",
    "    ['/vale_exp_linear_20/0600_vale_exp_linear_20_test_predictions.npy', False, '211'],\n",
    "    ],\n",
    "    '193': [\n",
    "    ['/vale_exp_linear_13/0600_vale_exp_linear_13_test_predictions.npy', False, '193'],\n",
    "    ],\n",
    "    '171': [\n",
    "    ['/vale_exp_linear_14/0600_vale_exp_linear_14_test_predictions.npy', False, '171']\n",
    "    ],\n",
    "    '094': [\n",
    "        ['/vale_exp_linear_18/0600_vale_exp_linear_18_test_predictions.npy', False, '094'],\n",
    "    ]\n",
    "}\n",
    "#use 1.0 for final results, smaller value for testing\n",
    "frac = 1.0"
   ]
  },
  {
   "cell_type": "code",
   "execution_count": 4,
   "metadata": {},
   "outputs": [
    {
     "name": "stdout",
     "output_type": "stream",
     "text": [
      "Channel 211\n",
      "Experiment /vale_exp_linear_20/0600_vale_exp_linear_20_test_predictions.npy\n",
      "Channel 193\n",
      "Experiment /vale_exp_linear_13/0600_vale_exp_linear_13_test_predictions.npy\n",
      "Channel 171\n",
      "Experiment /vale_exp_linear_14/0600_vale_exp_linear_14_test_predictions.npy\n",
      "Channel 094\n",
      "Experiment /vale_exp_linear_18/0600_vale_exp_linear_18_test_predictions.npy\n"
     ]
    }
   ],
   "source": [
    "df_results = pd.DataFrame()\n",
    "for key in dict_exp:\n",
    "    print(f'Channel {key}')\n",
    "    for exp in dict_exp[key]:\n",
    "        print(f'Experiment {exp[0]}')\n",
    "        Y_test, Y_pred = load_pred_and_gt_no_mask(results_path + exp[0], revert_root=exp[1], frac=frac)\n",
    "        mse = np.square(np.subtract(Y_test, Y_pred)).mean() \n",
    "        rmse = math.sqrt(mse)\n",
    "        # ssim is expecting images not arrays\n",
    "        # array of size 1081344 -> the function load_pred_and_gt apply mask on the array, \n",
    "        # we need instead to reshape first and, if we want, appy the mask before the computation\n",
    "        # modify the function. Better to compute metrics with and without mask\n",
    "        #ssim = np.abs(1-ssim(Y_pred.reshape((667, 512, 512)), Y_test.reshape((16, 512, 512))))\n",
    "        t_Y_pred = torch.from_numpy(Y_pred)\n",
    "        t_Y_test = torch.from_numpy(Y_test)\n",
    "        val_ssim = torch.abs(1-ssim(t_Y_pred, t_Y_test))\n",
    "        pm = (rmse + val_ssim.item())/2\n",
    "        df_results[exp[2]] = [mse, rmse, val_ssim.item(), pm]"
   ]
  },
  {
   "cell_type": "code",
   "execution_count": 20,
   "metadata": {},
   "outputs": [],
   "source": [
    "Y = np.load('/fdl_sdo_data/bucket/EXPERIMENT_RESULTS/VIRTUAL_TELESCOPE/vale_exp_linear_20/0600_vale_exp_linear_20_test_predictions.npy')\n",
    "shape = Y.shape\n",
    "Y_test = Y[:, :, 0:int(shape[2] / 2), :]\n",
    "Y_pred = Y[:, :, int(shape[2] / 2):, :]"
   ]
  },
  {
   "cell_type": "code",
   "execution_count": 22,
   "metadata": {},
   "outputs": [
    {
     "name": "stdout",
     "output_type": "stream",
     "text": [
      "Shape Y (667, 1, 256, 128)\n"
     ]
    }
   ],
   "source": [
    "print(f\"Shape Y {shape}\")"
   ]
  },
  {
   "cell_type": "code",
   "execution_count": 5,
   "metadata": {},
   "outputs": [
    {
     "data": {
      "text/html": [
       "<div>\n",
       "<style scoped>\n",
       "    .dataframe tbody tr th:only-of-type {\n",
       "        vertical-align: middle;\n",
       "    }\n",
       "\n",
       "    .dataframe tbody tr th {\n",
       "        vertical-align: top;\n",
       "    }\n",
       "\n",
       "    .dataframe thead th {\n",
       "        text-align: right;\n",
       "    }\n",
       "</style>\n",
       "<table border=\"1\" class=\"dataframe\">\n",
       "  <thead>\n",
       "    <tr style=\"text-align: right;\">\n",
       "      <th></th>\n",
       "      <th>211</th>\n",
       "      <th>193</th>\n",
       "      <th>171</th>\n",
       "      <th>094</th>\n",
       "    </tr>\n",
       "  </thead>\n",
       "  <tbody>\n",
       "    <tr>\n",
       "      <td>MSE</td>\n",
       "      <td>0.198024</td>\n",
       "      <td>0.021804</td>\n",
       "      <td>0.048970</td>\n",
       "      <td>2312.233887</td>\n",
       "    </tr>\n",
       "    <tr>\n",
       "      <td>RMSE</td>\n",
       "      <td>0.444998</td>\n",
       "      <td>0.147662</td>\n",
       "      <td>0.221291</td>\n",
       "      <td>48.085693</td>\n",
       "    </tr>\n",
       "    <tr>\n",
       "      <td>SSIM</td>\n",
       "      <td>0.588910</td>\n",
       "      <td>0.441623</td>\n",
       "      <td>0.490644</td>\n",
       "      <td>0.976495</td>\n",
       "    </tr>\n",
       "    <tr>\n",
       "      <td>(RMSE + SSIM)/2</td>\n",
       "      <td>0.516954</td>\n",
       "      <td>0.294643</td>\n",
       "      <td>0.355968</td>\n",
       "      <td>24.531094</td>\n",
       "    </tr>\n",
       "  </tbody>\n",
       "</table>\n",
       "</div>"
      ],
      "text/plain": [
       "                      211       193       171          094\n",
       "MSE              0.198024  0.021804  0.048970  2312.233887\n",
       "RMSE             0.444998  0.147662  0.221291    48.085693\n",
       "SSIM             0.588910  0.441623  0.490644     0.976495\n",
       "(RMSE + SSIM)/2  0.516954  0.294643  0.355968    24.531094"
      ]
     },
     "execution_count": 5,
     "metadata": {},
     "output_type": "execute_result"
    }
   ],
   "source": [
    "df_results.index = ['MSE', 'RMSE', 'SSIM', '(RMSE + SSIM)/2']\n",
    "df_results"
   ]
  },
  {
   "cell_type": "code",
   "execution_count": 6,
   "metadata": {},
   "outputs": [
    {
     "name": "stdout",
     "output_type": "stream",
     "text": [
      "Channel 211\n",
      "Experiment /vale_exp_linear_20/0600_vale_exp_linear_20_test_predictions.npy\n",
      "Channel 193\n",
      "Experiment /vale_exp_linear_13/0600_vale_exp_linear_13_test_predictions.npy\n",
      "Channel 171\n",
      "Experiment /vale_exp_linear_14/0600_vale_exp_linear_14_test_predictions.npy\n",
      "Channel 094\n",
      "Experiment /vale_exp_linear_18/0600_vale_exp_linear_18_test_predictions.npy\n"
     ]
    }
   ],
   "source": [
    "df_results = pd.DataFrame()\n",
    "for key in dict_exp:\n",
    "    print(f'Channel {key}')\n",
    "    for exp in dict_exp[key]:\n",
    "        print(f'Experiment {exp[0]}')\n",
    "        Y_test, Y_pred = load_pred_and_gt_no_mask(results_path + exp[0], revert_root=exp[1], frac=frac)\n",
    "        mse = np.square(np.subtract(Y_test, Y_pred)).mean()\n",
    "        rmse = math.sqrt(mse)\n",
    "        nmse = mse / np.square(Y_test).mean()\n",
    "        nrmse = rmse / Y_test.mean()\n",
    "        # ssim is expecting images not arrays\n",
    "        # array of size 1748467 -> the function load_pred_and_gt apply mask on the array, \n",
    "        # we need instead to reshape first and, if we want, appy the mask before the computation\n",
    "        # modify the function. Better to compute metrics with and without mask\n",
    "        #ssim = np.abs(1-ssim(Y_pred.reshape((667, 512, 512)), Y_test.reshape((16, 512, 512))))\n",
    "        t_Y_pred = torch.from_numpy(Y_pred)\n",
    "        t_Y_test = torch.from_numpy(Y_test)\n",
    "        val_ssim = torch.abs(1-ssim(t_Y_pred, t_Y_test))\n",
    "        pm = (nrmse + val_ssim.item())/2\n",
    "        mean_test = Y_test.mean()\n",
    "        df_results[exp[2]] = [nmse, nrmse, val_ssim.item(), pm, mean_test]"
   ]
  },
  {
   "cell_type": "code",
   "execution_count": 11,
   "metadata": {},
   "outputs": [
    {
     "data": {
      "text/html": [
       "<div>\n",
       "<style scoped>\n",
       "    .dataframe tbody tr th:only-of-type {\n",
       "        vertical-align: middle;\n",
       "    }\n",
       "\n",
       "    .dataframe tbody tr th {\n",
       "        vertical-align: top;\n",
       "    }\n",
       "\n",
       "    .dataframe thead th {\n",
       "        text-align: right;\n",
       "    }\n",
       "</style>\n",
       "<table border=\"1\" class=\"dataframe\">\n",
       "  <thead>\n",
       "    <tr style=\"text-align: right;\">\n",
       "      <th></th>\n",
       "      <th>211</th>\n",
       "      <th>193</th>\n",
       "      <th>171</th>\n",
       "      <th>094</th>\n",
       "    </tr>\n",
       "  </thead>\n",
       "  <tbody>\n",
       "    <tr>\n",
       "      <td>NMSE</td>\n",
       "      <td>0.749594</td>\n",
       "      <td>0.742833</td>\n",
       "      <td>0.741476</td>\n",
       "      <td>0.875264</td>\n",
       "    </tr>\n",
       "    <tr>\n",
       "      <td>NRMSE</td>\n",
       "      <td>1.687336</td>\n",
       "      <td>1.679708</td>\n",
       "      <td>1.678174</td>\n",
       "      <td>1.823300</td>\n",
       "    </tr>\n",
       "    <tr>\n",
       "      <td>1 - SSIM</td>\n",
       "      <td>0.588910</td>\n",
       "      <td>0.441623</td>\n",
       "      <td>0.490644</td>\n",
       "      <td>0.976495</td>\n",
       "    </tr>\n",
       "    <tr>\n",
       "      <td>(NRMSE + |1 - SSIM|)/2</td>\n",
       "      <td>1.138123</td>\n",
       "      <td>1.060665</td>\n",
       "      <td>1.084409</td>\n",
       "      <td>1.399897</td>\n",
       "    </tr>\n",
       "    <tr>\n",
       "      <td>Mean</td>\n",
       "      <td>0.263728</td>\n",
       "      <td>0.087910</td>\n",
       "      <td>0.131864</td>\n",
       "      <td>26.372892</td>\n",
       "    </tr>\n",
       "  </tbody>\n",
       "</table>\n",
       "</div>"
      ],
      "text/plain": [
       "                             211       193       171        094\n",
       "NMSE                    0.749594  0.742833  0.741476   0.875264\n",
       "NRMSE                   1.687336  1.679708  1.678174   1.823300\n",
       "1 - SSIM                0.588910  0.441623  0.490644   0.976495\n",
       "(NRMSE + |1 - SSIM|)/2  1.138123  1.060665  1.084409   1.399897\n",
       "Mean                    0.263728  0.087910  0.131864  26.372892"
      ]
     },
     "execution_count": 11,
     "metadata": {},
     "output_type": "execute_result"
    }
   ],
   "source": [
    "df_results.index = ['NMSE', 'NRMSE', '1 - SSIM', '(NRMSE + |1 - SSIM|)/2', 'Mean']\n",
    "df_results"
   ]
  },
  {
   "cell_type": "code",
   "execution_count": null,
   "metadata": {},
   "outputs": [],
   "source": []
  }
 ],
 "metadata": {
  "kernelspec": {
   "display_name": "Python 3",
   "language": "python",
   "name": "python3"
  },
  "language_info": {
   "codemirror_mode": {
    "name": "ipython",
    "version": 3
   },
   "file_extension": ".py",
   "mimetype": "text/x-python",
   "name": "python",
   "nbconvert_exporter": "python",
   "pygments_lexer": "ipython3",
   "version": "3.7.4"
  }
 },
 "nbformat": 4,
 "nbformat_minor": 4
}
