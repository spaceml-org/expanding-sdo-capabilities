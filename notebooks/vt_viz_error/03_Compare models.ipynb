{
 "cells": [
  {
   "cell_type": "markdown",
   "metadata": {},
   "source": [
    "In this notebook we're interested in comparing model 20 and model 23(root scaling) using the new visualizations developed in the notebooks 1 and 2."
   ]
  },
  {
   "cell_type": "code",
   "execution_count": 1,
   "metadata": {},
   "outputs": [],
   "source": [
    "import matplotlib.pyplot as plt\n",
    "import numpy as np\n",
    "import pandas as pd\n",
    "\n",
    "from sdo.viz.plot_vt_outputs import plot_2Dhist_95cl"
   ]
  },
  {
   "cell_type": "code",
   "execution_count": 2,
   "metadata": {},
   "outputs": [],
   "source": [
    "data_inventory =  '/home/Valentina/inventory_1904.pkl'\n",
    "results_path = '/fdl_sdo_data/bucket/EXPERIMENT_RESULTS/VIRTUAL_TELESCOPE/vale_exp_23/'"
   ]
  },
  {
   "cell_type": "code",
   "execution_count": 3,
   "metadata": {},
   "outputs": [],
   "source": [
    "# For details about how these predictions have been calculated refer to the the notebook \n",
    "# flares/experiments/02_train_on_flares.ipynb\n",
    "pred23_on23 = results_path + '0600_vale_exp_23_train_predictions.npy'\n",
    "\n",
    "Y = np.load(pred23_on23)\n",
    "shape = Y.shape\n",
    "Y_test = Y[:,:,0:int(shape[2]/2),:]\n",
    "Y_pred = Y[:,:,int(shape[2]/2):,:]\n",
    "\n",
    "# root scaling has been applied to input and output in exp23. \n",
    "# In order to compare wiht exp 20 we need to scale back\n",
    "Y_test = np.power(Y_test, 2)\n",
    "Y_pred = np.power(Y_pred, 2)"
   ]
  },
  {
   "cell_type": "code",
   "execution_count": 4,
   "metadata": {},
   "outputs": [],
   "source": [
    "Y_test = Y_test.flatten()\n",
    "Y_pred = Y_pred.flatten()\n",
    "idx = np.argsort(Y_test)\n",
    "Y_test = Y_test[idx]\n",
    "Y_pred = Y_pred[idx]"
   ]
  },
  {
   "cell_type": "code",
   "execution_count": 5,
   "metadata": {},
   "outputs": [],
   "source": [
    "mask1 = Y_test > 0\n",
    "Y_test = Y_test[mask1]\n",
    "Y_pred = Y_pred[mask1]"
   ]
  },
  {
   "cell_type": "code",
   "execution_count": 6,
   "metadata": {},
   "outputs": [
    {
     "data": {
      "text/plain": [
       "(2.1843465e-05, 0.00034770707)"
      ]
     },
     "execution_count": 6,
     "metadata": {},
     "output_type": "execute_result"
    }
   ],
   "source": [
    "Y_test[0], Y_pred[0]"
   ]
  },
  {
   "cell_type": "code",
   "execution_count": 7,
   "metadata": {},
   "outputs": [
    {
     "data": {
      "text/plain": [
       "(26.22024, 84.95721)"
      ]
     },
     "execution_count": 7,
     "metadata": {},
     "output_type": "execute_result"
    }
   ],
   "source": [
    "max(Y_test), max(Y_pred)\n",
    "# NB some numerical errors affect the max, the test max should be the same as in nb2 but it is not"
   ]
  },
  {
   "cell_type": "code",
   "execution_count": 8,
   "metadata": {},
   "outputs": [
    {
     "data": {
      "image/png": "[encoded data removed]",
      "text/plain": [
       "<Figure size 432x288 with 1 Axes>"
      ]
     },
     "metadata": {
      "needs_background": "light"
     },
     "output_type": "display_data"
    }
   ],
   "source": [
    "bins = 50\n",
    "xrange = [-4,2]\n",
    "width = 0.1\n",
    "y, binEdges = np.histogram(np.log10(Y_test), bins=bins, range=xrange)\n",
    "ynorm = y/len(Y_test)*100\n",
    "bincenters = 0.5*(binEdges[1:] + binEdges[:-1])\n",
    "plt.bar(bincenters, ynorm, width=width, color='b', alpha=0.8)\n",
    "plt.xlabel('Log10 Real Intensity')\n",
    "plt.ylabel('% Pixels')\n",
    "plt.show()"
   ]
  },
  {
   "cell_type": "markdown",
   "metadata": {},
   "source": [
    "the output is comparable to what we had in notebook 2, this is expected and encouraging"
   ]
  },
  {
   "cell_type": "code",
   "execution_count": 9,
   "metadata": {},
   "outputs": [
    {
     "data": {
      "text/plain": [
       "-3.88"
      ]
     },
     "execution_count": 9,
     "metadata": {},
     "output_type": "execute_result"
    }
   ],
   "source": [
    "binEdges[1]"
   ]
  },
  {
   "cell_type": "code",
   "execution_count": 11,
   "metadata": {},
   "outputs": [],
   "source": [
    "# this will take several minutes\n",
    "i = 0\n",
    "l_bins= []\n",
    "l_bincenters = []\n",
    "for val in Y_test:\n",
    "    if np.log10(val) <= binEdges[i+1]:\n",
    "        l_bins.append(i)\n",
    "    else:\n",
    "        i=i+1\n",
    "        l_bins.append(i)\n",
    "    l_bincenters.append(bincenters[i])"
   ]
  },
  {
   "cell_type": "code",
   "execution_count": 17,
   "metadata": {},
   "outputs": [
    {
     "data": {
      "text/plain": [
       "array([-3.94      , -3.8200002 , -3.7       , -3.58      , -3.46      ,\n",
       "       -3.3400002 , -3.22      , -3.1       , -2.98      , -2.8600001 ,\n",
       "       -2.74      , -2.62      , -2.5       , -2.38      , -2.26      ,\n",
       "       -2.1399999 , -2.02      , -1.9000001 , -1.78      , -1.6600001 ,\n",
       "       -1.54      , -1.4200001 , -1.3       , -1.1800001 , -1.06      ,\n",
       "       -0.94      , -0.82      , -0.7       , -0.58      , -0.45999998,\n",
       "       -0.34      , -0.22      , -0.09999999,  0.02      ,  0.14      ,\n",
       "        0.26      ,  0.38      ,  0.5       ,  0.62      ,  0.74      ,\n",
       "        0.86      ,  0.98      ,  1.0999999 ,  1.22      ,  1.3399999 ,\n",
       "        1.46      ,  1.5799999 ,  1.7       ,  1.8199999 ,  1.94      ],\n",
       "      dtype=float32)"
      ]
     },
     "execution_count": 17,
     "metadata": {},
     "output_type": "execute_result"
    }
   ],
   "source": [
    "bincenters"
   ]
  },
  {
   "cell_type": "code",
   "execution_count": 11,
   "metadata": {},
   "outputs": [
    {
     "name": "stderr",
     "output_type": "stream",
     "text": [
      "/opt/anaconda3/lib/python3.7/site-packages/ipykernel_launcher.py:3: RuntimeWarning: divide by zero encountered in log10\n",
      "  This is separate from the ipykernel package so we can avoid doing imports until\n"
     ]
    }
   ],
   "source": [
    "df = pd.DataFrame({'Bins':l_bins, 'BinCenters':l_bincenters, 'YTest':Y_test,'YPred':Y_pred})\n",
    "df['YTest-YPred'] = df.YTest - df.YPred\n",
    "df['log10_YTest-log10_YPred'] = np.log10(df.YTest) - np.log10(df.YPred)\n",
    "df.replace([np.inf, -np.inf], np.nan, inplace=True)\n",
    "df.dropna(inplace=True)\n",
    "df['(YTest-YPred)/YTest'] = (df.YTest - df.YPred)/df.YTest*100"
   ]
  },
  {
   "cell_type": "code",
   "execution_count": 12,
   "metadata": {},
   "outputs": [
    {
     "data": {
      "text/html": [
       "<div>\n",
       "<style scoped>\n",
       "    .dataframe tbody tr th:only-of-type {\n",
       "        vertical-align: middle;\n",
       "    }\n",
       "\n",
       "    .dataframe tbody tr th {\n",
       "        vertical-align: top;\n",
       "    }\n",
       "\n",
       "    .dataframe thead th {\n",
       "        text-align: right;\n",
       "    }\n",
       "</style>\n",
       "<table border=\"1\" class=\"dataframe\">\n",
       "  <thead>\n",
       "    <tr style=\"text-align: right;\">\n",
       "      <th></th>\n",
       "      <th>Bins</th>\n",
       "      <th>BinCenters</th>\n",
       "      <th>YTest</th>\n",
       "      <th>YPred</th>\n",
       "      <th>YTest-YPred</th>\n",
       "      <th>log10_YTest-log10_YPred</th>\n",
       "      <th>(YTest-YPred)/YTest</th>\n",
       "    </tr>\n",
       "  </thead>\n",
       "  <tbody>\n",
       "    <tr>\n",
       "      <th>0</th>\n",
       "      <td>0</td>\n",
       "      <td>-3.94</td>\n",
       "      <td>0.000022</td>\n",
       "      <td>0.000348</td>\n",
       "      <td>-0.000326</td>\n",
       "      <td>-1.201892</td>\n",
       "      <td>-1491.812744</td>\n",
       "    </tr>\n",
       "    <tr>\n",
       "      <th>1</th>\n",
       "      <td>0</td>\n",
       "      <td>-3.94</td>\n",
       "      <td>0.000022</td>\n",
       "      <td>0.000330</td>\n",
       "      <td>-0.000309</td>\n",
       "      <td>-1.179616</td>\n",
       "      <td>-1412.223022</td>\n",
       "    </tr>\n",
       "    <tr>\n",
       "      <th>2</th>\n",
       "      <td>0</td>\n",
       "      <td>-3.94</td>\n",
       "      <td>0.000022</td>\n",
       "      <td>0.000359</td>\n",
       "      <td>-0.000337</td>\n",
       "      <td>-1.215607</td>\n",
       "      <td>-1542.884644</td>\n",
       "    </tr>\n",
       "    <tr>\n",
       "      <th>3</th>\n",
       "      <td>0</td>\n",
       "      <td>-3.94</td>\n",
       "      <td>0.000022</td>\n",
       "      <td>0.000163</td>\n",
       "      <td>-0.000141</td>\n",
       "      <td>-0.872093</td>\n",
       "      <td>-644.891541</td>\n",
       "    </tr>\n",
       "    <tr>\n",
       "      <th>4</th>\n",
       "      <td>0</td>\n",
       "      <td>-3.94</td>\n",
       "      <td>0.000022</td>\n",
       "      <td>0.000300</td>\n",
       "      <td>-0.000278</td>\n",
       "      <td>-1.137908</td>\n",
       "      <td>-1273.751099</td>\n",
       "    </tr>\n",
       "  </tbody>\n",
       "</table>\n",
       "</div>"
      ],
      "text/plain": [
       "   Bins  BinCenters     YTest     YPred  YTest-YPred  log10_YTest-log10_YPred  \\\n",
       "0     0       -3.94  0.000022  0.000348    -0.000326                -1.201892   \n",
       "1     0       -3.94  0.000022  0.000330    -0.000309                -1.179616   \n",
       "2     0       -3.94  0.000022  0.000359    -0.000337                -1.215607   \n",
       "3     0       -3.94  0.000022  0.000163    -0.000141                -0.872093   \n",
       "4     0       -3.94  0.000022  0.000300    -0.000278                -1.137908   \n",
       "\n",
       "   (YTest-YPred)/YTest  \n",
       "0         -1491.812744  \n",
       "1         -1412.223022  \n",
       "2         -1542.884644  \n",
       "3          -644.891541  \n",
       "4         -1273.751099  "
      ]
     },
     "execution_count": 12,
     "metadata": {},
     "output_type": "execute_result"
    }
   ],
   "source": [
    "df.head(5)"
   ]
  },
  {
   "cell_type": "markdown",
   "metadata": {},
   "source": [
    "### Combined plot - difference in log10scale"
   ]
  },
  {
   "cell_type": "code",
   "execution_count": 18,
   "metadata": {},
   "outputs": [],
   "source": [
    "df_q = df[['BinCenters','log10_YTest-log10_YPred']].sample(frac=0.9).groupby('BinCenters').quantile([0.05, 0.5, 0.95]).unstack()\n",
    "df_q = df_q.reset_index()"
   ]
  },
  {
   "cell_type": "code",
   "execution_count": 19,
   "metadata": {},
   "outputs": [],
   "source": [
    "ym = df_q['log10_YTest-log10_YPred'][0.5] - df_q['log10_YTest-log10_YPred'][0.05]\n",
    "yp = df_q['log10_YTest-log10_YPred'][0.95] - df_q['log10_YTest-log10_YPred'][0.5]"
   ]
  },
  {
   "cell_type": "code",
   "execution_count": 20,
   "metadata": {},
   "outputs": [
    {
     "data": {
      "image/png": "[encoded data removed]",
      "text/plain": [
       "<Figure size 720x576 with 2 Axes>"
      ]
     },
     "metadata": {
      "needs_background": "light"
     },
     "output_type": "display_data"
    }
   ],
   "source": [
    "fig, (ax1, ax2) = plt.subplots(2, sharex=True, figsize=(10,8))\n",
    "fig.subplots_adjust(hspace=0, wspace=0)\n",
    "fig.suptitle('Error on Predictions by True Intensity - 95% c.l.')\n",
    "ax1.errorbar(df_q['BinCenters'], df_q['log10_YTest-log10_YPred'][0.5], yerr=(ym, yp), fmt='o', capsize=3)\n",
    "ax1.plot([-4,2], [0,0])\n",
    "ax1.set_ylabel('log10_YTest-log10_YPred')\n",
    "ax2.bar(bincenters, ynorm, width=width, color='b', alpha=0.8)\n",
    "ax2.set_xlabel('Log10 Real Intensity')\n",
    "ax2.set_ylabel('% Pixels')\n",
    "ax2.set_xlim(-4,2)\n",
    "ax1.grid()\n",
    "ax2.grid()"
   ]
  },
  {
   "cell_type": "markdown",
   "metadata": {},
   "source": [
    "This is an order og magnitude better at low intensity (compare same plot in nb 2)"
   ]
  },
  {
   "cell_type": "markdown",
   "metadata": {},
   "source": [
    "### Combined plot - relative error"
   ]
  },
  {
   "cell_type": "code",
   "execution_count": 21,
   "metadata": {},
   "outputs": [
    {
     "data": {
      "text/html": [
       "<div>\n",
       "<style scoped>\n",
       "    .dataframe tbody tr th:only-of-type {\n",
       "        vertical-align: middle;\n",
       "    }\n",
       "\n",
       "    .dataframe tbody tr th {\n",
       "        vertical-align: top;\n",
       "    }\n",
       "\n",
       "    .dataframe thead tr th {\n",
       "        text-align: left;\n",
       "    }\n",
       "</style>\n",
       "<table border=\"1\" class=\"dataframe\">\n",
       "  <thead>\n",
       "    <tr>\n",
       "      <th></th>\n",
       "      <th>BinCenters</th>\n",
       "      <th colspan=\"3\" halign=\"left\">YTest</th>\n",
       "      <th colspan=\"3\" halign=\"left\">YTest-YPred</th>\n",
       "    </tr>\n",
       "    <tr>\n",
       "      <th></th>\n",
       "      <th></th>\n",
       "      <th>0.05</th>\n",
       "      <th>0.5</th>\n",
       "      <th>0.95</th>\n",
       "      <th>0.05</th>\n",
       "      <th>0.5</th>\n",
       "      <th>0.95</th>\n",
       "    </tr>\n",
       "  </thead>\n",
       "  <tbody>\n",
       "    <tr>\n",
       "      <th>0</th>\n",
       "      <td>-3.94</td>\n",
       "      <td>0.000044</td>\n",
       "      <td>0.000099</td>\n",
       "      <td>0.000130</td>\n",
       "      <td>-0.000829</td>\n",
       "      <td>-0.000310</td>\n",
       "      <td>-0.000099</td>\n",
       "    </tr>\n",
       "    <tr>\n",
       "      <th>1</th>\n",
       "      <td>-3.82</td>\n",
       "      <td>0.000134</td>\n",
       "      <td>0.000155</td>\n",
       "      <td>0.000172</td>\n",
       "      <td>-0.000743</td>\n",
       "      <td>-0.000260</td>\n",
       "      <td>-0.000055</td>\n",
       "    </tr>\n",
       "    <tr>\n",
       "      <th>2</th>\n",
       "      <td>-3.70</td>\n",
       "      <td>0.000177</td>\n",
       "      <td>0.000204</td>\n",
       "      <td>0.000227</td>\n",
       "      <td>-0.000702</td>\n",
       "      <td>-0.000218</td>\n",
       "      <td>-0.000011</td>\n",
       "    </tr>\n",
       "    <tr>\n",
       "      <th>3</th>\n",
       "      <td>-3.58</td>\n",
       "      <td>0.000234</td>\n",
       "      <td>0.000270</td>\n",
       "      <td>0.000299</td>\n",
       "      <td>-0.000654</td>\n",
       "      <td>-0.000165</td>\n",
       "      <td>0.000045</td>\n",
       "    </tr>\n",
       "    <tr>\n",
       "      <th>4</th>\n",
       "      <td>-3.46</td>\n",
       "      <td>0.000308</td>\n",
       "      <td>0.000353</td>\n",
       "      <td>0.000394</td>\n",
       "      <td>-0.000611</td>\n",
       "      <td>-0.000095</td>\n",
       "      <td>0.000119</td>\n",
       "    </tr>\n",
       "    <tr>\n",
       "      <th>5</th>\n",
       "      <td>-3.34</td>\n",
       "      <td>0.000404</td>\n",
       "      <td>0.000460</td>\n",
       "      <td>0.000518</td>\n",
       "      <td>-0.000582</td>\n",
       "      <td>-0.000005</td>\n",
       "      <td>0.000218</td>\n",
       "    </tr>\n",
       "    <tr>\n",
       "      <th>6</th>\n",
       "      <td>-3.22</td>\n",
       "      <td>0.000531</td>\n",
       "      <td>0.000596</td>\n",
       "      <td>0.000680</td>\n",
       "      <td>-0.000622</td>\n",
       "      <td>0.000105</td>\n",
       "      <td>0.000347</td>\n",
       "    </tr>\n",
       "    <tr>\n",
       "      <th>7</th>\n",
       "      <td>-3.10</td>\n",
       "      <td>0.000698</td>\n",
       "      <td>0.000769</td>\n",
       "      <td>0.000891</td>\n",
       "      <td>-0.000844</td>\n",
       "      <td>0.000225</td>\n",
       "      <td>0.000511</td>\n",
       "    </tr>\n",
       "    <tr>\n",
       "      <th>8</th>\n",
       "      <td>-2.98</td>\n",
       "      <td>0.000920</td>\n",
       "      <td>0.001010</td>\n",
       "      <td>0.001177</td>\n",
       "      <td>-0.001387</td>\n",
       "      <td>0.000104</td>\n",
       "      <td>0.000692</td>\n",
       "    </tr>\n",
       "    <tr>\n",
       "      <th>9</th>\n",
       "      <td>-2.86</td>\n",
       "      <td>0.001220</td>\n",
       "      <td>0.001392</td>\n",
       "      <td>0.001566</td>\n",
       "      <td>-0.001888</td>\n",
       "      <td>-0.000185</td>\n",
       "      <td>0.000643</td>\n",
       "    </tr>\n",
       "  </tbody>\n",
       "</table>\n",
       "</div>"
      ],
      "text/plain": [
       "  BinCenters     YTest                     YTest-YPred                    \n",
       "                  0.05       0.5      0.95        0.05       0.5      0.95\n",
       "0      -3.94  0.000044  0.000099  0.000130   -0.000829 -0.000310 -0.000099\n",
       "1      -3.82  0.000134  0.000155  0.000172   -0.000743 -0.000260 -0.000055\n",
       "2      -3.70  0.000177  0.000204  0.000227   -0.000702 -0.000218 -0.000011\n",
       "3      -3.58  0.000234  0.000270  0.000299   -0.000654 -0.000165  0.000045\n",
       "4      -3.46  0.000308  0.000353  0.000394   -0.000611 -0.000095  0.000119\n",
       "5      -3.34  0.000404  0.000460  0.000518   -0.000582 -0.000005  0.000218\n",
       "6      -3.22  0.000531  0.000596  0.000680   -0.000622  0.000105  0.000347\n",
       "7      -3.10  0.000698  0.000769  0.000891   -0.000844  0.000225  0.000511\n",
       "8      -2.98  0.000920  0.001010  0.001177   -0.001387  0.000104  0.000692\n",
       "9      -2.86  0.001220  0.001392  0.001566   -0.001888 -0.000185  0.000643"
      ]
     },
     "execution_count": 21,
     "metadata": {},
     "output_type": "execute_result"
    }
   ],
   "source": [
    "df_q2 = df[['BinCenters','YTest', 'YTest-YPred']].groupby('BinCenters').quantile([0.05, 0.5, 0.95]).unstack()\n",
    "df_q2 = df_q2.reset_index()\n",
    "df_q2[:10]"
   ]
  },
  {
   "cell_type": "code",
   "execution_count": 22,
   "metadata": {},
   "outputs": [
    {
     "data": {
      "image/png": "[encoded data removed]",
      "text/plain": [
       "<Figure size 720x576 with 2 Axes>"
      ]
     },
     "metadata": {
      "needs_background": "light"
     },
     "output_type": "display_data"
    }
   ],
   "source": [
    "Y_percent =  df_q2['YTest-YPred'][0.5]/df_q2['YTest'][0.5]\n",
    "ym = (df_q2['YTest-YPred'][0.5] - df_q2['YTest-YPred'][0.05])/df_q2['YTest'][0.5]\n",
    "yp = (df_q2['YTest-YPred'][0.95] - df_q2['YTest-YPred'][0.5])/df_q2['YTest'][0.5]\n",
    "fig, (ax1, ax2) = plt.subplots(2, sharex=True, figsize=(10,8))\n",
    "fig.subplots_adjust(hspace=0, wspace=0)\n",
    "fig.suptitle('Relative Error on Predictions by True Intensity - 95% c.l.')\n",
    "ax1.errorbar(df_q2['BinCenters'], \n",
    "             df_q2['YTest-YPred'][0.5], yerr=(ym, yp), fmt='o', capsize=3)\n",
    "ax1.plot([-10,5], [0,0])\n",
    "ax1.set_ylim(-10,5)\n",
    "ax1.set_ylabel('(YTest-YPred)/YTest')\n",
    "ax2.bar(bincenters, ynorm, width=width, color='b', alpha=0.8)\n",
    "ax2.set_xlabel('Log10 Real Intensity')\n",
    "ax2.set_ylabel('% Pixels')\n",
    "ax2.set_xlim(-4,1.5)\n",
    "ax1.grid()\n",
    "ax2.grid()"
   ]
  },
  {
   "cell_type": "markdown",
   "metadata": {},
   "source": [
    "Similar error as exp 20 at high intensity but much better at low intensity"
   ]
  },
  {
   "cell_type": "markdown",
   "metadata": {},
   "source": [
    "### Absolute error"
   ]
  },
  {
   "cell_type": "code",
   "execution_count": 26,
   "metadata": {},
   "outputs": [
    {
     "data": {
      "image/png": "[encoded data removed]",
      "text/plain": [
       "<Figure size 720x576 with 2 Axes>"
      ]
     },
     "metadata": {
      "needs_background": "light"
     },
     "output_type": "display_data"
    }
   ],
   "source": [
    "ym = df_q2['YTest-YPred'][0.5] - df_q2['YTest-YPred'][0.05]\n",
    "yp = df_q2['YTest-YPred'][0.95] - df_q2['YTest-YPred'][0.5]\n",
    "logym = np.log10(ym)\n",
    "logyp = np.log10(yp)\n",
    "fig, (ax1, ax2) = plt.subplots(2, sharex=True, figsize=(10,8))\n",
    "fig.subplots_adjust(hspace=0, wspace=0)\n",
    "fig.suptitle('Absolute Error on Predictions by True Intensity - 95% c.l.')\n",
    "ax1.errorbar(df_q2['BinCenters'], \n",
    "             df_q2['YTest-YPred'][0.5], yerr=(ym, yp), fmt='o', capsize=3)\n",
    "ax1.plot([-4,2], [0,0])\n",
    "ax1.set_ylim(-15,10)\n",
    "ax1.set_ylabel('YTest-YPred')\n",
    "ax2.bar(bincenters, ynorm, width=width, color='b', alpha=0.8)\n",
    "ax2.set_xlabel('Log10 Real Intensity')\n",
    "ax2.set_ylabel('% Pixels')\n",
    "ax2.set_xlim(-4,2)\n",
    "ax1.grid()\n",
    "ax2.grid()"
   ]
  },
  {
   "cell_type": "markdown",
   "metadata": {},
   "source": [
    "Errors on hight intensity seems even larger when using root scaling, \n",
    "but overal absolute error comparison doesn't allow to see what happens on more relevant scales"
   ]
  },
  {
   "cell_type": "markdown",
   "metadata": {},
   "source": [
    "### Try overlapping curves"
   ]
  },
  {
   "cell_type": "code",
   "execution_count": 31,
   "metadata": {},
   "outputs": [],
   "source": [
    "# For details about how these predictions have been calculated refer to the the notebook \n",
    "# flares/experiments/02_train_on_flares.ipynb\n",
    "results20_path = '/fdl_sdo_data/bucket/EXPERIMENT_RESULTS/VIRTUAL_TELESCOPE/vale_exp_20/'\n",
    "pred20_on20 = results20_path + '0600_vale_exp_20_train_predictions.npy'\n",
    "\n",
    "Y20 = np.load(pred20_on20)\n",
    "shape = Y20.shape\n",
    "Y20_test = Y20[:,:,0:int(shape[2]/2),:]\n",
    "Y20_pred = Y20[:,:,int(shape[2]/2):,:]"
   ]
  },
  {
   "cell_type": "code",
   "execution_count": 32,
   "metadata": {},
   "outputs": [],
   "source": [
    "Y20_test = Y20_test.flatten()\n",
    "Y20_pred = Y20_pred.flatten()\n",
    "idx = np.argsort(Y20_test)\n",
    "Y20_test = Y20_test[idx]\n",
    "Y20_pred = Y20_pred[idx]"
   ]
  },
  {
   "cell_type": "code",
   "execution_count": 33,
   "metadata": {},
   "outputs": [],
   "source": [
    "mask1 = Y20_test > 0\n",
    "Y20_test = Y20_test[mask1]\n",
    "Y20_pred = Y20_pred[mask1]"
   ]
  },
  {
   "cell_type": "code",
   "execution_count": 34,
   "metadata": {},
   "outputs": [],
   "source": [
    "# this will take several minutes, we're on purpose reusing the bins of the previous histogram\n",
    "i = 0\n",
    "l_bins20= []\n",
    "l_bincenters20 = []\n",
    "for val in Y20_test:\n",
    "    if np.log10(val) <= binEdges[i+1]:\n",
    "        l_bins20.append(i)\n",
    "    else:\n",
    "        i=i+1\n",
    "        l_bins20.append(i)\n",
    "    l_bincenters20.append(bincenters[i])"
   ]
  },
  {
   "cell_type": "code",
   "execution_count": 44,
   "metadata": {},
   "outputs": [
    {
     "name": "stderr",
     "output_type": "stream",
     "text": [
      "/opt/anaconda3/lib/python3.7/site-packages/ipykernel_launcher.py:3: RuntimeWarning: divide by zero encountered in log10\n",
      "  This is separate from the ipykernel package so we can avoid doing imports until\n"
     ]
    }
   ],
   "source": [
    "df20 = pd.DataFrame({'Bins':l_bins20, 'BinCenters':l_bincenters20, 'YTest':Y20_test,'YPred':Y20_pred})\n",
    "df20['YTest-YPred'] = df20.YTest - df20.YPred\n",
    "df20['log10_YTest-log10_YPred'] = np.log10(df20.YTest) - np.log10(df20.YPred)\n",
    "df20.replace([np.inf, -np.inf], np.nan, inplace=True)\n",
    "df20.dropna(inplace=True)\n",
    "df20['(YTest-YPred)/YTest'] = (df20.YTest - df20.YPred)/df20.YTest*100"
   ]
  },
  {
   "cell_type": "code",
   "execution_count": 45,
   "metadata": {},
   "outputs": [],
   "source": [
    "df20_q = df20[['BinCenters','log10_YTest-log10_YPred']].sample(frac=0.9).groupby('BinCenters').quantile([0.05, 0.5, 0.95]).unstack()\n",
    "df20_q = df20_q.reset_index()"
   ]
  },
  {
   "cell_type": "code",
   "execution_count": 49,
   "metadata": {},
   "outputs": [],
   "source": [
    "ym20 = df20_q['log10_YTest-log10_YPred'][0.5] - df20_q['log10_YTest-log10_YPred'][0.05]\n",
    "yp20 = df20_q['log10_YTest-log10_YPred'][0.95] - df20_q['log10_YTest-log10_YPred'][0.5]\n",
    "ym = df_q['log10_YTest-log10_YPred'][0.5] - df_q['log10_YTest-log10_YPred'][0.05]\n",
    "yp = df_q['log10_YTest-log10_YPred'][0.95] - df_q['log10_YTest-log10_YPred'][0.5]"
   ]
  },
  {
   "cell_type": "code",
   "execution_count": 59,
   "metadata": {},
   "outputs": [
    {
     "data": {
      "image/png": "[encoded data removed]",
      "text/plain": [
       "<Figure size 720x576 with 2 Axes>"
      ]
     },
     "metadata": {
      "needs_background": "light"
     },
     "output_type": "display_data"
    }
   ],
   "source": [
    "fig, (ax1, ax2) = plt.subplots(2, sharex=True, figsize=(10,8))\n",
    "fig.subplots_adjust(hspace=0, wspace=0)\n",
    "fig.suptitle('Error on Predictions by True Intensity - 95% c.l.')\n",
    "ax1.errorbar(df_q['BinCenters'], df_q['log10_YTest-log10_YPred'][0.5], yerr=(ym, yp), fmt='o', capsize=3,\n",
    "            label='root scaling')\n",
    "ax1.errorbar(df20_q['BinCenters'], df20_q['log10_YTest-log10_YPred'][0.5], yerr=(ym20, yp20), fmt='o', \n",
    "             capsize=3, color='green', label='no scaling')\n",
    "ax1.plot([-4,2], [0,0])\n",
    "ax1.legend()\n",
    "ax1.set_ylabel('log10_YTest-log10_YPred')\n",
    "ax2.bar(bincenters, ynorm, width=width, color='b', alpha=0.8)\n",
    "ax2.set_xlabel('Log10 Real Intensity')\n",
    "ax2.set_ylabel('% Pixels')\n",
    "ax2.set_xlim(-4,2)\n",
    "ax1.grid()\n",
    "ax2.grid()"
   ]
  },
  {
   "cell_type": "code",
   "execution_count": 60,
   "metadata": {},
   "outputs": [
    {
     "data": {
      "image/png": "[encoded data removed]",
      "text/plain": [
       "<Figure size 720x576 with 2 Axes>"
      ]
     },
     "metadata": {
      "needs_background": "light"
     },
     "output_type": "display_data"
    }
   ],
   "source": [
    "fig, (ax1, ax2) = plt.subplots(2, sharex=True, figsize=(10,8))\n",
    "fig.subplots_adjust(hspace=0, wspace=0)\n",
    "fig.suptitle('Error on Predictions by True Intensity - 95% c.l.')\n",
    "#ax1.errorbar(df_q['BinCenters'], df_q['log10_YTest-log10_YPred'][0.5], yerr=(ym, yp), fmt='o', capsize=3,\n",
    "#            label='root scaling')\n",
    "#ax1.errorbar(df20_q['BinCenters'], df20_q['log10_YTest-log10_YPred'][0.5], yerr=(ym20, yp20), fmt='o', \n",
    "#             capsize=3, color='green', label='no scaling')\n",
    "ax1.fill_between(df_q['BinCenters'], df_q['log10_YTest-log10_YPred'][0.05], df_q['log10_YTest-log10_YPred'][0.95],\n",
    "                 label='root scaling', color='blue', alpha=0.2)\n",
    "ax1.fill_between(df20_q['BinCenters'], df20_q['log10_YTest-log10_YPred'][0.05], \n",
    "                 df20_q['log10_YTest-log10_YPred'][0.95], label='no scaling', alpha=0.2, color='green')\n",
    "ax1.plot([-4,2], [0,0])\n",
    "ax1.legend()\n",
    "ax1.set_ylabel('log10_YTest-log10_YPred')\n",
    "ax2.bar(bincenters, ynorm, width=width, color='b', alpha=0.8)\n",
    "ax2.set_xlabel('Log10 Real Intensity')\n",
    "ax2.set_ylabel('% Pixels')\n",
    "ax2.set_xlim(-4,2)\n",
    "ax1.grid()\n",
    "ax2.grid()"
   ]
  },
  {
   "cell_type": "code",
   "execution_count": null,
   "metadata": {},
   "outputs": [],
   "source": []
  }
 ],
 "metadata": {
  "kernelspec": {
   "display_name": "Python 3",
   "language": "python",
   "name": "python3"
  },
  "language_info": {
   "codemirror_mode": {
    "name": "ipython",
    "version": 3
   },
   "file_extension": ".py",
   "mimetype": "text/x-python",
   "name": "python",
   "nbconvert_exporter": "python",
   "pygments_lexer": "ipython3",
   "version": "3.7.4"
  }
 },
 "nbformat": 4,
 "nbformat_minor": 4
}
