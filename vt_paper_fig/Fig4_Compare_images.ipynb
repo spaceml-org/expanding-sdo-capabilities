{
 "cells": [
  {
   "cell_type": "markdown",
   "metadata": {},
   "source": [
    "# Real vs Synthetic Images"
   ]
  },
  {
   "cell_type": "markdown",
   "metadata": {},
   "source": [
    "In this notebook we compare synthetic and ground truth images for the 4 channels in a quiet day and in correspondence of a flare"
   ]
  },
  {
   "cell_type": "code",
   "execution_count": 139,
   "metadata": {},
   "outputs": [],
   "source": [
    "import numpy as np\n",
    "import pandas as pd\n",
    "from collections import OrderedDict\n",
    "from typing import Dict\n",
    "import matplotlib.pyplot as plt\n",
    "import matplotlib as mpl\n",
    "import seaborn as sns\n",
    "from torch.utils.data import DataLoader\n",
    "import torch\n",
    "\n",
    "from sunpy.visualization.colormaps import cm\n",
    "\n",
    "from sdo.datasets.sdo_dataset import SDO_Dataset\n",
    "from sdo.datasets.virtual_telescope_sdo_dataset import VirtualTelescopeSDO_Dataset\n",
    "from sdo.models.vt_models.vt_unet import VT_UnetGenerator"
   ]
  },
  {
   "cell_type": "code",
   "execution_count": 150,
   "metadata": {},
   "outputs": [],
   "source": [
    "def compute_predictions(timestamp :str , ch_dict, model_key) -> Dict:\n",
    "    datetime = [[timestamp, timestamp]]\n",
    "    results_dict = {}\n",
    "    for ch in [\"211\", \"193\", \"171\", \"094\"]:\n",
    "        print(f\"-----{ch}------\")\n",
    "        # Load input data - we reload the data each time for convenience, the first 3 channels are\n",
    "        # assumed to be the inputs and packed in a single tensor\n",
    "        data = VirtualTelescopeSDO_Dataset(data_basedir='/fdl_sdo_data/SDOMLmm/fdl_sw/SDOMLmm', \n",
    "            data_inventory='/home/Valentina/inventory_1904.pkl', \n",
    "            instr=[\"AIA\", \"AIA\", \"AIA\", \"AIA\"],\n",
    "            num_channels = 4,\n",
    "            channels=ch_dicts[ch][\"channels\"],\n",
    "            datetime_range = datetime_range,\n",
    "            resolution=512,\n",
    "            )\n",
    "\n",
    "        if len(data) < 1:\n",
    "            print(\"Date not found\")\n",
    "\n",
    "        # Load model - each channel combination has a model with different weights\n",
    "        model_path = results_path + ch_dicts[ch][model_key]\n",
    "        model = VT_UnetGenerator(input_shape=[3, 512, 512])\n",
    "        state_dict = torch.load(model_path)\n",
    "        new_state_dict = OrderedDict()\n",
    "        for k, v in state_dict.items():\n",
    "            name = k.replace(\"module.\", \"\") \n",
    "            new_state_dict[name] = v\n",
    "        model.load_state_dict(new_state_dict, strict=False)\n",
    "        model.eval();\n",
    "\n",
    "        # Compute prediction\n",
    "        input_chs = data[0][0].unsqueeze(0)\n",
    "        output = model(input_chs).detach().numpy().reshape(512, 512)\n",
    "        gt_img = data[0][1].detach().numpy().reshape(512, 512)\n",
    "\n",
    "        results_dict[ch] =  {\"gt\": gt_img, \"pred\": output, \"input\": input_chs}\n",
    "    return results_dict"
   ]
  },
  {
   "cell_type": "code",
   "execution_count": 145,
   "metadata": {},
   "outputs": [],
   "source": [
    "def plot_4ch_grid(results_dict: Dict, ch_dict: Dict) -> plt.Figure:\n",
    "    fig, ax = plt.subplots(4, 3, figsize=(15,15))\n",
    "    i = 0\n",
    "    for ch in [\"211\", \"193\", \"171\", \"094\"]:\n",
    "        gt_img = results_dict[ch][\"gt\"]\n",
    "        pred = results_dict[ch][\"pred\"]\n",
    "        cmap = ch_dicts[ch][\"cmap\"]\n",
    "        if ch in [\"211\", \"171\"]:\n",
    "            vmin1 = vim2 = 0\n",
    "            vmax1 = vmax2 = 3\n",
    "            vmin3 = -0.8\n",
    "            vmax3= 0.8\n",
    "        elif ch == \"193\":\n",
    "            vmin1 = vim2 = 0\n",
    "            vmax1 = vmax2 = 3\n",
    "            vmin3 = -0.8\n",
    "            vmax3= 3\n",
    "        elif ch == \"094\":\n",
    "            vmin1 = vmin2 = 0\n",
    "            vmax1 = 100\n",
    "            vmax2 = 0.1\n",
    "            vmin3 = -0.8\n",
    "            vmax3= 3\n",
    "        ax[i, 0].imshow(gt_img, cmap=cmap, origin='lower', vmin=vmin1, vmax= vmax1)\n",
    "        ax[i, 1].imshow(pred, cmap=cmap, origin='lower', vmin=vmin2, vmax= vmax2)\n",
    "        ax[i, 2].imshow(pred - gt_img, cmap='seismic', origin='lower', vmin=vmin3, vmax=vmax3)\n",
    "        i = i + 1\n",
    "    plt.setp(ax, xticks=[], yticks=[])\n",
    "    plt.show()\n",
    "    return fig"
   ]
  },
  {
   "cell_type": "code",
   "execution_count": 154,
   "metadata": {},
   "outputs": [],
   "source": [
    "results_path = '/fdl_sdo_data/bucket2/EXPERIMENT_RESULTS/VIRTUAL_TELESCOPE/'\n",
    "\n",
    "ch_dict = {\"211\": {\"model_nr\": 'vale_exp_20/0600_vale_exp_20_model.pth',\n",
    "                    \"model_root\": 'vale_exp_23/0600_vale_exp_23_model.pth',\n",
    "                    \"channels\": [\"0094\", \"0193\", \"0171\", \"0211\"],\n",
    "                    \"cmap\": cm.cmlist.get(\"sdoaia211\"),\n",
    "                   }\n",
    "            ,\n",
    "            \"193\": {\"model_nr\": '/vale_exp_13bis/0600_vale_exp_13bis_model.pth',\n",
    "                    \"model_root\": 'vale_exp_25/0600_vale_exp_25_model.pth',\n",
    "                    \"channels\": [\"0211\", \"0094\", \"0171\", \"0193\"],\n",
    "                    \"cmap\": cm.cmlist.get(\"sdoaia193\"),\n",
    "                   }\n",
    "            ,\n",
    "            \"171\": {\"model_nr\": '/vale_exp_14bis/0600_vale_exp_14bis_model.pth',\n",
    "                    \"model_root\": 'vale_exp_26/0600_vale_exp_26_model.pth',\n",
    "                    \"channels\": [\"0094\", \"0193\", \"0211\", \"0171\"],\n",
    "                    \"cmap\": cm.cmlist.get(\"sdoaia171\")\n",
    "                   }\n",
    "            ,\n",
    "            \"094\": {\"model_nr\": '/vale_exp_18/0600_vale_exp_18_model.pth',\n",
    "                    \"model_root\": 'vale_exp_27/0400_vale_exp_27_model.pth',\n",
    "                    \"channels\": [\"0193\", \"0171\", \"0211\", \"0094\"],\n",
    "                    \"cmap\": cm.cmlist.get(\"sdoaia094\")}\n",
    "           }"
   ]
  },
  {
   "cell_type": "markdown",
   "metadata": {},
   "source": [
    "## Images on quiet Sun"
   ]
  },
  {
   "cell_type": "code",
   "execution_count": 147,
   "metadata": {},
   "outputs": [],
   "source": [
    "quiet_day = '2011-02-10 00:00:00'"
   ]
  },
  {
   "cell_type": "markdown",
   "metadata": {},
   "source": [
    "### Compute predictions"
   ]
  },
  {
   "cell_type": "code",
   "execution_count": null,
   "metadata": {},
   "outputs": [
    {
     "name": "stdout",
     "output_type": "stream",
     "text": [
      "-----211------\n"
     ]
    },
    {
     "name": "stderr",
     "output_type": "stream",
     "text": [
      "/home/Valentina/expanding-sdo-capabilities/src/sdo/datasets/dates_selection.py:77: SettingWithCopyWarning: \n",
      "A value is trying to be set on a copy of a slice from a DataFrame.\n",
      "Try using .loc[row_indexer,col_indexer] = value instead\n",
      "\n",
      "See the caveats in the documentation: http://pandas.pydata.org/pandas-docs/stable/indexing.html#indexing-view-versus-copy\n",
      "  sel_df['date'] = sel_df.apply(from_row_to_date, axis=1)\n",
      "/opt/anaconda3/lib/python3.7/site-packages/pandas/core/frame.py:6701: FutureWarning: Sorting because non-concatenation axis is not aligned. A future version\n",
      "of pandas will change to not sort by default.\n",
      "\n",
      "To accept the future behavior, pass 'sort=False'.\n",
      "\n",
      "To retain the current behavior and silence the warning, pass 'sort=True'.\n",
      "\n",
      "  sort=sort)\n"
     ]
    },
    {
     "name": "stdout",
     "output_type": "stream",
     "text": [
      "-----193------\n"
     ]
    },
    {
     "name": "stderr",
     "output_type": "stream",
     "text": [
      "/home/Valentina/expanding-sdo-capabilities/src/sdo/datasets/dates_selection.py:77: SettingWithCopyWarning: \n",
      "A value is trying to be set on a copy of a slice from a DataFrame.\n",
      "Try using .loc[row_indexer,col_indexer] = value instead\n",
      "\n",
      "See the caveats in the documentation: http://pandas.pydata.org/pandas-docs/stable/indexing.html#indexing-view-versus-copy\n",
      "  sel_df['date'] = sel_df.apply(from_row_to_date, axis=1)\n",
      "/opt/anaconda3/lib/python3.7/site-packages/pandas/core/frame.py:6701: FutureWarning: Sorting because non-concatenation axis is not aligned. A future version\n",
      "of pandas will change to not sort by default.\n",
      "\n",
      "To accept the future behavior, pass 'sort=False'.\n",
      "\n",
      "To retain the current behavior and silence the warning, pass 'sort=True'.\n",
      "\n",
      "  sort=sort)\n"
     ]
    },
    {
     "name": "stdout",
     "output_type": "stream",
     "text": [
      "-----171------\n"
     ]
    },
    {
     "name": "stderr",
     "output_type": "stream",
     "text": [
      "/home/Valentina/expanding-sdo-capabilities/src/sdo/datasets/dates_selection.py:77: SettingWithCopyWarning: \n",
      "A value is trying to be set on a copy of a slice from a DataFrame.\n",
      "Try using .loc[row_indexer,col_indexer] = value instead\n",
      "\n",
      "See the caveats in the documentation: http://pandas.pydata.org/pandas-docs/stable/indexing.html#indexing-view-versus-copy\n",
      "  sel_df['date'] = sel_df.apply(from_row_to_date, axis=1)\n",
      "/opt/anaconda3/lib/python3.7/site-packages/pandas/core/frame.py:6701: FutureWarning: Sorting because non-concatenation axis is not aligned. A future version\n",
      "of pandas will change to not sort by default.\n",
      "\n",
      "To accept the future behavior, pass 'sort=False'.\n",
      "\n",
      "To retain the current behavior and silence the warning, pass 'sort=True'.\n",
      "\n",
      "  sort=sort)\n"
     ]
    }
   ],
   "source": [
    "nr_results_dict = compute_predictions(quiet_day, ch_dict, \"model_nr\")"
   ]
  },
  {
   "cell_type": "code",
   "execution_count": null,
   "metadata": {},
   "outputs": [],
   "source": [
    "root_results_dict = compute_predictions(quiet_day, ch_dict, \"model_root\")"
   ]
  },
  {
   "cell_type": "markdown",
   "metadata": {},
   "source": [
    "### Plot images"
   ]
  },
  {
   "cell_type": "code",
   "execution_count": null,
   "metadata": {},
   "outputs": [],
   "source": [
    "fig = plot_4ch_grid(nr_results_dict, ch_dict)"
   ]
  },
  {
   "cell_type": "code",
   "execution_count": null,
   "metadata": {},
   "outputs": [],
   "source": [
    "fig = plot_4ch_grid(root_results_dict, ch_dict)"
   ]
  },
  {
   "cell_type": "markdown",
   "metadata": {},
   "source": [
    "## Images on active Sun"
   ]
  },
  {
   "cell_type": "code",
   "execution_count": null,
   "metadata": {},
   "outputs": [],
   "source": [
    "active_day = '2011-02-15 02:00:00'"
   ]
  },
  {
   "cell_type": "markdown",
   "metadata": {},
   "source": [
    "### Compute predictions"
   ]
  },
  {
   "cell_type": "code",
   "execution_count": null,
   "metadata": {},
   "outputs": [],
   "source": [
    "nr_results_dict_active = compute_predictions(active_day, ch_dict, \"model_nr\")"
   ]
  },
  {
   "cell_type": "code",
   "execution_count": null,
   "metadata": {},
   "outputs": [],
   "source": [
    "root_results_dict_active = compute_predictions(active_day, ch_dict, \"model_root\")"
   ]
  },
  {
   "cell_type": "markdown",
   "metadata": {},
   "source": [
    "### Plot images"
   ]
  },
  {
   "cell_type": "code",
   "execution_count": null,
   "metadata": {},
   "outputs": [],
   "source": [
    "fig = plot_4ch_grid(nr_results_dict_active, ch_dict)"
   ]
  },
  {
   "cell_type": "code",
   "execution_count": null,
   "metadata": {},
   "outputs": [],
   "source": [
    "fig = plot_4ch_grid(root_results_dict_active, ch_dict)"
   ]
  },
  {
   "cell_type": "code",
   "execution_count": null,
   "metadata": {},
   "outputs": [],
   "source": []
  }
 ],
 "metadata": {
  "kernelspec": {
   "display_name": "Python [conda env:root] *",
   "language": "python",
   "name": "conda-root-py"
  },
  "language_info": {
   "codemirror_mode": {
    "name": "ipython",
    "version": 3
   },
   "file_extension": ".py",
   "mimetype": "text/x-python",
   "name": "python",
   "nbconvert_exporter": "python",
   "pygments_lexer": "ipython3",
   "version": "3.7.4"
  }
 },
 "nbformat": 4,
 "nbformat_minor": 4
}
