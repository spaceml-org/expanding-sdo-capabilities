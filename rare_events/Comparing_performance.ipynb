{
 "cells": [
  {
   "cell_type": "markdown",
   "metadata": {},
   "source": [
    "# Performance Comparison"
   ]
  },
  {
   "cell_type": "markdown",
   "metadata": {},
   "source": [
    "In this script we want to compare the performance of model 20 and 21 on:\n",
    "* the test set of experiment 20 (standard test set, no flares included)\n",
    "* the test set of experiment 21 (test set containing only flares)\n",
    "* a test set taken from the not saturated dataset"
   ]
  },
  {
   "cell_type": "code",
   "execution_count": null,
   "metadata": {},
   "outputs": [],
   "source": [
    "from collections import OrderedDict\n",
    "\n",
    "from sdo.datasets.sdo_dataset import SDO_Dataset\n",
    "from sdo.datasets.virtual_telescope_sdo_dataset import VirtualTelescopeSDO_Dataset\n",
    "from sdo.models.vt_models.vt_unet import VT_UnetGenerator"
   ]
  },
  {
   "cell_type": "markdown",
   "metadata": {},
   "source": [
    "### Set variables"
   ]
  },
  {
   "cell_type": "code",
   "execution_count": 4,
   "metadata": {},
   "outputs": [],
   "source": [
    "path20 = '/fdl_sdo_data/bucket/EXPERIMENT_RESULTS/VIRTUAL_TELESCOPE/vale_exp_20/0600_vale_exp_20_optimizer.pth'\n",
    "path21 = '/fdl_sdo_data/bucket/EXPERIMENT_RESULTS/VIRTUAL_TELESCOPE/vale_exp_21/0600_vale_exp_21_optimizer.pth'\n",
    "data_inventory =  '/home/Valentina/inventory_1904.pkl'\n",
    "data_basedir='/fdl_sdo_data/SDOMLmm/fdl_sw/SDOMLmm'"
   ]
  },
  {
   "cell_type": "markdown",
   "metadata": {},
   "source": [
    "### Create test data loader"
   ]
  },
  {
   "cell_type": "code",
   "execution_count": null,
   "metadata": {},
   "outputs": [],
   "source": [
    "test_dataset_20 = VirtualTelescopeSDO_Dataset(data_basedir=data_basedir, \n",
    "    data_inventory=data_inventory , \n",
    "    instr=[\"AIA\", \"AIA\", \"AIA\", \"AIA\"], \n",
    "    num_channels = 4,\n",
    "    channels=[\"0094\", \"0193\", \"0171\", \"0211\"],\n",
    "    datetime_range = datetime_range,\n",
    "    resolution=512,\n",
    "    subsample=1,\n",
    "    test=False,\n",
    "    test_ratio=0.0,\n",
    "    shuffle=False,\n",
    "    normalization=0,\n",
    "    scaling=True,\n",
    "    apodize=False,\n",
    "    holdout=False)\n",
    "\n",
    "test_dataset_21 = VirtualTelescopeSDO_Dataset(data_basedir=data_basedir, \n",
    "    data_inventory=data_inventory , \n",
    "    instr=[\"AIA\", \"AIA\", \"AIA\", \"AIA\"], \n",
    "    num_channels = 4,\n",
    "    channels=[\"0094\", \"0193\", \"0171\", \"0211\"],\n",
    "    datetime_range = datetime_range,\n",
    "    resolution=512,\n",
    "    subsample=1,\n",
    "    test=False,\n",
    "    test_ratio=0.0,\n",
    "    shuffle=False,\n",
    "    normalization=0,\n",
    "    scaling=True,\n",
    "    apodize=False,\n",
    "    holdout=False)"
   ]
  },
  {
   "cell_type": "code",
   "execution_count": null,
   "metadata": {},
   "outputs": [],
   "source": [
    "test_loader_20 = create_dataloader(test_dataset_20, batch_size=128, num_dataloader_workers=8, \n",
    "                                   shuffle=False, train=True)"
   ]
  },
  {
   "cell_type": "code",
   "execution_count": null,
   "metadata": {},
   "outputs": [],
   "source": [
    "test_loader_21 = create_dataloader(test_dataset_21, batch_size=128, num_dataloader_workers=8, \n",
    "                                   shuffle=False, train=True)"
   ]
  },
  {
   "cell_type": "markdown",
   "metadata": {},
   "source": [
    "### Load models"
   ]
  },
  {
   "cell_type": "code",
   "execution_count": null,
   "metadata": {},
   "outputs": [],
   "source": [
    "model20 = VT_UnetGenerator(input_shape=[3, 512, 512])\n",
    "state_dict = torch.load(path20)\n",
    "new_state_dict = OrderedDict()\n",
    "for k, v in state_dict.items():\n",
    "    name = k.replace(\"module.\", \"\") \n",
    "    new_state_dict[name] = v\n",
    "model20.load_state_dict(new_state_dict)\n",
    "model20.eval();"
   ]
  },
  {
   "cell_type": "code",
   "execution_count": null,
   "metadata": {},
   "outputs": [],
   "source": [
    "model21 = VT_UnetGenerator(input_shape=[3, 512, 512])\n",
    "state_dict = torch.load(path21)\n",
    "new_state_dict = OrderedDict()\n",
    "for k, v in state_dict.items():\n",
    "    name = k.replace(\"module.\", \"\") \n",
    "    new_state_dict[name] = v\n",
    "model21.load_state_dict(new_state_dict)\n",
    "model21.eval();"
   ]
  }
 ],
 "metadata": {
  "kernelspec": {
   "display_name": "Python 3",
   "language": "python",
   "name": "python3"
  },
  "language_info": {
   "codemirror_mode": {
    "name": "ipython",
    "version": 3
   },
   "file_extension": ".py",
   "mimetype": "text/x-python",
   "name": "python",
   "nbconvert_exporter": "python",
   "pygments_lexer": "ipython3",
   "version": "3.7.4"
  }
 },
 "nbformat": 4,
 "nbformat_minor": 4
}
